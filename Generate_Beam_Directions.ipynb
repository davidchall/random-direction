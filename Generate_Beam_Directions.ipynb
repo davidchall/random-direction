{
 "cells": [
  {
   "cell_type": "code",
   "execution_count": 1,
   "metadata": {
    "collapsed": true
   },
   "outputs": [],
   "source": [
    "import numpy as np\n",
    "import matplotlib.pyplot as plt\n",
    "import pint\n",
    "ureg = pint.UnitRegistry()\n",
    "\n",
    "from plotting import plot_unit_sphere\n",
    "from marsaglia import UniformBeam, GaussianBeam"
   ]
  },
  {
   "cell_type": "markdown",
   "metadata": {},
   "source": [
    "# The goal\n",
    "I'm a developer of the [TOPAS](http://topasmc.org) Monte Carlo simulation tool for radiotherapy research. To improve our beam source model, I wanted a method to randomly generate uniformly distributed directions that are constrained to a certain region of the unit sphere, centered upon the z-axis (the beam direction). Generated particles are assigned these random directions before they are transported through the simulated geometry, in order to account for beam divergence. In fact, the final goal was a normal distribution of directions, but I knew I needed a uniform distribution to verify that the method worked.\n",
    "\n",
    "In our previous situation, we had two methods for generating random directions:\n",
    "\n",
    "1. **isotropic source**: \n",
    "    to generate points uniformly across the entire unit sphere, we sample $u \\in [-1, 1]$ and $\\phi \\in [0, 2\\pi)$ from uniform distributions. We then apply the following coordinate transformation (note that $u = \\cos\\theta$)\n",
    "    $$\\begin{align}\n",
    "    x &= \\sqrt{1-u^2} \\cos\\phi \\\\\n",
    "    y &= \\sqrt{1-u^2} \\sin\\phi \\\\\n",
    "    z &= u\n",
    "    \\end{align}$$\n",
    "    .\n",
    "2. **beam source**:\n",
    "    to generate points normally distributed around the z-axis upon the unit sphere, we sample $u_x = \\mathcal{N}(0, \\cos\\theta_x)$ and $u_y = \\mathcal{N}(0, \\cos\\theta_y)$ from normal distributions. Note that $\\theta_x$ and $\\theta_y$ are user parameters that determine the beam divergence in each plane. We then apply the following coordinate transformation\n",
    "    $$\\begin{align}\n",
    "    x &= \\cos^{-1} u_x \\\\\n",
    "    y &= \\cos^{-1} u_y \\\\\n",
    "    z &= \\sqrt{1 - u_x^2 - u_y^2}\n",
    "    \\end{align}$$\n",
    "\n",
    "The problems with this second method are that it cannot generate uniformly distributed directions and that it is only valid in the small-angle approximation, $\\theta_x \\ll 1$ and $\\theta_y \\ll 1$. I wanted a method that could resolve this problems, but our isotropic method did not naturally extend to beams with a direction."
   ]
  },
  {
   "cell_type": "code",
   "execution_count": 2,
   "metadata": {
    "collapsed": false
   },
   "outputs": [
    {
     "data": {
      "text/plain": [
       "<function __main__.plot_hist>"
      ]
     },
     "execution_count": 2,
     "metadata": {},
     "output_type": "execute_result"
    },
    {
     "data": {
      "image/png": "[encoded data removed]",
      "text/plain": [
       "<matplotlib.figure.Figure at 0x10dd84198>"
      ]
     },
     "metadata": {},
     "output_type": "display_data"
    }
   ],
   "source": [
    "%matplotlib inline\n",
    "from ipywidgets import interact, FloatSlider, ToggleButtons\n",
    "from IPython.display import display\n",
    "\n",
    "fig = plt.figure()\n",
    "plt.xlabel('Theta [degrees]')\n",
    "plt.ylabel('Phi [degrees]')\n",
    "\n",
    "def plot_hist(theta_x, theta_y, source_type):\n",
    "    source = source_type(theta_x*ureg.degree, theta_y*ureg.degree)\n",
    "    x,y,z = source.generate(100000)\n",
    "    \n",
    "    theta = np.arccos(z)\n",
    "    phi = np.arctan2(y, x)\n",
    "    wgt = 1./np.sin(theta)  # account for how solid area depends on phi\n",
    "    \n",
    "    plt.hist2d(np.rad2deg(theta), np.rad2deg(phi), bins=[40,40], range=[[0, 180], [-180, 180]], weights=wgt, normed=True)\n",
    "\n",
    "    \n",
    "w_theta_x = FloatSlider(min=1e-3, max=180, value=30, description='$\\\\theta_x$', continuous_update=False)\n",
    "w_theta_y = FloatSlider(min=1e-3, max=180, value=60, description='$\\\\theta_y$', continuous_update=False)\n",
    "w_source = ToggleButtons(options={'Uniform': UniformBeam, 'Gaussian': GaussianBeam}, value=UniformBeam, description='Beam:')\n",
    "    \n",
    "interact(plot_hist, theta_x=w_theta_x, theta_y=w_theta_y, source_type=w_source)"
   ]
  },
  {
   "cell_type": "markdown",
   "metadata": {},
   "source": [
    "# Marsaglia transform\n",
    "Several different methods of uniformly sampling points on the unit sphere are described in this [Wolfram MathWorld page](http://mathworld.wolfram.com/SpherePointPicking.html). For my purposes, the most useful was a method derived by Marsaglia (1972).\n",
    "\n",
    "First, points are generated within a unit circle by uniformly sampling $x_1 \\in [-1, 1]$ and $x_2 \\in [-1, 1]$ and rejecting points with $x_1^2 + x_2^2 \\ge 1$. Then the radial distance of each point is used to determine the polar angle of the direction upon the unit sphere. This is achieved with the following coordinate transformation\n",
    "\n",
    "$$\\begin{align}\n",
    "x &= 2 x_1 \\sqrt{1 - x_1^2 - x_2^2} \\\\\n",
    "y &= 2 x_2 \\sqrt{1 - x_1^2 - x_2^2} \\\\\n",
    "z &= 1 - 2(x_1^2 + x_2^2)\n",
    "\\end{align}$$\n",
    "\n",
    "\n",
    "Here is a helpful visualization of the Marsaglia transformation, courtesy of this [StackOverflow answer](http://math.stackexchange.com/a/838336). The red circle originally has a radius of 1 and is transformed to the south pole. The purple circle originally has a radius of $\\sqrt{0.5} \\approx 0.71$ and is transformed to the equator. A uniform distribution on the unit disc is transformed into a uniform distribution on the unit sphere.\n",
    "![Animation of Marsaglia transformation](http://i.stack.imgur.com/qxPG3.gif)\n",
    "\n",
    "Marsaglia, G. \"Choosing a Point from the Surface of a Sphere.\" *Ann. Math. Stat.* **43**, 645-646, 1972."
   ]
  },
  {
   "cell_type": "markdown",
   "metadata": {},
   "source": [
    "# A uniform beam direction generator"
   ]
  },
  {
   "cell_type": "code",
   "execution_count": 3,
   "metadata": {
    "collapsed": false
   },
   "outputs": [
    {
     "name": "stdout",
     "output_type": "stream",
     "text": [
      "Efficiency = 79.2%\n",
      "Predicted efficiency for UniformBeamSource is 78.5%\n"
     ]
    }
   ],
   "source": [
    "source = UniformBeam(60*ureg.degree, 120*ureg.degree)\n",
    "x,y,z = source.generate(1000)\n",
    "\n",
    "print('Efficiency = {:.1%}'.format(source.efficiency()))\n",
    "print('Predicted efficiency for UniformBeamSource is {:.1%}'.format(np.pi/4))"
   ]
  },
  {
   "cell_type": "code",
   "execution_count": 4,
   "metadata": {
    "collapsed": false
   },
   "outputs": [
    {
     "data": {
      "application/javascript": [
       "/* Put everything inside the global mpl namespace */\n",
       "window.mpl = {};\n",
       "\n",
       "mpl.get_websocket_type = function() {\n",
       "    if (typeof(WebSocket) !== 'undefined') {\n",
       "        return WebSocket;\n",
       "    } else if (typeof(MozWebSocket) !== 'undefined') {\n",
       "        return MozWebSocket;\n",
       "    } else {\n",
       "        alert('Your browser does not have WebSocket support.' +\n",
       "              'Please try Chrome, Safari or Firefox ≥ 6. ' +\n",
       "              'Firefox 4 and 5 are also supported but you ' +\n",
       "              'have to enable WebSockets in about:config.');\n",
       "    };\n",
       "}\n",
       "\n",
       "mpl.figure = function(figure_id, websocket, ondownload, parent_element) {\n",
       "    this.id = figure_id;\n",
       "\n",
       "    this.ws = websocket;\n",
       "\n",
       "    this.supports_binary = (this.ws.binaryType != undefined);\n",
       "\n",
       "    if (!this.supports_binary) {\n",
       "        var warnings = document.getElementById(\"mpl-warnings\");\n",
       "        if (warnings) {\n",
       "            warnings.style.display = 'block';\n",
       "            warnings.textContent = (\n",
       "                \"This browser does not support binary websocket messages. \" +\n",
       "                    \"Performance may be slow.\");\n",
       "        }\n",
       "    }\n",
       "\n",
       "    this.imageObj = new Image();\n",
       "\n",
       "    this.context = undefined;\n",
       "    this.message = undefined;\n",
       "    this.canvas = undefined;\n",
       "    this.rubberband_canvas = undefined;\n",
       "    this.rubberband_context = undefined;\n",
       "    this.format_dropdown = undefined;\n",
       "\n",
       "    this.image_mode = 'full';\n",
       "\n",
       "    this.root = $('<div/>');\n",
       "    this._root_extra_style(this.root)\n",
       "    this.root.attr('style', 'display: inline-block');\n",
       "\n",
       "    $(parent_element).append(this.root);\n",
       "\n",
       "    this._init_header(this);\n",
       "    this._init_canvas(this);\n",
       "    this._init_toolbar(this);\n",
       "\n",
       "    var fig = this;\n",
       "\n",
       "    this.waiting = false;\n",
       "\n",
       "    this.ws.onopen =  function () {\n",
       "            fig.send_message(\"supports_binary\", {value: fig.supports_binary});\n",
       "            fig.send_message(\"send_image_mode\", {});\n",
       "            fig.send_message(\"refresh\", {});\n",
       "        }\n",
       "\n",
       "    this.imageObj.onload = function() {\n",
       "            if (fig.image_mode == 'full') {\n",
       "                // Full images could contain transparency (where diff images\n",
       "                // almost always do), so we need to clear the canvas so that\n",
       "                // there is no ghosting.\n",
       "                fig.context.clearRect(0, 0, fig.canvas.width, fig.canvas.height);\n",
       "            }\n",
       "            fig.context.drawImage(fig.imageObj, 0, 0);\n",
       "        };\n",
       "\n",
       "    this.imageObj.onunload = function() {\n",
       "        this.ws.close();\n",
       "    }\n",
       "\n",
       "    this.ws.onmessage = this._make_on_message_function(this);\n",
       "\n",
       "    this.ondownload = ondownload;\n",
       "}\n",
       "\n",
       "mpl.figure.prototype._init_header = function() {\n",
       "    var titlebar = $(\n",
       "        '<div class=\"ui-dialog-titlebar ui-widget-header ui-corner-all ' +\n",
       "        'ui-helper-clearfix\"/>');\n",
       "    var titletext = $(\n",
       "        '<div class=\"ui-dialog-title\" style=\"width: 100%; ' +\n",
       "        'text-align: center; padding: 3px;\"/>');\n",
       "    titlebar.append(titletext)\n",
       "    this.root.append(titlebar);\n",
       "    this.header = titletext[0];\n",
       "}\n",
       "\n",
       "\n",
       "\n",
       "mpl.figure.prototype._canvas_extra_style = function(canvas_div) {\n",
       "\n",
       "}\n",
       "\n",
       "\n",
       "mpl.figure.prototype._root_extra_style = function(canvas_div) {\n",
       "\n",
       "}\n",
       "\n",
       "mpl.figure.prototype._init_canvas = function() {\n",
       "    var fig = this;\n",
       "\n",
       "    var canvas_div = $('<div/>');\n",
       "\n",
       "    canvas_div.attr('style', 'position: relative; clear: both; outline: 0');\n",
       "\n",
       "    function canvas_keyboard_event(event) {\n",
       "        return fig.key_event(event, event['data']);\n",
       "    }\n",
       "\n",
       "    canvas_div.keydown('key_press', canvas_keyboard_event);\n",
       "    canvas_div.keyup('key_release', canvas_keyboard_event);\n",
       "    this.canvas_div = canvas_div\n",
       "    this._canvas_extra_style(canvas_div)\n",
       "    this.root.append(canvas_div);\n",
       "\n",
       "    var canvas = $('<canvas/>');\n",
       "    canvas.addClass('mpl-canvas');\n",
       "    canvas.attr('style', \"left: 0; top: 0; z-index: 0; outline: 0\")\n",
       "\n",
       "    this.canvas = canvas[0];\n",
       "    this.context = canvas[0].getContext(\"2d\");\n",
       "\n",
       "    var rubberband = $('<canvas/>');\n",
       "    rubberband.attr('style', \"position: absolute; left: 0; top: 0; z-index: 1;\")\n",
       "\n",
       "    var pass_mouse_events = true;\n",
       "\n",
       "    canvas_div.resizable({\n",
       "        start: function(event, ui) {\n",
       "            pass_mouse_events = false;\n",
       "        },\n",
       "        resize: function(event, ui) {\n",
       "            fig.request_resize(ui.size.width, ui.size.height);\n",
       "        },\n",
       "        stop: function(event, ui) {\n",
       "            pass_mouse_events = true;\n",
       "            fig.request_resize(ui.size.width, ui.size.height);\n",
       "        },\n",
       "    });\n",
       "\n",
       "    function mouse_event_fn(event) {\n",
       "        if (pass_mouse_events)\n",
       "            return fig.mouse_event(event, event['data']);\n",
       "    }\n",
       "\n",
       "    rubberband.mousedown('button_press', mouse_event_fn);\n",
       "    rubberband.mouseup('button_release', mouse_event_fn);\n",
       "    // Throttle sequential mouse events to 1 every 20ms.\n",
       "    rubberband.mousemove('motion_notify', mouse_event_fn);\n",
       "\n",
       "    rubberband.mouseenter('figure_enter', mouse_event_fn);\n",
       "    rubberband.mouseleave('figure_leave', mouse_event_fn);\n",
       "\n",
       "    canvas_div.on(\"wheel\", function (event) {\n",
       "        event = event.originalEvent;\n",
       "        event['data'] = 'scroll'\n",
       "        if (event.deltaY < 0) {\n",
       "            event.step = 1;\n",
       "        } else {\n",
       "            event.step = -1;\n",
       "        }\n",
       "        mouse_event_fn(event);\n",
       "    });\n",
       "\n",
       "    canvas_div.append(canvas);\n",
       "    canvas_div.append(rubberband);\n",
       "\n",
       "    this.rubberband = rubberband;\n",
       "    this.rubberband_canvas = rubberband[0];\n",
       "    this.rubberband_context = rubberband[0].getContext(\"2d\");\n",
       "    this.rubberband_context.strokeStyle = \"#000000\";\n",
       "\n",
       "    this._resize_canvas = function(width, height) {\n",
       "        // Keep the size of the canvas, canvas container, and rubber band\n",
       "        // canvas in synch.\n",
       "        canvas_div.css('width', width)\n",
       "        canvas_div.css('height', height)\n",
       "\n",
       "        canvas.attr('width', width);\n",
       "        canvas.attr('height', height);\n",
       "\n",
       "        rubberband.attr('width', width);\n",
       "        rubberband.attr('height', height);\n",
       "    }\n",
       "\n",
       "    // Set the figure to an initial 600x600px, this will subsequently be updated\n",
       "    // upon first draw.\n",
       "    this._resize_canvas(600, 600);\n",
       "\n",
       "    // Disable right mouse context menu.\n",
       "    $(this.rubberband_canvas).bind(\"contextmenu\",function(e){\n",
       "        return false;\n",
       "    });\n",
       "\n",
       "    function set_focus () {\n",
       "        canvas.focus();\n",
       "        canvas_div.focus();\n",
       "    }\n",
       "\n",
       "    window.setTimeout(set_focus, 100);\n",
       "}\n",
       "\n",
       "mpl.figure.prototype._init_toolbar = function() {\n",
       "    var fig = this;\n",
       "\n",
       "    var nav_element = $('<div/>')\n",
       "    nav_element.attr('style', 'width: 100%');\n",
       "    this.root.append(nav_element);\n",
       "\n",
       "    // Define a callback function for later on.\n",
       "    function toolbar_event(event) {\n",
       "        return fig.toolbar_button_onclick(event['data']);\n",
       "    }\n",
       "    function toolbar_mouse_event(event) {\n",
       "        return fig.toolbar_button_onmouseover(event['data']);\n",
       "    }\n",
       "\n",
       "    for(var toolbar_ind in mpl.toolbar_items) {\n",
       "        var name = mpl.toolbar_items[toolbar_ind][0];\n",
       "        var tooltip = mpl.toolbar_items[toolbar_ind][1];\n",
       "        var image = mpl.toolbar_items[toolbar_ind][2];\n",
       "        var method_name = mpl.toolbar_items[toolbar_ind][3];\n",
       "\n",
       "        if (!name) {\n",
       "            // put a spacer in here.\n",
       "            continue;\n",
       "        }\n",
       "        var button = $('<button/>');\n",
       "        button.addClass('ui-button ui-widget ui-state-default ui-corner-all ' +\n",
       "                        'ui-button-icon-only');\n",
       "        button.attr('role', 'button');\n",
       "        button.attr('aria-disabled', 'false');\n",
       "        button.click(method_name, toolbar_event);\n",
       "        button.mouseover(tooltip, toolbar_mouse_event);\n",
       "\n",
       "        var icon_img = $('<span/>');\n",
       "        icon_img.addClass('ui-button-icon-primary ui-icon');\n",
       "        icon_img.addClass(image);\n",
       "        icon_img.addClass('ui-corner-all');\n",
       "\n",
       "        var tooltip_span = $('<span/>');\n",
       "        tooltip_span.addClass('ui-button-text');\n",
       "        tooltip_span.html(tooltip);\n",
       "\n",
       "        button.append(icon_img);\n",
       "        button.append(tooltip_span);\n",
       "\n",
       "        nav_element.append(button);\n",
       "    }\n",
       "\n",
       "    var fmt_picker_span = $('<span/>');\n",
       "\n",
       "    var fmt_picker = $('<select/>');\n",
       "    fmt_picker.addClass('mpl-toolbar-option ui-widget ui-widget-content');\n",
       "    fmt_picker_span.append(fmt_picker);\n",
       "    nav_element.append(fmt_picker_span);\n",
       "    this.format_dropdown = fmt_picker[0];\n",
       "\n",
       "    for (var ind in mpl.extensions) {\n",
       "        var fmt = mpl.extensions[ind];\n",
       "        var option = $(\n",
       "            '<option/>', {selected: fmt === mpl.default_extension}).html(fmt);\n",
       "        fmt_picker.append(option)\n",
       "    }\n",
       "\n",
       "    // Add hover states to the ui-buttons\n",
       "    $( \".ui-button\" ).hover(\n",
       "        function() { $(this).addClass(\"ui-state-hover\");},\n",
       "        function() { $(this).removeClass(\"ui-state-hover\");}\n",
       "    );\n",
       "\n",
       "    var status_bar = $('<span class=\"mpl-message\"/>');\n",
       "    nav_element.append(status_bar);\n",
       "    this.message = status_bar[0];\n",
       "}\n",
       "\n",
       "mpl.figure.prototype.request_resize = function(x_pixels, y_pixels) {\n",
       "    // Request matplotlib to resize the figure. Matplotlib will then trigger a resize in the client,\n",
       "    // which will in turn request a refresh of the image.\n",
       "    this.send_message('resize', {'width': x_pixels, 'height': y_pixels});\n",
       "}\n",
       "\n",
       "mpl.figure.prototype.send_message = function(type, properties) {\n",
       "    properties['type'] = type;\n",
       "    properties['figure_id'] = this.id;\n",
       "    this.ws.send(JSON.stringify(properties));\n",
       "}\n",
       "\n",
       "mpl.figure.prototype.send_draw_message = function() {\n",
       "    if (!this.waiting) {\n",
       "        this.waiting = true;\n",
       "        this.ws.send(JSON.stringify({type: \"draw\", figure_id: this.id}));\n",
       "    }\n",
       "}\n",
       "\n",
       "\n",
       "mpl.figure.prototype.handle_save = function(fig, msg) {\n",
       "    var format_dropdown = fig.format_dropdown;\n",
       "    var format = format_dropdown.options[format_dropdown.selectedIndex].value;\n",
       "    fig.ondownload(fig, format);\n",
       "}\n",
       "\n",
       "\n",
       "mpl.figure.prototype.handle_resize = function(fig, msg) {\n",
       "    var size = msg['size'];\n",
       "    if (size[0] != fig.canvas.width || size[1] != fig.canvas.height) {\n",
       "        fig._resize_canvas(size[0], size[1]);\n",
       "        fig.send_message(\"refresh\", {});\n",
       "    };\n",
       "}\n",
       "\n",
       "mpl.figure.prototype.handle_rubberband = function(fig, msg) {\n",
       "    var x0 = msg['x0'];\n",
       "    var y0 = fig.canvas.height - msg['y0'];\n",
       "    var x1 = msg['x1'];\n",
       "    var y1 = fig.canvas.height - msg['y1'];\n",
       "    x0 = Math.floor(x0) + 0.5;\n",
       "    y0 = Math.floor(y0) + 0.5;\n",
       "    x1 = Math.floor(x1) + 0.5;\n",
       "    y1 = Math.floor(y1) + 0.5;\n",
       "    var min_x = Math.min(x0, x1);\n",
       "    var min_y = Math.min(y0, y1);\n",
       "    var width = Math.abs(x1 - x0);\n",
       "    var height = Math.abs(y1 - y0);\n",
       "\n",
       "    fig.rubberband_context.clearRect(\n",
       "        0, 0, fig.canvas.width, fig.canvas.height);\n",
       "\n",
       "    fig.rubberband_context.strokeRect(min_x, min_y, width, height);\n",
       "}\n",
       "\n",
       "mpl.figure.prototype.handle_figure_label = function(fig, msg) {\n",
       "    // Updates the figure title.\n",
       "    fig.header.textContent = msg['label'];\n",
       "}\n",
       "\n",
       "mpl.figure.prototype.handle_cursor = function(fig, msg) {\n",
       "    var cursor = msg['cursor'];\n",
       "    switch(cursor)\n",
       "    {\n",
       "    case 0:\n",
       "        cursor = 'pointer';\n",
       "        break;\n",
       "    case 1:\n",
       "        cursor = 'default';\n",
       "        break;\n",
       "    case 2:\n",
       "        cursor = 'crosshair';\n",
       "        break;\n",
       "    case 3:\n",
       "        cursor = 'move';\n",
       "        break;\n",
       "    }\n",
       "    fig.rubberband_canvas.style.cursor = cursor;\n",
       "}\n",
       "\n",
       "mpl.figure.prototype.handle_message = function(fig, msg) {\n",
       "    fig.message.textContent = msg['message'];\n",
       "}\n",
       "\n",
       "mpl.figure.prototype.handle_draw = function(fig, msg) {\n",
       "    // Request the server to send over a new figure.\n",
       "    fig.send_draw_message();\n",
       "}\n",
       "\n",
       "mpl.figure.prototype.handle_image_mode = function(fig, msg) {\n",
       "    fig.image_mode = msg['mode'];\n",
       "}\n",
       "\n",
       "mpl.figure.prototype.updated_canvas_event = function() {\n",
       "    // Called whenever the canvas gets updated.\n",
       "    this.send_message(\"ack\", {});\n",
       "}\n",
       "\n",
       "// A function to construct a web socket function for onmessage handling.\n",
       "// Called in the figure constructor.\n",
       "mpl.figure.prototype._make_on_message_function = function(fig) {\n",
       "    return function socket_on_message(evt) {\n",
       "        if (evt.data instanceof Blob) {\n",
       "            /* FIXME: We get \"Resource interpreted as Image but\n",
       "             * transferred with MIME type text/plain:\" errors on\n",
       "             * Chrome.  But how to set the MIME type?  It doesn't seem\n",
       "             * to be part of the websocket stream */\n",
       "            evt.data.type = \"image/png\";\n",
       "\n",
       "            /* Free the memory for the previous frames */\n",
       "            if (fig.imageObj.src) {\n",
       "                (window.URL || window.webkitURL).revokeObjectURL(\n",
       "                    fig.imageObj.src);\n",
       "            }\n",
       "\n",
       "            fig.imageObj.src = (window.URL || window.webkitURL).createObjectURL(\n",
       "                evt.data);\n",
       "            fig.updated_canvas_event();\n",
       "            fig.waiting = false;\n",
       "            return;\n",
       "        }\n",
       "        else if (typeof evt.data === 'string' && evt.data.slice(0, 21) == \"data:image/png;base64\") {\n",
       "            fig.imageObj.src = evt.data;\n",
       "            fig.updated_canvas_event();\n",
       "            fig.waiting = false;\n",
       "            return;\n",
       "        }\n",
       "\n",
       "        var msg = JSON.parse(evt.data);\n",
       "        var msg_type = msg['type'];\n",
       "\n",
       "        // Call the  \"handle_{type}\" callback, which takes\n",
       "        // the figure and JSON message as its only arguments.\n",
       "        try {\n",
       "            var callback = fig[\"handle_\" + msg_type];\n",
       "        } catch (e) {\n",
       "            console.log(\"No handler for the '\" + msg_type + \"' message type: \", msg);\n",
       "            return;\n",
       "        }\n",
       "\n",
       "        if (callback) {\n",
       "            try {\n",
       "                // console.log(\"Handling '\" + msg_type + \"' message: \", msg);\n",
       "                callback(fig, msg);\n",
       "            } catch (e) {\n",
       "                console.log(\"Exception inside the 'handler_\" + msg_type + \"' callback:\", e, e.stack, msg);\n",
       "            }\n",
       "        }\n",
       "    };\n",
       "}\n",
       "\n",
       "// from http://stackoverflow.com/questions/1114465/getting-mouse-location-in-canvas\n",
       "mpl.findpos = function(e) {\n",
       "    //this section is from http://www.quirksmode.org/js/events_properties.html\n",
       "    var targ;\n",
       "    if (!e)\n",
       "        e = window.event;\n",
       "    if (e.target)\n",
       "        targ = e.target;\n",
       "    else if (e.srcElement)\n",
       "        targ = e.srcElement;\n",
       "    if (targ.nodeType == 3) // defeat Safari bug\n",
       "        targ = targ.parentNode;\n",
       "\n",
       "    // jQuery normalizes the pageX and pageY\n",
       "    // pageX,Y are the mouse positions relative to the document\n",
       "    // offset() returns the position of the element relative to the document\n",
       "    var x = e.pageX - $(targ).offset().left;\n",
       "    var y = e.pageY - $(targ).offset().top;\n",
       "\n",
       "    return {\"x\": x, \"y\": y};\n",
       "};\n",
       "\n",
       "/*\n",
       " * return a copy of an object with only non-object keys\n",
       " * we need this to avoid circular references\n",
       " * http://stackoverflow.com/a/24161582/3208463\n",
       " */\n",
       "function simpleKeys (original) {\n",
       "  return Object.keys(original).reduce(function (obj, key) {\n",
       "    if (typeof original[key] !== 'object')\n",
       "        obj[key] = original[key]\n",
       "    return obj;\n",
       "  }, {});\n",
       "}\n",
       "\n",
       "mpl.figure.prototype.mouse_event = function(event, name) {\n",
       "    var canvas_pos = mpl.findpos(event)\n",
       "\n",
       "    if (name === 'button_press')\n",
       "    {\n",
       "        this.canvas.focus();\n",
       "        this.canvas_div.focus();\n",
       "    }\n",
       "\n",
       "    var x = canvas_pos.x;\n",
       "    var y = canvas_pos.y;\n",
       "\n",
       "    this.send_message(name, {x: x, y: y, button: event.button,\n",
       "                             step: event.step,\n",
       "                             guiEvent: simpleKeys(event)});\n",
       "\n",
       "    /* This prevents the web browser from automatically changing to\n",
       "     * the text insertion cursor when the button is pressed.  We want\n",
       "     * to control all of the cursor setting manually through the\n",
       "     * 'cursor' event from matplotlib */\n",
       "    event.preventDefault();\n",
       "    return false;\n",
       "}\n",
       "\n",
       "mpl.figure.prototype._key_event_extra = function(event, name) {\n",
       "    // Handle any extra behaviour associated with a key event\n",
       "}\n",
       "\n",
       "mpl.figure.prototype.key_event = function(event, name) {\n",
       "\n",
       "    // Prevent repeat events\n",
       "    if (name == 'key_press')\n",
       "    {\n",
       "        if (event.which === this._key)\n",
       "            return;\n",
       "        else\n",
       "            this._key = event.which;\n",
       "    }\n",
       "    if (name == 'key_release')\n",
       "        this._key = null;\n",
       "\n",
       "    var value = '';\n",
       "    if (event.ctrlKey && event.which != 17)\n",
       "        value += \"ctrl+\";\n",
       "    if (event.altKey && event.which != 18)\n",
       "        value += \"alt+\";\n",
       "    if (event.shiftKey && event.which != 16)\n",
       "        value += \"shift+\";\n",
       "\n",
       "    value += 'k';\n",
       "    value += event.which.toString();\n",
       "\n",
       "    this._key_event_extra(event, name);\n",
       "\n",
       "    this.send_message(name, {key: value,\n",
       "                             guiEvent: simpleKeys(event)});\n",
       "    return false;\n",
       "}\n",
       "\n",
       "mpl.figure.prototype.toolbar_button_onclick = function(name) {\n",
       "    if (name == 'download') {\n",
       "        this.handle_save(this, null);\n",
       "    } else {\n",
       "        this.send_message(\"toolbar_button\", {name: name});\n",
       "    }\n",
       "};\n",
       "\n",
       "mpl.figure.prototype.toolbar_button_onmouseover = function(tooltip) {\n",
       "    this.message.textContent = tooltip;\n",
       "};\n",
       "mpl.toolbar_items = [[\"Home\", \"Reset original view\", \"fa fa-home icon-home\", \"home\"], [\"Back\", \"Back to  previous view\", \"fa fa-arrow-left icon-arrow-left\", \"back\"], [\"Forward\", \"Forward to next view\", \"fa fa-arrow-right icon-arrow-right\", \"forward\"], [\"\", \"\", \"\", \"\"], [\"Pan\", \"Pan axes with left mouse, zoom with right\", \"fa fa-arrows icon-move\", \"pan\"], [\"Zoom\", \"Zoom to rectangle\", \"fa fa-square-o icon-check-empty\", \"zoom\"], [\"\", \"\", \"\", \"\"], [\"Download\", \"Download plot\", \"fa fa-floppy-o icon-save\", \"download\"]];\n",
       "\n",
       "mpl.extensions = [\"eps\", \"jpeg\", \"pdf\", \"png\", \"ps\", \"raw\", \"svg\", \"tif\"];\n",
       "\n",
       "mpl.default_extension = \"png\";var comm_websocket_adapter = function(comm) {\n",
       "    // Create a \"websocket\"-like object which calls the given IPython comm\n",
       "    // object with the appropriate methods. Currently this is a non binary\n",
       "    // socket, so there is still some room for performance tuning.\n",
       "    var ws = {};\n",
       "\n",
       "    ws.close = function() {\n",
       "        comm.close()\n",
       "    };\n",
       "    ws.send = function(m) {\n",
       "        //console.log('sending', m);\n",
       "        comm.send(m);\n",
       "    };\n",
       "    // Register the callback with on_msg.\n",
       "    comm.on_msg(function(msg) {\n",
       "        //console.log('receiving', msg['content']['data'], msg);\n",
       "        // Pass the mpl event to the overriden (by mpl) onmessage function.\n",
       "        ws.onmessage(msg['content']['data'])\n",
       "    });\n",
       "    return ws;\n",
       "}\n",
       "\n",
       "mpl.mpl_figure_comm = function(comm, msg) {\n",
       "    // This is the function which gets called when the mpl process\n",
       "    // starts-up an IPython Comm through the \"matplotlib\" channel.\n",
       "\n",
       "    var id = msg.content.data.id;\n",
       "    // Get hold of the div created by the display call when the Comm\n",
       "    // socket was opened in Python.\n",
       "    var element = $(\"#\" + id);\n",
       "    var ws_proxy = comm_websocket_adapter(comm)\n",
       "\n",
       "    function ondownload(figure, format) {\n",
       "        window.open(figure.imageObj.src);\n",
       "    }\n",
       "\n",
       "    var fig = new mpl.figure(id, ws_proxy,\n",
       "                           ondownload,\n",
       "                           element.get(0));\n",
       "\n",
       "    // Call onopen now - mpl needs it, as it is assuming we've passed it a real\n",
       "    // web socket which is closed, not our websocket->open comm proxy.\n",
       "    ws_proxy.onopen();\n",
       "\n",
       "    fig.parent_element = element.get(0);\n",
       "    fig.cell_info = mpl.find_output_cell(\"<div id='\" + id + \"'></div>\");\n",
       "    if (!fig.cell_info) {\n",
       "        console.error(\"Failed to find cell for figure\", id, fig);\n",
       "        return;\n",
       "    }\n",
       "\n",
       "    var output_index = fig.cell_info[2]\n",
       "    var cell = fig.cell_info[0];\n",
       "\n",
       "};\n",
       "\n",
       "mpl.figure.prototype.handle_close = function(fig, msg) {\n",
       "    fig.root.unbind('remove')\n",
       "\n",
       "    // Update the output cell to use the data from the current canvas.\n",
       "    fig.push_to_output();\n",
       "    var dataURL = fig.canvas.toDataURL();\n",
       "    // Re-enable the keyboard manager in IPython - without this line, in FF,\n",
       "    // the notebook keyboard shortcuts fail.\n",
       "    IPython.keyboard_manager.enable()\n",
       "    $(fig.parent_element).html('<img src=\"' + dataURL + '\">');\n",
       "    fig.close_ws(fig, msg);\n",
       "}\n",
       "\n",
       "mpl.figure.prototype.close_ws = function(fig, msg){\n",
       "    fig.send_message('closing', msg);\n",
       "    // fig.ws.close()\n",
       "}\n",
       "\n",
       "mpl.figure.prototype.push_to_output = function(remove_interactive) {\n",
       "    // Turn the data on the canvas into data in the output cell.\n",
       "    var dataURL = this.canvas.toDataURL();\n",
       "    this.cell_info[1]['text/html'] = '<img src=\"' + dataURL + '\">';\n",
       "}\n",
       "\n",
       "mpl.figure.prototype.updated_canvas_event = function() {\n",
       "    // Tell IPython that the notebook contents must change.\n",
       "    IPython.notebook.set_dirty(true);\n",
       "    this.send_message(\"ack\", {});\n",
       "    var fig = this;\n",
       "    // Wait a second, then push the new image to the DOM so\n",
       "    // that it is saved nicely (might be nice to debounce this).\n",
       "    setTimeout(function () { fig.push_to_output() }, 1000);\n",
       "}\n",
       "\n",
       "mpl.figure.prototype._init_toolbar = function() {\n",
       "    var fig = this;\n",
       "\n",
       "    var nav_element = $('<div/>')\n",
       "    nav_element.attr('style', 'width: 100%');\n",
       "    this.root.append(nav_element);\n",
       "\n",
       "    // Define a callback function for later on.\n",
       "    function toolbar_event(event) {\n",
       "        return fig.toolbar_button_onclick(event['data']);\n",
       "    }\n",
       "    function toolbar_mouse_event(event) {\n",
       "        return fig.toolbar_button_onmouseover(event['data']);\n",
       "    }\n",
       "\n",
       "    for(var toolbar_ind in mpl.toolbar_items){\n",
       "        var name = mpl.toolbar_items[toolbar_ind][0];\n",
       "        var tooltip = mpl.toolbar_items[toolbar_ind][1];\n",
       "        var image = mpl.toolbar_items[toolbar_ind][2];\n",
       "        var method_name = mpl.toolbar_items[toolbar_ind][3];\n",
       "\n",
       "        if (!name) { continue; };\n",
       "\n",
       "        var button = $('<button class=\"btn btn-default\" href=\"#\" title=\"' + name + '\"><i class=\"fa ' + image + ' fa-lg\"></i></button>');\n",
       "        button.click(method_name, toolbar_event);\n",
       "        button.mouseover(tooltip, toolbar_mouse_event);\n",
       "        nav_element.append(button);\n",
       "    }\n",
       "\n",
       "    // Add the status bar.\n",
       "    var status_bar = $('<span class=\"mpl-message\" style=\"text-align:right; float: right;\"/>');\n",
       "    nav_element.append(status_bar);\n",
       "    this.message = status_bar[0];\n",
       "\n",
       "    // Add the close button to the window.\n",
       "    var buttongrp = $('<div class=\"btn-group inline pull-right\"></div>');\n",
       "    var button = $('<button class=\"btn btn-mini btn-primary\" href=\"#\" title=\"Stop Interaction\"><i class=\"fa fa-power-off icon-remove icon-large\"></i></button>');\n",
       "    button.click(function (evt) { fig.handle_close(fig, {}); } );\n",
       "    button.mouseover('Stop Interaction', toolbar_mouse_event);\n",
       "    buttongrp.append(button);\n",
       "    var titlebar = this.root.find($('.ui-dialog-titlebar'));\n",
       "    titlebar.prepend(buttongrp);\n",
       "}\n",
       "\n",
       "mpl.figure.prototype._root_extra_style = function(el){\n",
       "    var fig = this\n",
       "    el.on(\"remove\", function(){\n",
       "\tfig.close_ws(fig, {});\n",
       "    });\n",
       "}\n",
       "\n",
       "mpl.figure.prototype._canvas_extra_style = function(el){\n",
       "    // this is important to make the div 'focusable\n",
       "    el.attr('tabindex', 0)\n",
       "    // reach out to IPython and tell the keyboard manager to turn it's self\n",
       "    // off when our div gets focus\n",
       "\n",
       "    // location in version 3\n",
       "    if (IPython.notebook.keyboard_manager) {\n",
       "        IPython.notebook.keyboard_manager.register_events(el);\n",
       "    }\n",
       "    else {\n",
       "        // location in version 2\n",
       "        IPython.keyboard_manager.register_events(el);\n",
       "    }\n",
       "\n",
       "}\n",
       "\n",
       "mpl.figure.prototype._key_event_extra = function(event, name) {\n",
       "    var manager = IPython.notebook.keyboard_manager;\n",
       "    if (!manager)\n",
       "        manager = IPython.keyboard_manager;\n",
       "\n",
       "    // Check for shift+enter\n",
       "    if (event.shiftKey && event.which == 13) {\n",
       "        this.canvas_div.blur();\n",
       "        event.shiftKey = false;\n",
       "        // Send a \"J\" for go to next cell\n",
       "        event.which = 74;\n",
       "        event.keyCode = 74;\n",
       "        manager.command_mode();\n",
       "        manager.handle_keydown(event);\n",
       "    }\n",
       "}\n",
       "\n",
       "mpl.figure.prototype.handle_save = function(fig, msg) {\n",
       "    fig.ondownload(fig, null);\n",
       "}\n",
       "\n",
       "\n",
       "mpl.find_output_cell = function(html_output) {\n",
       "    // Return the cell and output element which can be found *uniquely* in the notebook.\n",
       "    // Note - this is a bit hacky, but it is done because the \"notebook_saving.Notebook\"\n",
       "    // IPython event is triggered only after the cells have been serialised, which for\n",
       "    // our purposes (turning an active figure into a static one), is too late.\n",
       "    var cells = IPython.notebook.get_cells();\n",
       "    var ncells = cells.length;\n",
       "    for (var i=0; i<ncells; i++) {\n",
       "        var cell = cells[i];\n",
       "        if (cell.cell_type === 'code'){\n",
       "            for (var j=0; j<cell.output_area.outputs.length; j++) {\n",
       "                var data = cell.output_area.outputs[j];\n",
       "                if (data.data) {\n",
       "                    // IPython >= 3 moved mimebundle to data attribute of output\n",
       "                    data = data.data;\n",
       "                }\n",
       "                if (data['text/html'] == html_output) {\n",
       "                    return [cell, data, j];\n",
       "                }\n",
       "            }\n",
       "        }\n",
       "    }\n",
       "}\n",
       "\n",
       "// Register the function which deals with the matplotlib target/channel.\n",
       "// The kernel may be null if the page has been refreshed.\n",
       "if (IPython.notebook.kernel != null) {\n",
       "    IPython.notebook.kernel.comm_manager.register_target('matplotlib', mpl.mpl_figure_comm);\n",
       "}\n"
      ],
      "text/plain": [
       "<IPython.core.display.Javascript object>"
      ]
     },
     "metadata": {},
     "output_type": "display_data"
    },
    {
     "data": {
      "text/html": [
       "<img src=\"data:image/png;base64,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\">"
      ],
      "text/plain": [
       "<IPython.core.display.HTML object>"
      ]
     },
     "metadata": {},
     "output_type": "display_data"
    },
    {
     "data": {
      "text/plain": [
       "<mpl_toolkits.mplot3d.art3d.Path3DCollection at 0x107b20c18>"
      ]
     },
     "execution_count": 4,
     "metadata": {},
     "output_type": "execute_result"
    }
   ],
   "source": [
    "%matplotlib notebook\n",
    "\n",
    "fig = plt.figure()\n",
    "ax = fig.add_subplot(111, projection='3d')\n",
    "plot_unit_sphere(ax)\n",
    "\n",
    "ax.scatter(x,y,z, c='r', s=20, edgecolors='face')"
   ]
  },
  {
   "cell_type": "markdown",
   "metadata": {},
   "source": [
    "# A bonus direction generator: Gaussian\n",
    "It is simple to extend the previous direction generator to sample a Gaussian distribution instead of a uniform distribution."
   ]
  },
  {
   "cell_type": "code",
   "execution_count": 5,
   "metadata": {
    "collapsed": false
   },
   "outputs": [
    {
     "data": {
      "application/javascript": [
       "/* Put everything inside the global mpl namespace */\n",
       "window.mpl = {};\n",
       "\n",
       "mpl.get_websocket_type = function() {\n",
       "    if (typeof(WebSocket) !== 'undefined') {\n",
       "        return WebSocket;\n",
       "    } else if (typeof(MozWebSocket) !== 'undefined') {\n",
       "        return MozWebSocket;\n",
       "    } else {\n",
       "        alert('Your browser does not have WebSocket support.' +\n",
       "              'Please try Chrome, Safari or Firefox ≥ 6. ' +\n",
       "              'Firefox 4 and 5 are also supported but you ' +\n",
       "              'have to enable WebSockets in about:config.');\n",
       "    };\n",
       "}\n",
       "\n",
       "mpl.figure = function(figure_id, websocket, ondownload, parent_element) {\n",
       "    this.id = figure_id;\n",
       "\n",
       "    this.ws = websocket;\n",
       "\n",
       "    this.supports_binary = (this.ws.binaryType != undefined);\n",
       "\n",
       "    if (!this.supports_binary) {\n",
       "        var warnings = document.getElementById(\"mpl-warnings\");\n",
       "        if (warnings) {\n",
       "            warnings.style.display = 'block';\n",
       "            warnings.textContent = (\n",
       "                \"This browser does not support binary websocket messages. \" +\n",
       "                    \"Performance may be slow.\");\n",
       "        }\n",
       "    }\n",
       "\n",
       "    this.imageObj = new Image();\n",
       "\n",
       "    this.context = undefined;\n",
       "    this.message = undefined;\n",
       "    this.canvas = undefined;\n",
       "    this.rubberband_canvas = undefined;\n",
       "    this.rubberband_context = undefined;\n",
       "    this.format_dropdown = undefined;\n",
       "\n",
       "    this.image_mode = 'full';\n",
       "\n",
       "    this.root = $('<div/>');\n",
       "    this._root_extra_style(this.root)\n",
       "    this.root.attr('style', 'display: inline-block');\n",
       "\n",
       "    $(parent_element).append(this.root);\n",
       "\n",
       "    this._init_header(this);\n",
       "    this._init_canvas(this);\n",
       "    this._init_toolbar(this);\n",
       "\n",
       "    var fig = this;\n",
       "\n",
       "    this.waiting = false;\n",
       "\n",
       "    this.ws.onopen =  function () {\n",
       "            fig.send_message(\"supports_binary\", {value: fig.supports_binary});\n",
       "            fig.send_message(\"send_image_mode\", {});\n",
       "            fig.send_message(\"refresh\", {});\n",
       "        }\n",
       "\n",
       "    this.imageObj.onload = function() {\n",
       "            if (fig.image_mode == 'full') {\n",
       "                // Full images could contain transparency (where diff images\n",
       "                // almost always do), so we need to clear the canvas so that\n",
       "                // there is no ghosting.\n",
       "                fig.context.clearRect(0, 0, fig.canvas.width, fig.canvas.height);\n",
       "            }\n",
       "            fig.context.drawImage(fig.imageObj, 0, 0);\n",
       "        };\n",
       "\n",
       "    this.imageObj.onunload = function() {\n",
       "        this.ws.close();\n",
       "    }\n",
       "\n",
       "    this.ws.onmessage = this._make_on_message_function(this);\n",
       "\n",
       "    this.ondownload = ondownload;\n",
       "}\n",
       "\n",
       "mpl.figure.prototype._init_header = function() {\n",
       "    var titlebar = $(\n",
       "        '<div class=\"ui-dialog-titlebar ui-widget-header ui-corner-all ' +\n",
       "        'ui-helper-clearfix\"/>');\n",
       "    var titletext = $(\n",
       "        '<div class=\"ui-dialog-title\" style=\"width: 100%; ' +\n",
       "        'text-align: center; padding: 3px;\"/>');\n",
       "    titlebar.append(titletext)\n",
       "    this.root.append(titlebar);\n",
       "    this.header = titletext[0];\n",
       "}\n",
       "\n",
       "\n",
       "\n",
       "mpl.figure.prototype._canvas_extra_style = function(canvas_div) {\n",
       "\n",
       "}\n",
       "\n",
       "\n",
       "mpl.figure.prototype._root_extra_style = function(canvas_div) {\n",
       "\n",
       "}\n",
       "\n",
       "mpl.figure.prototype._init_canvas = function() {\n",
       "    var fig = this;\n",
       "\n",
       "    var canvas_div = $('<div/>');\n",
       "\n",
       "    canvas_div.attr('style', 'position: relative; clear: both; outline: 0');\n",
       "\n",
       "    function canvas_keyboard_event(event) {\n",
       "        return fig.key_event(event, event['data']);\n",
       "    }\n",
       "\n",
       "    canvas_div.keydown('key_press', canvas_keyboard_event);\n",
       "    canvas_div.keyup('key_release', canvas_keyboard_event);\n",
       "    this.canvas_div = canvas_div\n",
       "    this._canvas_extra_style(canvas_div)\n",
       "    this.root.append(canvas_div);\n",
       "\n",
       "    var canvas = $('<canvas/>');\n",
       "    canvas.addClass('mpl-canvas');\n",
       "    canvas.attr('style', \"left: 0; top: 0; z-index: 0; outline: 0\")\n",
       "\n",
       "    this.canvas = canvas[0];\n",
       "    this.context = canvas[0].getContext(\"2d\");\n",
       "\n",
       "    var rubberband = $('<canvas/>');\n",
       "    rubberband.attr('style', \"position: absolute; left: 0; top: 0; z-index: 1;\")\n",
       "\n",
       "    var pass_mouse_events = true;\n",
       "\n",
       "    canvas_div.resizable({\n",
       "        start: function(event, ui) {\n",
       "            pass_mouse_events = false;\n",
       "        },\n",
       "        resize: function(event, ui) {\n",
       "            fig.request_resize(ui.size.width, ui.size.height);\n",
       "        },\n",
       "        stop: function(event, ui) {\n",
       "            pass_mouse_events = true;\n",
       "            fig.request_resize(ui.size.width, ui.size.height);\n",
       "        },\n",
       "    });\n",
       "\n",
       "    function mouse_event_fn(event) {\n",
       "        if (pass_mouse_events)\n",
       "            return fig.mouse_event(event, event['data']);\n",
       "    }\n",
       "\n",
       "    rubberband.mousedown('button_press', mouse_event_fn);\n",
       "    rubberband.mouseup('button_release', mouse_event_fn);\n",
       "    // Throttle sequential mouse events to 1 every 20ms.\n",
       "    rubberband.mousemove('motion_notify', mouse_event_fn);\n",
       "\n",
       "    rubberband.mouseenter('figure_enter', mouse_event_fn);\n",
       "    rubberband.mouseleave('figure_leave', mouse_event_fn);\n",
       "\n",
       "    canvas_div.on(\"wheel\", function (event) {\n",
       "        event = event.originalEvent;\n",
       "        event['data'] = 'scroll'\n",
       "        if (event.deltaY < 0) {\n",
       "            event.step = 1;\n",
       "        } else {\n",
       "            event.step = -1;\n",
       "        }\n",
       "        mouse_event_fn(event);\n",
       "    });\n",
       "\n",
       "    canvas_div.append(canvas);\n",
       "    canvas_div.append(rubberband);\n",
       "\n",
       "    this.rubberband = rubberband;\n",
       "    this.rubberband_canvas = rubberband[0];\n",
       "    this.rubberband_context = rubberband[0].getContext(\"2d\");\n",
       "    this.rubberband_context.strokeStyle = \"#000000\";\n",
       "\n",
       "    this._resize_canvas = function(width, height) {\n",
       "        // Keep the size of the canvas, canvas container, and rubber band\n",
       "        // canvas in synch.\n",
       "        canvas_div.css('width', width)\n",
       "        canvas_div.css('height', height)\n",
       "\n",
       "        canvas.attr('width', width);\n",
       "        canvas.attr('height', height);\n",
       "\n",
       "        rubberband.attr('width', width);\n",
       "        rubberband.attr('height', height);\n",
       "    }\n",
       "\n",
       "    // Set the figure to an initial 600x600px, this will subsequently be updated\n",
       "    // upon first draw.\n",
       "    this._resize_canvas(600, 600);\n",
       "\n",
       "    // Disable right mouse context menu.\n",
       "    $(this.rubberband_canvas).bind(\"contextmenu\",function(e){\n",
       "        return false;\n",
       "    });\n",
       "\n",
       "    function set_focus () {\n",
       "        canvas.focus();\n",
       "        canvas_div.focus();\n",
       "    }\n",
       "\n",
       "    window.setTimeout(set_focus, 100);\n",
       "}\n",
       "\n",
       "mpl.figure.prototype._init_toolbar = function() {\n",
       "    var fig = this;\n",
       "\n",
       "    var nav_element = $('<div/>')\n",
       "    nav_element.attr('style', 'width: 100%');\n",
       "    this.root.append(nav_element);\n",
       "\n",
       "    // Define a callback function for later on.\n",
       "    function toolbar_event(event) {\n",
       "        return fig.toolbar_button_onclick(event['data']);\n",
       "    }\n",
       "    function toolbar_mouse_event(event) {\n",
       "        return fig.toolbar_button_onmouseover(event['data']);\n",
       "    }\n",
       "\n",
       "    for(var toolbar_ind in mpl.toolbar_items) {\n",
       "        var name = mpl.toolbar_items[toolbar_ind][0];\n",
       "        var tooltip = mpl.toolbar_items[toolbar_ind][1];\n",
       "        var image = mpl.toolbar_items[toolbar_ind][2];\n",
       "        var method_name = mpl.toolbar_items[toolbar_ind][3];\n",
       "\n",
       "        if (!name) {\n",
       "            // put a spacer in here.\n",
       "            continue;\n",
       "        }\n",
       "        var button = $('<button/>');\n",
       "        button.addClass('ui-button ui-widget ui-state-default ui-corner-all ' +\n",
       "                        'ui-button-icon-only');\n",
       "        button.attr('role', 'button');\n",
       "        button.attr('aria-disabled', 'false');\n",
       "        button.click(method_name, toolbar_event);\n",
       "        button.mouseover(tooltip, toolbar_mouse_event);\n",
       "\n",
       "        var icon_img = $('<span/>');\n",
       "        icon_img.addClass('ui-button-icon-primary ui-icon');\n",
       "        icon_img.addClass(image);\n",
       "        icon_img.addClass('ui-corner-all');\n",
       "\n",
       "        var tooltip_span = $('<span/>');\n",
       "        tooltip_span.addClass('ui-button-text');\n",
       "        tooltip_span.html(tooltip);\n",
       "\n",
       "        button.append(icon_img);\n",
       "        button.append(tooltip_span);\n",
       "\n",
       "        nav_element.append(button);\n",
       "    }\n",
       "\n",
       "    var fmt_picker_span = $('<span/>');\n",
       "\n",
       "    var fmt_picker = $('<select/>');\n",
       "    fmt_picker.addClass('mpl-toolbar-option ui-widget ui-widget-content');\n",
       "    fmt_picker_span.append(fmt_picker);\n",
       "    nav_element.append(fmt_picker_span);\n",
       "    this.format_dropdown = fmt_picker[0];\n",
       "\n",
       "    for (var ind in mpl.extensions) {\n",
       "        var fmt = mpl.extensions[ind];\n",
       "        var option = $(\n",
       "            '<option/>', {selected: fmt === mpl.default_extension}).html(fmt);\n",
       "        fmt_picker.append(option)\n",
       "    }\n",
       "\n",
       "    // Add hover states to the ui-buttons\n",
       "    $( \".ui-button\" ).hover(\n",
       "        function() { $(this).addClass(\"ui-state-hover\");},\n",
       "        function() { $(this).removeClass(\"ui-state-hover\");}\n",
       "    );\n",
       "\n",
       "    var status_bar = $('<span class=\"mpl-message\"/>');\n",
       "    nav_element.append(status_bar);\n",
       "    this.message = status_bar[0];\n",
       "}\n",
       "\n",
       "mpl.figure.prototype.request_resize = function(x_pixels, y_pixels) {\n",
       "    // Request matplotlib to resize the figure. Matplotlib will then trigger a resize in the client,\n",
       "    // which will in turn request a refresh of the image.\n",
       "    this.send_message('resize', {'width': x_pixels, 'height': y_pixels});\n",
       "}\n",
       "\n",
       "mpl.figure.prototype.send_message = function(type, properties) {\n",
       "    properties['type'] = type;\n",
       "    properties['figure_id'] = this.id;\n",
       "    this.ws.send(JSON.stringify(properties));\n",
       "}\n",
       "\n",
       "mpl.figure.prototype.send_draw_message = function() {\n",
       "    if (!this.waiting) {\n",
       "        this.waiting = true;\n",
       "        this.ws.send(JSON.stringify({type: \"draw\", figure_id: this.id}));\n",
       "    }\n",
       "}\n",
       "\n",
       "\n",
       "mpl.figure.prototype.handle_save = function(fig, msg) {\n",
       "    var format_dropdown = fig.format_dropdown;\n",
       "    var format = format_dropdown.options[format_dropdown.selectedIndex].value;\n",
       "    fig.ondownload(fig, format);\n",
       "}\n",
       "\n",
       "\n",
       "mpl.figure.prototype.handle_resize = function(fig, msg) {\n",
       "    var size = msg['size'];\n",
       "    if (size[0] != fig.canvas.width || size[1] != fig.canvas.height) {\n",
       "        fig._resize_canvas(size[0], size[1]);\n",
       "        fig.send_message(\"refresh\", {});\n",
       "    };\n",
       "}\n",
       "\n",
       "mpl.figure.prototype.handle_rubberband = function(fig, msg) {\n",
       "    var x0 = msg['x0'];\n",
       "    var y0 = fig.canvas.height - msg['y0'];\n",
       "    var x1 = msg['x1'];\n",
       "    var y1 = fig.canvas.height - msg['y1'];\n",
       "    x0 = Math.floor(x0) + 0.5;\n",
       "    y0 = Math.floor(y0) + 0.5;\n",
       "    x1 = Math.floor(x1) + 0.5;\n",
       "    y1 = Math.floor(y1) + 0.5;\n",
       "    var min_x = Math.min(x0, x1);\n",
       "    var min_y = Math.min(y0, y1);\n",
       "    var width = Math.abs(x1 - x0);\n",
       "    var height = Math.abs(y1 - y0);\n",
       "\n",
       "    fig.rubberband_context.clearRect(\n",
       "        0, 0, fig.canvas.width, fig.canvas.height);\n",
       "\n",
       "    fig.rubberband_context.strokeRect(min_x, min_y, width, height);\n",
       "}\n",
       "\n",
       "mpl.figure.prototype.handle_figure_label = function(fig, msg) {\n",
       "    // Updates the figure title.\n",
       "    fig.header.textContent = msg['label'];\n",
       "}\n",
       "\n",
       "mpl.figure.prototype.handle_cursor = function(fig, msg) {\n",
       "    var cursor = msg['cursor'];\n",
       "    switch(cursor)\n",
       "    {\n",
       "    case 0:\n",
       "        cursor = 'pointer';\n",
       "        break;\n",
       "    case 1:\n",
       "        cursor = 'default';\n",
       "        break;\n",
       "    case 2:\n",
       "        cursor = 'crosshair';\n",
       "        break;\n",
       "    case 3:\n",
       "        cursor = 'move';\n",
       "        break;\n",
       "    }\n",
       "    fig.rubberband_canvas.style.cursor = cursor;\n",
       "}\n",
       "\n",
       "mpl.figure.prototype.handle_message = function(fig, msg) {\n",
       "    fig.message.textContent = msg['message'];\n",
       "}\n",
       "\n",
       "mpl.figure.prototype.handle_draw = function(fig, msg) {\n",
       "    // Request the server to send over a new figure.\n",
       "    fig.send_draw_message();\n",
       "}\n",
       "\n",
       "mpl.figure.prototype.handle_image_mode = function(fig, msg) {\n",
       "    fig.image_mode = msg['mode'];\n",
       "}\n",
       "\n",
       "mpl.figure.prototype.updated_canvas_event = function() {\n",
       "    // Called whenever the canvas gets updated.\n",
       "    this.send_message(\"ack\", {});\n",
       "}\n",
       "\n",
       "// A function to construct a web socket function for onmessage handling.\n",
       "// Called in the figure constructor.\n",
       "mpl.figure.prototype._make_on_message_function = function(fig) {\n",
       "    return function socket_on_message(evt) {\n",
       "        if (evt.data instanceof Blob) {\n",
       "            /* FIXME: We get \"Resource interpreted as Image but\n",
       "             * transferred with MIME type text/plain:\" errors on\n",
       "             * Chrome.  But how to set the MIME type?  It doesn't seem\n",
       "             * to be part of the websocket stream */\n",
       "            evt.data.type = \"image/png\";\n",
       "\n",
       "            /* Free the memory for the previous frames */\n",
       "            if (fig.imageObj.src) {\n",
       "                (window.URL || window.webkitURL).revokeObjectURL(\n",
       "                    fig.imageObj.src);\n",
       "            }\n",
       "\n",
       "            fig.imageObj.src = (window.URL || window.webkitURL).createObjectURL(\n",
       "                evt.data);\n",
       "            fig.updated_canvas_event();\n",
       "            fig.waiting = false;\n",
       "            return;\n",
       "        }\n",
       "        else if (typeof evt.data === 'string' && evt.data.slice(0, 21) == \"data:image/png;base64\") {\n",
       "            fig.imageObj.src = evt.data;\n",
       "            fig.updated_canvas_event();\n",
       "            fig.waiting = false;\n",
       "            return;\n",
       "        }\n",
       "\n",
       "        var msg = JSON.parse(evt.data);\n",
       "        var msg_type = msg['type'];\n",
       "\n",
       "        // Call the  \"handle_{type}\" callback, which takes\n",
       "        // the figure and JSON message as its only arguments.\n",
       "        try {\n",
       "            var callback = fig[\"handle_\" + msg_type];\n",
       "        } catch (e) {\n",
       "            console.log(\"No handler for the '\" + msg_type + \"' message type: \", msg);\n",
       "            return;\n",
       "        }\n",
       "\n",
       "        if (callback) {\n",
       "            try {\n",
       "                // console.log(\"Handling '\" + msg_type + \"' message: \", msg);\n",
       "                callback(fig, msg);\n",
       "            } catch (e) {\n",
       "                console.log(\"Exception inside the 'handler_\" + msg_type + \"' callback:\", e, e.stack, msg);\n",
       "            }\n",
       "        }\n",
       "    };\n",
       "}\n",
       "\n",
       "// from http://stackoverflow.com/questions/1114465/getting-mouse-location-in-canvas\n",
       "mpl.findpos = function(e) {\n",
       "    //this section is from http://www.quirksmode.org/js/events_properties.html\n",
       "    var targ;\n",
       "    if (!e)\n",
       "        e = window.event;\n",
       "    if (e.target)\n",
       "        targ = e.target;\n",
       "    else if (e.srcElement)\n",
       "        targ = e.srcElement;\n",
       "    if (targ.nodeType == 3) // defeat Safari bug\n",
       "        targ = targ.parentNode;\n",
       "\n",
       "    // jQuery normalizes the pageX and pageY\n",
       "    // pageX,Y are the mouse positions relative to the document\n",
       "    // offset() returns the position of the element relative to the document\n",
       "    var x = e.pageX - $(targ).offset().left;\n",
       "    var y = e.pageY - $(targ).offset().top;\n",
       "\n",
       "    return {\"x\": x, \"y\": y};\n",
       "};\n",
       "\n",
       "/*\n",
       " * return a copy of an object with only non-object keys\n",
       " * we need this to avoid circular references\n",
       " * http://stackoverflow.com/a/24161582/3208463\n",
       " */\n",
       "function simpleKeys (original) {\n",
       "  return Object.keys(original).reduce(function (obj, key) {\n",
       "    if (typeof original[key] !== 'object')\n",
       "        obj[key] = original[key]\n",
       "    return obj;\n",
       "  }, {});\n",
       "}\n",
       "\n",
       "mpl.figure.prototype.mouse_event = function(event, name) {\n",
       "    var canvas_pos = mpl.findpos(event)\n",
       "\n",
       "    if (name === 'button_press')\n",
       "    {\n",
       "        this.canvas.focus();\n",
       "        this.canvas_div.focus();\n",
       "    }\n",
       "\n",
       "    var x = canvas_pos.x;\n",
       "    var y = canvas_pos.y;\n",
       "\n",
       "    this.send_message(name, {x: x, y: y, button: event.button,\n",
       "                             step: event.step,\n",
       "                             guiEvent: simpleKeys(event)});\n",
       "\n",
       "    /* This prevents the web browser from automatically changing to\n",
       "     * the text insertion cursor when the button is pressed.  We want\n",
       "     * to control all of the cursor setting manually through the\n",
       "     * 'cursor' event from matplotlib */\n",
       "    event.preventDefault();\n",
       "    return false;\n",
       "}\n",
       "\n",
       "mpl.figure.prototype._key_event_extra = function(event, name) {\n",
       "    // Handle any extra behaviour associated with a key event\n",
       "}\n",
       "\n",
       "mpl.figure.prototype.key_event = function(event, name) {\n",
       "\n",
       "    // Prevent repeat events\n",
       "    if (name == 'key_press')\n",
       "    {\n",
       "        if (event.which === this._key)\n",
       "            return;\n",
       "        else\n",
       "            this._key = event.which;\n",
       "    }\n",
       "    if (name == 'key_release')\n",
       "        this._key = null;\n",
       "\n",
       "    var value = '';\n",
       "    if (event.ctrlKey && event.which != 17)\n",
       "        value += \"ctrl+\";\n",
       "    if (event.altKey && event.which != 18)\n",
       "        value += \"alt+\";\n",
       "    if (event.shiftKey && event.which != 16)\n",
       "        value += \"shift+\";\n",
       "\n",
       "    value += 'k';\n",
       "    value += event.which.toString();\n",
       "\n",
       "    this._key_event_extra(event, name);\n",
       "\n",
       "    this.send_message(name, {key: value,\n",
       "                             guiEvent: simpleKeys(event)});\n",
       "    return false;\n",
       "}\n",
       "\n",
       "mpl.figure.prototype.toolbar_button_onclick = function(name) {\n",
       "    if (name == 'download') {\n",
       "        this.handle_save(this, null);\n",
       "    } else {\n",
       "        this.send_message(\"toolbar_button\", {name: name});\n",
       "    }\n",
       "};\n",
       "\n",
       "mpl.figure.prototype.toolbar_button_onmouseover = function(tooltip) {\n",
       "    this.message.textContent = tooltip;\n",
       "};\n",
       "mpl.toolbar_items = [[\"Home\", \"Reset original view\", \"fa fa-home icon-home\", \"home\"], [\"Back\", \"Back to  previous view\", \"fa fa-arrow-left icon-arrow-left\", \"back\"], [\"Forward\", \"Forward to next view\", \"fa fa-arrow-right icon-arrow-right\", \"forward\"], [\"\", \"\", \"\", \"\"], [\"Pan\", \"Pan axes with left mouse, zoom with right\", \"fa fa-arrows icon-move\", \"pan\"], [\"Zoom\", \"Zoom to rectangle\", \"fa fa-square-o icon-check-empty\", \"zoom\"], [\"\", \"\", \"\", \"\"], [\"Download\", \"Download plot\", \"fa fa-floppy-o icon-save\", \"download\"]];\n",
       "\n",
       "mpl.extensions = [\"eps\", \"jpeg\", \"pdf\", \"png\", \"ps\", \"raw\", \"svg\", \"tif\"];\n",
       "\n",
       "mpl.default_extension = \"png\";var comm_websocket_adapter = function(comm) {\n",
       "    // Create a \"websocket\"-like object which calls the given IPython comm\n",
       "    // object with the appropriate methods. Currently this is a non binary\n",
       "    // socket, so there is still some room for performance tuning.\n",
       "    var ws = {};\n",
       "\n",
       "    ws.close = function() {\n",
       "        comm.close()\n",
       "    };\n",
       "    ws.send = function(m) {\n",
       "        //console.log('sending', m);\n",
       "        comm.send(m);\n",
       "    };\n",
       "    // Register the callback with on_msg.\n",
       "    comm.on_msg(function(msg) {\n",
       "        //console.log('receiving', msg['content']['data'], msg);\n",
       "        // Pass the mpl event to the overriden (by mpl) onmessage function.\n",
       "        ws.onmessage(msg['content']['data'])\n",
       "    });\n",
       "    return ws;\n",
       "}\n",
       "\n",
       "mpl.mpl_figure_comm = function(comm, msg) {\n",
       "    // This is the function which gets called when the mpl process\n",
       "    // starts-up an IPython Comm through the \"matplotlib\" channel.\n",
       "\n",
       "    var id = msg.content.data.id;\n",
       "    // Get hold of the div created by the display call when the Comm\n",
       "    // socket was opened in Python.\n",
       "    var element = $(\"#\" + id);\n",
       "    var ws_proxy = comm_websocket_adapter(comm)\n",
       "\n",
       "    function ondownload(figure, format) {\n",
       "        window.open(figure.imageObj.src);\n",
       "    }\n",
       "\n",
       "    var fig = new mpl.figure(id, ws_proxy,\n",
       "                           ondownload,\n",
       "                           element.get(0));\n",
       "\n",
       "    // Call onopen now - mpl needs it, as it is assuming we've passed it a real\n",
       "    // web socket which is closed, not our websocket->open comm proxy.\n",
       "    ws_proxy.onopen();\n",
       "\n",
       "    fig.parent_element = element.get(0);\n",
       "    fig.cell_info = mpl.find_output_cell(\"<div id='\" + id + \"'></div>\");\n",
       "    if (!fig.cell_info) {\n",
       "        console.error(\"Failed to find cell for figure\", id, fig);\n",
       "        return;\n",
       "    }\n",
       "\n",
       "    var output_index = fig.cell_info[2]\n",
       "    var cell = fig.cell_info[0];\n",
       "\n",
       "};\n",
       "\n",
       "mpl.figure.prototype.handle_close = function(fig, msg) {\n",
       "    fig.root.unbind('remove')\n",
       "\n",
       "    // Update the output cell to use the data from the current canvas.\n",
       "    fig.push_to_output();\n",
       "    var dataURL = fig.canvas.toDataURL();\n",
       "    // Re-enable the keyboard manager in IPython - without this line, in FF,\n",
       "    // the notebook keyboard shortcuts fail.\n",
       "    IPython.keyboard_manager.enable()\n",
       "    $(fig.parent_element).html('<img src=\"' + dataURL + '\">');\n",
       "    fig.close_ws(fig, msg);\n",
       "}\n",
       "\n",
       "mpl.figure.prototype.close_ws = function(fig, msg){\n",
       "    fig.send_message('closing', msg);\n",
       "    // fig.ws.close()\n",
       "}\n",
       "\n",
       "mpl.figure.prototype.push_to_output = function(remove_interactive) {\n",
       "    // Turn the data on the canvas into data in the output cell.\n",
       "    var dataURL = this.canvas.toDataURL();\n",
       "    this.cell_info[1]['text/html'] = '<img src=\"' + dataURL + '\">';\n",
       "}\n",
       "\n",
       "mpl.figure.prototype.updated_canvas_event = function() {\n",
       "    // Tell IPython that the notebook contents must change.\n",
       "    IPython.notebook.set_dirty(true);\n",
       "    this.send_message(\"ack\", {});\n",
       "    var fig = this;\n",
       "    // Wait a second, then push the new image to the DOM so\n",
       "    // that it is saved nicely (might be nice to debounce this).\n",
       "    setTimeout(function () { fig.push_to_output() }, 1000);\n",
       "}\n",
       "\n",
       "mpl.figure.prototype._init_toolbar = function() {\n",
       "    var fig = this;\n",
       "\n",
       "    var nav_element = $('<div/>')\n",
       "    nav_element.attr('style', 'width: 100%');\n",
       "    this.root.append(nav_element);\n",
       "\n",
       "    // Define a callback function for later on.\n",
       "    function toolbar_event(event) {\n",
       "        return fig.toolbar_button_onclick(event['data']);\n",
       "    }\n",
       "    function toolbar_mouse_event(event) {\n",
       "        return fig.toolbar_button_onmouseover(event['data']);\n",
       "    }\n",
       "\n",
       "    for(var toolbar_ind in mpl.toolbar_items){\n",
       "        var name = mpl.toolbar_items[toolbar_ind][0];\n",
       "        var tooltip = mpl.toolbar_items[toolbar_ind][1];\n",
       "        var image = mpl.toolbar_items[toolbar_ind][2];\n",
       "        var method_name = mpl.toolbar_items[toolbar_ind][3];\n",
       "\n",
       "        if (!name) { continue; };\n",
       "\n",
       "        var button = $('<button class=\"btn btn-default\" href=\"#\" title=\"' + name + '\"><i class=\"fa ' + image + ' fa-lg\"></i></button>');\n",
       "        button.click(method_name, toolbar_event);\n",
       "        button.mouseover(tooltip, toolbar_mouse_event);\n",
       "        nav_element.append(button);\n",
       "    }\n",
       "\n",
       "    // Add the status bar.\n",
       "    var status_bar = $('<span class=\"mpl-message\" style=\"text-align:right; float: right;\"/>');\n",
       "    nav_element.append(status_bar);\n",
       "    this.message = status_bar[0];\n",
       "\n",
       "    // Add the close button to the window.\n",
       "    var buttongrp = $('<div class=\"btn-group inline pull-right\"></div>');\n",
       "    var button = $('<button class=\"btn btn-mini btn-primary\" href=\"#\" title=\"Stop Interaction\"><i class=\"fa fa-power-off icon-remove icon-large\"></i></button>');\n",
       "    button.click(function (evt) { fig.handle_close(fig, {}); } );\n",
       "    button.mouseover('Stop Interaction', toolbar_mouse_event);\n",
       "    buttongrp.append(button);\n",
       "    var titlebar = this.root.find($('.ui-dialog-titlebar'));\n",
       "    titlebar.prepend(buttongrp);\n",
       "}\n",
       "\n",
       "mpl.figure.prototype._root_extra_style = function(el){\n",
       "    var fig = this\n",
       "    el.on(\"remove\", function(){\n",
       "\tfig.close_ws(fig, {});\n",
       "    });\n",
       "}\n",
       "\n",
       "mpl.figure.prototype._canvas_extra_style = function(el){\n",
       "    // this is important to make the div 'focusable\n",
       "    el.attr('tabindex', 0)\n",
       "    // reach out to IPython and tell the keyboard manager to turn it's self\n",
       "    // off when our div gets focus\n",
       "\n",
       "    // location in version 3\n",
       "    if (IPython.notebook.keyboard_manager) {\n",
       "        IPython.notebook.keyboard_manager.register_events(el);\n",
       "    }\n",
       "    else {\n",
       "        // location in version 2\n",
       "        IPython.keyboard_manager.register_events(el);\n",
       "    }\n",
       "\n",
       "}\n",
       "\n",
       "mpl.figure.prototype._key_event_extra = function(event, name) {\n",
       "    var manager = IPython.notebook.keyboard_manager;\n",
       "    if (!manager)\n",
       "        manager = IPython.keyboard_manager;\n",
       "\n",
       "    // Check for shift+enter\n",
       "    if (event.shiftKey && event.which == 13) {\n",
       "        this.canvas_div.blur();\n",
       "        event.shiftKey = false;\n",
       "        // Send a \"J\" for go to next cell\n",
       "        event.which = 74;\n",
       "        event.keyCode = 74;\n",
       "        manager.command_mode();\n",
       "        manager.handle_keydown(event);\n",
       "    }\n",
       "}\n",
       "\n",
       "mpl.figure.prototype.handle_save = function(fig, msg) {\n",
       "    fig.ondownload(fig, null);\n",
       "}\n",
       "\n",
       "\n",
       "mpl.find_output_cell = function(html_output) {\n",
       "    // Return the cell and output element which can be found *uniquely* in the notebook.\n",
       "    // Note - this is a bit hacky, but it is done because the \"notebook_saving.Notebook\"\n",
       "    // IPython event is triggered only after the cells have been serialised, which for\n",
       "    // our purposes (turning an active figure into a static one), is too late.\n",
       "    var cells = IPython.notebook.get_cells();\n",
       "    var ncells = cells.length;\n",
       "    for (var i=0; i<ncells; i++) {\n",
       "        var cell = cells[i];\n",
       "        if (cell.cell_type === 'code'){\n",
       "            for (var j=0; j<cell.output_area.outputs.length; j++) {\n",
       "                var data = cell.output_area.outputs[j];\n",
       "                if (data.data) {\n",
       "                    // IPython >= 3 moved mimebundle to data attribute of output\n",
       "                    data = data.data;\n",
       "                }\n",
       "                if (data['text/html'] == html_output) {\n",
       "                    return [cell, data, j];\n",
       "                }\n",
       "            }\n",
       "        }\n",
       "    }\n",
       "}\n",
       "\n",
       "// Register the function which deals with the matplotlib target/channel.\n",
       "// The kernel may be null if the page has been refreshed.\n",
       "if (IPython.notebook.kernel != null) {\n",
       "    IPython.notebook.kernel.comm_manager.register_target('matplotlib', mpl.mpl_figure_comm);\n",
       "}\n"
      ],
      "text/plain": [
       "<IPython.core.display.Javascript object>"
      ]
     },
     "metadata": {},
     "output_type": "display_data"
    },
    {
     "data": {
      "text/html": [
       "<img src=\"data:image/png;base64,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\">"
      ],
      "text/plain": [
       "<IPython.core.display.HTML object>"
      ]
     },
     "metadata": {},
     "output_type": "display_data"
    },
    {
     "data": {
      "text/plain": [
       "<mpl_toolkits.mplot3d.art3d.Path3DCollection at 0x10eb784e0>"
      ]
     },
     "execution_count": 5,
     "metadata": {},
     "output_type": "execute_result"
    }
   ],
   "source": [
    "%matplotlib notebook\n",
    "\n",
    "source = GaussianBeam(30*ureg.degree, 30*ureg.degree)\n",
    "x,y,z = source.generate(1000)\n",
    "\n",
    "fig = plt.figure()\n",
    "ax = fig.add_subplot(111, projection='3d')\n",
    "plot_unit_sphere(ax)\n",
    "\n",
    "ax.scatter(x,y,z, c='r', s=20, edgecolors='face')"
   ]
  },
  {
   "cell_type": "code",
   "execution_count": null,
   "metadata": {
    "collapsed": true
   },
   "outputs": [],
   "source": []
  }
 ],
 "metadata": {
  "kernelspec": {
   "display_name": "Python 3",
   "language": "python",
   "name": "python3"
  },
  "language_info": {
   "codemirror_mode": {
    "name": "ipython",
    "version": 3
   },
   "file_extension": ".py",
   "mimetype": "text/x-python",
   "name": "python",
   "nbconvert_exporter": "python",
   "pygments_lexer": "ipython3",
   "version": "3.5.2"
  },
  "widgets": {
   "state": {
    "027c7d01f43c41749e958ce0a9084b94": {
     "views": []
    },
    "034e701fb684405e8359742a09628fa8": {
     "views": []
    },
    "04a56167d87441fda0f22df1a82938d4": {
     "views": []
    },
    "04e0850b3ee24e209e858ca423719d50": {
     "views": []
    },
    "061f3cd17af248b48792d0423137a319": {
     "views": []
    },
    "091906de937a46d197010430172391c6": {
     "views": []
    },
    "094a797e6390414fb0b9617975d539e7": {
     "views": []
    },
    "09615fdadfc24abc92d9b23ac1657d7e": {
     "views": []
    },
    "0a18f3f82e044606a0f127496efce35f": {
     "views": []
    },
    "0b23360ec3f3416499500b406c683f6e": {
     "views": []
    },
    "0c58fb05b94f445eb36a731efa40c397": {
     "views": []
    },
    "0d29f8c6a3064a8f817c9fe5cc69e872": {
     "views": []
    },
    "0e1a5ce0649b4398840210b1cc794395": {
     "views": []
    },
    "0e89a17a10364ce78a713dbde35f988a": {
     "views": []
    },
    "0e8a1957707a460c9062ad21011ccc99": {
     "views": []
    },
    "0e985def3c9d489986f560c105c233dd": {
     "views": []
    },
    "0f4329efe13f464eaec74dbf51b19761": {
     "views": []
    },
    "10421c2331f14da3887fa1f84dd06476": {
     "views": []
    },
    "10524fc0494b406ca971ffb9d17f8db2": {
     "views": []
    },
    "10665a312f8b414ea9387b289ef1acdc": {
     "views": []
    },
    "11ea80315b6e4840a06da04a3ddec8c6": {
     "views": [
      {
       "cell_index": 8
      }
     ]
    },
    "1341d275b7674dd9a9c3d4407735ea1f": {
     "views": []
    },
    "13f22170577942ed9ec552e0f5272825": {
     "views": []
    },
    "1476bb16f88c4a399dabb5aab40aeb13": {
     "views": []
    },
    "1553f507b93d45cd9c78c01e534ebaa6": {
     "views": []
    },
    "156002d3091a45b0a782d11b4ea3aa64": {
     "views": []
    },
    "15f4dbb8f2b1449bb4e69f0a6df0d9f3": {
     "views": []
    },
    "16c9b643e6a044dda17fefce3862cebf": {
     "views": []
    },
    "179a7c1e29994b35bcf90a61ddf14feb": {
     "views": []
    },
    "181238c5f5c24499afb38017d14d9ba9": {
     "views": []
    },
    "18c2f7eb71f54d26bde23c90c2930f09": {
     "views": []
    },
    "19c06f9a5bfd48ab9b474b9b167455b7": {
     "views": []
    },
    "1aa5856d63c84742ae0a08df917b73d0": {
     "views": []
    },
    "1aac9afa2ecd45e3a829138ff9c30c7c": {
     "views": []
    },
    "1ab9d90a950a4dc8873e4c7a0d9d17b4": {
     "views": []
    },
    "1ad1142d29ab48c5ac35891b5d154dd6": {
     "views": []
    },
    "1bcfab982dd2414994d77c19239c7402": {
     "views": []
    },
    "1bfe1878224b4d618a6bc4b2f9b0f628": {
     "views": []
    },
    "20bda5a68a984a48bdb7be0a4143ec5c": {
     "views": []
    },
    "21d4cd40ff39406cb436cb2da00b2985": {
     "views": []
    },
    "222a802d560e4e49b6ece6f4a6538eac": {
     "views": []
    },
    "22d0b93348f84012bc4447df91caf2e1": {
     "views": []
    },
    "2361a95a76094a69ace8431a79040bb2": {
     "views": []
    },
    "247da21fb08e4ae48fcaba2f9b6b9076": {
     "views": []
    },
    "24af5291cd9348878412b5158fc46855": {
     "views": []
    },
    "26619e8720614427865193fbd1e84a36": {
     "views": []
    },
    "269736d2bf284734b380da035f98c580": {
     "views": []
    },
    "26ac07fb09b640c3a50706762a0a8326": {
     "views": []
    },
    "289ac14148084acebd7551e123dba278": {
     "views": []
    },
    "28a091c3045e48ee9dfd1915807a5058": {
     "views": []
    },
    "2a8a7b3e15254e27a1a606df9b7f4ad8": {
     "views": []
    },
    "2e95b41dbb9f48de87ff7e7bd8030372": {
     "views": []
    },
    "2fcd275dab664dada26ee40dd3eac212": {
     "views": []
    },
    "325f9f0bc4d6419d8f1c037dee478b10": {
     "views": []
    },
    "34c8d687ca2142ada12cc446152fe0b8": {
     "views": []
    },
    "353087fb03b54d5e972d6bf2287c694c": {
     "views": []
    },
    "356c10d25d544625b81b1c6701363da2": {
     "views": []
    },
    "3635b8f9eb07496aac16f38a4f901c79": {
     "views": []
    },
    "3705c588e50647b9a4642d8272c54153": {
     "views": []
    },
    "37c7c93e55ad4a4893a2a1508ca8d237": {
     "views": []
    },
    "38d789be9b6740729563eb82c5f0951d": {
     "views": []
    },
    "3c4c72d5ffc24af298ace6184a705080": {
     "views": []
    },
    "3c8c423fed1e43299527ca3c2638c8ad": {
     "views": []
    },
    "3cd14510993e4a91bbc202497be8f66e": {
     "views": []
    },
    "3da321a025b64e7eb05d4da3dd97c042": {
     "views": []
    },
    "3e61a677762f4a60a282cc2e0c87dea7": {
     "views": []
    },
    "42610f7eb8f0441c88d3cf371aac701a": {
     "views": []
    },
    "42622db23bb74aaea39762bd1bd68552": {
     "views": []
    },
    "4313fd89f0834e90a18e9331d4bdbaab": {
     "views": []
    },
    "44035d417e0d4b0a8582de41773aa72b": {
     "views": []
    },
    "45ce928ceda04cbdb006c8c9529e2aaf": {
     "views": []
    },
    "4624c5279317408f9f36357ba1750422": {
     "views": []
    },
    "478d8b2ce1e64cf386b955ee35a21341": {
     "views": []
    },
    "4acb0362f6444683ab7398215e97d229": {
     "views": []
    },
    "4ba24f23bf9243fdb02a62e93b3368df": {
     "views": []
    },
    "4ca81e0bf32849b29a8e37b2cab0f163": {
     "views": []
    },
    "4f7dc4623dbe4ffbbc8f8400b79b759d": {
     "views": []
    },
    "52f8bf750cf848458776ae97b532eee5": {
     "views": []
    },
    "54045b16fa984e3b8414c411b5f50597": {
     "views": []
    },
    "542bcde441cf4bfc90ab17099e86441e": {
     "views": []
    },
    "5457980558ef48f8bf2c13afcb51c493": {
     "views": []
    },
    "55736f36f43b4dfbba60389ba241dcf6": {
     "views": []
    },
    "55bd8fe8f69047449c4352f3f909adce": {
     "views": []
    },
    "584980f0acd04279a9b950cebe78d727": {
     "views": []
    },
    "5883c60ca8e34c03b56ad00b8102e383": {
     "views": []
    },
    "58b5bd0cfe054597b7c1bcd90c634a56": {
     "views": []
    },
    "598cb7156d1e491da56e9bae0fe3671c": {
     "views": []
    },
    "59b33e37e932468ba13c0119271f44a7": {
     "views": []
    },
    "5a0a2c2b2dc74872a006d6a51562aeb2": {
     "views": []
    },
    "5c56c7b0e6b648cfb90e8cea03001ec1": {
     "views": []
    },
    "5d2c3d63ab574241b3f94c982cc46ac5": {
     "views": []
    },
    "5dcaa203ee304c8986b72aad51261540": {
     "views": []
    },
    "5e15f2d8d25241f0807552d5a048947d": {
     "views": []
    },
    "5e22541d8a984a408932ebeeb408d145": {
     "views": []
    },
    "5e361ccbe24e4898bb1b6b2d5a565572": {
     "views": []
    },
    "60c8a8ac24e74a89b8aee633c47696a8": {
     "views": []
    },
    "61bdd107012b416d9a2e3ade11d7ab63": {
     "views": []
    },
    "625741d8cb4d45bfab591aaa9518f8e1": {
     "views": []
    },
    "63265f97312b41778f8be241c99c39d2": {
     "views": []
    },
    "648766e67004448eb4ebd90d5e8119af": {
     "views": []
    },
    "6573c7987b95467caaf2809085f845ad": {
     "views": []
    },
    "658310403b4d4cb2b27672fc2a90ba63": {
     "views": []
    },
    "671fcf79b0a5478f878d399c2f6185c8": {
     "views": []
    },
    "678b7fa7f4904b4bbf8deb32df617763": {
     "views": []
    },
    "67c2c0dff4784f5a84de876a9d9bd3bf": {
     "views": []
    },
    "685a06ec39574225891018bd7b895b0c": {
     "views": []
    },
    "6b9118632a54401bab4ddb238dc69bf8": {
     "views": []
    },
    "6d105d3b3e0a4694aabb3564418b5811": {
     "views": []
    },
    "6dfad63f78414b798d0874f0ed1af196": {
     "views": []
    },
    "6ea4e81fe6424408b28b5d6cec5e2803": {
     "views": []
    },
    "6f82418ff35a4c45821b8aa6bc9f940b": {
     "views": []
    },
    "716083b6096e431babe9a3710ed1bb73": {
     "views": []
    },
    "72206c814a62413f946564768abd5dd7": {
     "views": []
    },
    "7586f91b8c1242b68a53239e2f488c3b": {
     "views": []
    },
    "761cb01a377d48da8928af86cbef291f": {
     "views": []
    },
    "7623dd08e83e45e899f85c5ea4f15496": {
     "views": []
    },
    "769a351cadf045a7aac18a91baafa9d9": {
     "views": []
    },
    "7745fae8136f47a78760bb9969d3a82b": {
     "views": []
    },
    "775dc22669ef402782d7528013ad6fbc": {
     "views": []
    },
    "776983ecf8fe469ab57ac85b5f2bd1ae": {
     "views": []
    },
    "7a67b74075d3414bbff608fe40c06781": {
     "views": []
    },
    "7fc10cb43c2d473c97c9967fe0bfca82": {
     "views": []
    },
    "7fece30885d64a51bd5133d0d5764801": {
     "views": []
    },
    "810ffc28e22040edbd508f27471b38ad": {
     "views": []
    },
    "811acb2fd521482dbda6970b01aca7af": {
     "views": []
    },
    "82b4881c3b7f49569ed951645470858d": {
     "views": []
    },
    "8410081d6e5b40cbab53fab83a3b4760": {
     "views": []
    },
    "8486a1954c9e4374860b5520278dd017": {
     "views": []
    },
    "85109432627447f78e716c4b7c43cc92": {
     "views": []
    },
    "86314d89892c407ba9a207e14dd9671b": {
     "views": []
    },
    "866e1863cb364431b667ddc1e6b91eee": {
     "views": []
    },
    "87222df8e00449459489e8851886a407": {
     "views": []
    },
    "87610270577944c2b0692df75ad4f1fe": {
     "views": []
    },
    "87fb4b80b3644318ab1f0e7c90f9a23d": {
     "views": []
    },
    "884e33ab7a664bcd944f787145b0b2b7": {
     "views": []
    },
    "8d566e53f6954970b1d7bf87b190b4eb": {
     "views": []
    },
    "8d7b010353cb4ade8962eccf519367c5": {
     "views": []
    },
    "8e4d3761042345cd8cee1437f6de33d3": {
     "views": []
    },
    "8f4dbb1c0a9e4d379a655ea235db276e": {
     "views": []
    },
    "9077caf81c7d4dd5bc09e3442dd61590": {
     "views": []
    },
    "92e199fb43b5485985cdc83fd0dbc855": {
     "views": []
    },
    "931bba6062364f2fab7e3dbf660388bd": {
     "views": []
    },
    "96d87e93b98644f68cd0a32e5a15b5b1": {
     "views": []
    },
    "972905570a564de28b0a6c713beffda1": {
     "views": []
    },
    "981bc625fb324902bc9b32da20775d39": {
     "views": []
    },
    "98553485af0a46fc8ecfe12c753e441c": {
     "views": []
    },
    "99099c05888c4f67ba5cda0c436a1efe": {
     "views": []
    },
    "991682c754bf454b938283c08d8123fa": {
     "views": []
    },
    "992f33dfbbc84567b61d4e1b9d68c4bd": {
     "views": []
    },
    "9991a7e4f65d44d7950da65413e0faec": {
     "views": []
    },
    "9a25b1746de3484eaa9fd35b866bf1bb": {
     "views": []
    },
    "9a4281b8e37b40da87c4fe5f11cf80b4": {
     "views": []
    },
    "9c0fd3d4f26e451c9ed2173dbfbf686b": {
     "views": []
    },
    "9c811c5b97bb4f269346098f8f8de8f3": {
     "views": []
    },
    "9e451ecda6d94d478a1803dfb7116c42": {
     "views": []
    },
    "9e531d382b1846deaafd9174fb7a08c6": {
     "views": []
    },
    "a0243209ae274a19b433f1ff6b185239": {
     "views": []
    },
    "a1bd1b922c324907837d4ccd2cf4d482": {
     "views": []
    },
    "a26ad8a063bd4094af471833a5f81986": {
     "views": []
    },
    "a3ce16131cba4d419244f12649e5eca2": {
     "views": []
    },
    "a8180fc55033446ba56f1b70c3da4c37": {
     "views": []
    },
    "a83872a75f6e44f99616a1bb78c01e3e": {
     "views": []
    },
    "a842f5138e304fbd942829a99d5e07dd": {
     "views": []
    },
    "a8e562897b144d7fb8501215e8827871": {
     "views": []
    },
    "a98fea1ef788436d98d1a1a7af2fd6d5": {
     "views": []
    },
    "a9a6f61803aa48e48e330ea1d72281cb": {
     "views": []
    },
    "a9eedd28270a4a1a8b8f9be7b90ecc7c": {
     "views": []
    },
    "ab06fe7f59b04d8e807d5ca2e48b6a99": {
     "views": []
    },
    "aba4549efe5b48a5bae1df96d3d82212": {
     "views": []
    },
    "ac9cd8139d304499a24728541dc5d92f": {
     "views": []
    },
    "ad3813a26c9243a7b779a716d8186665": {
     "views": []
    },
    "ae5ee813d2dd4f31b8878771faf4fa89": {
     "views": []
    },
    "af4f8ced6df442c1a2ce04b8c5198f39": {
     "views": []
    },
    "afac19f2d1f34aad9a590b47a0a5f1a3": {
     "views": []
    },
    "afd8b5196b1641cf9f796bab5e5cb0b0": {
     "views": []
    },
    "b032f87d855e4198afbb12beabd6ac2a": {
     "views": []
    },
    "b0fcbb37212c479c977410276c10be1e": {
     "views": []
    },
    "b1f76151ff4d4fed8cde735d64758d3a": {
     "views": []
    },
    "b2f974e7643f4f4ea7764ff92087d38a": {
     "views": []
    },
    "b39e8bb5bb2541738e07ec06c1e43f18": {
     "views": []
    },
    "b4c5ab460c5649519156e1e24ee0307b": {
     "views": []
    },
    "b5dcaecd7fb9450194298d85b335b193": {
     "views": []
    },
    "b799254f9220493995b6bce2b1a5e60c": {
     "views": []
    },
    "b7f1758bf63d41d0a3aa1a6c86d9dc4c": {
     "views": []
    },
    "b88046e0a963407296cbf57f99cdf989": {
     "views": []
    },
    "b9112bf1e2e548fe94a5d94812000dca": {
     "views": []
    },
    "b951f0b211b247438d8d59beb02b24d1": {
     "views": []
    },
    "b9ed9e81940543a2bdcbb426540db88a": {
     "views": []
    },
    "bc6704a3cc3d464dbf5711b1eb782afd": {
     "views": []
    },
    "bd096220a1cd4d6982cea234697b2975": {
     "views": []
    },
    "bf88f12fc6384bd8bf33eaba66e212d8": {
     "views": []
    },
    "bff39a6914ac43c49eafed658b480709": {
     "views": []
    },
    "c007b62a33df40f387b6b0e236c1ceb4": {
     "views": []
    },
    "c00a20e7195f4b1eb4020e84e9df43d7": {
     "views": []
    },
    "c12e3432f17e4ebf850e091cb5a13953": {
     "views": []
    },
    "c1663d0c1eab442fb4d90ca06cffb3df": {
     "views": []
    },
    "c1c332e13aed44e698ccdc4735674f0f": {
     "views": []
    },
    "c216e3c736a24b0098f5bfbdd665241f": {
     "views": []
    },
    "c22b6668396b4f1880b0d72bc3a69569": {
     "views": []
    },
    "c2abfab47d4949e6b1587b97ac6e2e2c": {
     "views": []
    },
    "c3180745998a470f8654a88e4bac2609": {
     "views": []
    },
    "c35520784b07476cb6af83b527d5a38a": {
     "views": []
    },
    "c3e2d416f43f40f9a7f322980a05abf6": {
     "views": []
    },
    "c52f262f509e4a898c494667fb6f0312": {
     "views": []
    },
    "c572c31e8fcd4dccafb74eace45d6898": {
     "views": []
    },
    "c632008c824a4304a3daa68632d7f84c": {
     "views": []
    },
    "c66bc21b93e94dd3a88c9682f328048d": {
     "views": []
    },
    "c6d7726220dc44e3a286b437e1d3c66f": {
     "views": []
    },
    "c78924d5f2cd4a038a75eb6e8d6df230": {
     "views": []
    },
    "c8132e61f23d418b8d1f3bcadfab4ae2": {
     "views": []
    },
    "c98f5875f780459ab40cc39a31033a3f": {
     "views": []
    },
    "ca32e6086b144b0db6682f581b3c5a96": {
     "views": []
    },
    "ca6d73f25358435da314425d58234906": {
     "views": []
    },
    "ca995f8d97c243feb3ad99cb18296502": {
     "views": []
    },
    "cb2009ac959d4fb985b5a3e1cab330ce": {
     "views": []
    },
    "cba82b0d3d8f483389a87784f9aa62a1": {
     "views": []
    },
    "cbe339a89e444380895ad26befed1312": {
     "views": []
    },
    "cc88656eca7f48729fecfe41f1591463": {
     "views": []
    },
    "cd650874666d4392b7560594f058568b": {
     "views": []
    },
    "cd9c3ebfa7f44cb9a9ee0046140869a7": {
     "views": []
    },
    "cef8059ff0714d86b993229fe25f9d14": {
     "views": []
    },
    "cf2f19898dec4302a807d5a322758263": {
     "views": []
    },
    "d11363b3d8e64636840544f9f0d0efcb": {
     "views": []
    },
    "d1e0d560ea504e0582ae5dd81e86cf76": {
     "views": []
    },
    "d28ccbdb657945179443bf2e75a4197f": {
     "views": []
    },
    "d3786570da524929ab61ec0425d4e32c": {
     "views": []
    },
    "d4833963790c4b25b4b54b1668d78fcf": {
     "views": []
    },
    "d76ff567b4794992ada8a7bb6b6ef324": {
     "views": []
    },
    "d922e317c8704d968685f65e0e1c0629": {
     "views": []
    },
    "d9699b51bc6c4cd2b5fa20c1ac11b56a": {
     "views": []
    },
    "d98e1aef93994b74af8396fa081d310f": {
     "views": []
    },
    "db05c10208eb4521a7996458e0b8c6dd": {
     "views": []
    },
    "dbfcf6499e514c30ae7ab0f9ada74a43": {
     "views": []
    },
    "df9246b512884c0bb62c1e51c2313f05": {
     "views": []
    },
    "e0a2582e285f41d297dfa55c7a6c3cb4": {
     "views": []
    },
    "e0bcf26b231249e5be1f49781d2fbde1": {
     "views": []
    },
    "e1467ba1761741888bcf1dd62fa401c2": {
     "views": []
    },
    "e1ccafbdd9ee4a82ae5da92ef209b566": {
     "views": []
    },
    "e458b5b4dbd14508b3450de06ad74b84": {
     "views": []
    },
    "e48fcb6a11ef4aceb50e5d09c4082814": {
     "views": []
    },
    "e53478cbc74943fb9e12298f9d266b4b": {
     "views": []
    },
    "e535cd7141bf4fc5ab91098a7ecd4291": {
     "views": []
    },
    "e553b74841844d08a2a0e7e45533cd7f": {
     "views": []
    },
    "e55adf991b0d4075a51dab64e5387a48": {
     "views": []
    },
    "e564277dab4f464d9c2148742af1f3da": {
     "views": []
    },
    "e5f438e81b58414eb6811ea7edb99d46": {
     "views": []
    },
    "e625e64fcf8f4e51b48f9cbcfc1b97f0": {
     "views": []
    },
    "e6592ad41fc0457a855a053bde13fe4f": {
     "views": []
    },
    "e73e9f674c0b480ca623d5b6e4adc380": {
     "views": []
    },
    "e76fd279061b4b7eaa55646fbdd04977": {
     "views": []
    },
    "e7a161548d014816aaac41e6fba3c429": {
     "views": []
    },
    "e88170bbb1bd4b838971b2670b069c64": {
     "views": []
    },
    "e8c183bbbd364142b34fbaa834b7a4a6": {
     "views": []
    },
    "eb040980ef1745f3952691ea95085c9e": {
     "views": []
    },
    "ebf8417f6c6345b09a956afc74a4066c": {
     "views": []
    },
    "ec44ce94dc884cf8a9fbd71027acab33": {
     "views": []
    },
    "ec5ff6a53a5548f0bd42e798a7655f85": {
     "views": []
    },
    "edd1b198b091447bb9258075f8ad116c": {
     "views": []
    },
    "ee992ee049344f0da37585f538417c2d": {
     "views": []
    },
    "f07315ec805843af8d27c253eb76dd14": {
     "views": []
    },
    "f0972f4565474a418d343c90908cd8b3": {
     "views": []
    },
    "f0e0a02430334a8cad3fda29d0e745c4": {
     "views": []
    },
    "f0ecd0cd65f14171a518405af1b12573": {
     "views": []
    },
    "f10992bb7b2d467da5cd612bdf202b38": {
     "views": []
    },
    "f390a11a1cb848aa929c970a67e74f7a": {
     "views": []
    },
    "f41adcabd486461581cf13b31d95a1d1": {
     "views": []
    },
    "f4b17caf64d245ed8c5c053098c0d28d": {
     "views": []
    },
    "f502e05629534672a2b19045c281f827": {
     "views": []
    },
    "f74ec6a80d4649b8a0121d76c8695135": {
     "views": []
    },
    "f7c9f54e1a7346969c8fe52105a2ae8c": {
     "views": []
    },
    "f94e986c0f004145be73a165e1e274dc": {
     "views": []
    },
    "f965f6809b954bd7a1bcd11b52eecce0": {
     "views": []
    },
    "fa7e1ada4b174d139ca2cd5cf5c5bf7e": {
     "views": []
    },
    "fce42d0a16d84090b8f8b48bdd9de2bd": {
     "views": []
    },
    "fd43cc3369a24375b939a26530354484": {
     "views": []
    },
    "fe9751e4fb294fc39a09e98916793f64": {
     "views": []
    },
    "ff0b82c5162442fd8c2e866cbd2e7a74": {
     "views": []
    },
    "ff16c91cb50d47cabab6f23fb3576075": {
     "views": []
    },
    "ff7c59d2fe974ad9ae45a6bd19a9c3ce": {
     "views": []
    },
    "ffdac1d42acd4d8286c1285f94fce662": {
     "views": []
    }
   },
   "version": "1.1.2"
  }
 },
 "nbformat": 4,
 "nbformat_minor": 0
}
