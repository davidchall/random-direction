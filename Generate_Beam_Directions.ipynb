{
 "cells": [
  {
   "cell_type": "code",
   "execution_count": 1,
   "metadata": {
    "collapsed": true
   },
   "outputs": [],
   "source": [
    "import numpy as np\n",
    "import matplotlib.pyplot as plt\n",
    "import pint\n",
    "ureg = pint.UnitRegistry()\n",
    "\n",
    "from plotting import plot_unit_sphere\n",
    "from marsaglia import UniformBeam, GaussianBeam"
   ]
  },
  {
   "cell_type": "markdown",
   "metadata": {},
   "source": [
    "# The goal\n",
    "I'm a developer of the [TOPAS](http://topasmc.org) Monte Carlo simulation tool for radiotherapy research. To improve our beam source model, I wanted a method to randomly generate uniformly distributed directions that are constrained to a certain region of the unit sphere, centered upon the z-axis (the beam direction). Generated particles are assigned these random directions before they are transported through the simulated geometry, in order to account for beam divergence. In fact, the final goal was a normal distribution of directions, but I knew I needed a uniform distribution to verify that the method worked.\n",
    "\n",
    "In our previous situation, we had two methods for generating random directions:\n",
    "\n",
    "1. **isotropic source**: \n",
    "    to generate points uniformly across the entire unit sphere, we sample $u \\in [-1, 1]$ and $\\phi \\in [0, 2\\pi)$ from uniform distributions. We then apply the following coordinate transformation (note that $u = \\cos\\theta$)\n",
    "    $$\\begin{align}\n",
    "    x &= \\sqrt{1-u^2} \\cos\\phi \\\\\n",
    "    y &= \\sqrt{1-u^2} \\sin\\phi \\\\\n",
    "    z &= u\n",
    "    \\end{align}$$\n",
    "    .\n",
    "2. **beam source**:\n",
    "    to generate points normally distributed around the z-axis upon the unit sphere, we sample $u_x = \\mathcal{N}(0, \\cos\\theta_x)$ and $u_y = \\mathcal{N}(0, \\cos\\theta_y)$ from normal distributions. Note that $\\theta_x$ and $\\theta_y$ are user parameters that determine the beam divergence in each plane. We then apply the following coordinate transformation\n",
    "    $$\\begin{align}\n",
    "    x &= \\cos^{-1} u_x \\\\\n",
    "    y &= \\cos^{-1} u_y \\\\\n",
    "    z &= \\sqrt{1 - u_x^2 - u_y^2}\n",
    "    \\end{align}$$\n",
    "\n",
    "The problems with this second method are that it cannot generate uniformly distributed directions and that it is only valid in the small-angle approximation, $\\theta_x \\ll 1$ and $\\theta_y \\ll 1$. I wanted a method that could resolve this problems, but our isotropic method did not naturally extend to beams with a direction."
   ]
  },
  {
   "cell_type": "code",
   "execution_count": 2,
   "metadata": {
    "collapsed": false
   },
   "outputs": [
    {
     "data": {
      "image/png": "[encoded data removed]",
      "text/plain": [
       "<matplotlib.figure.Figure at 0x11264ab70>"
      ]
     },
     "metadata": {},
     "output_type": "display_data"
    }
   ],
   "source": [
    "%matplotlib inline\n",
    "from ipywidgets import interact, FloatSlider, ToggleButtons\n",
    "from IPython.display import display\n",
    "\n",
    "fig = plt.figure()\n",
    "plt.xlabel('Theta [degrees]')\n",
    "plt.ylabel('Phi [degrees]')\n",
    "plt.title('Fluence [particles/area]')\n",
    "\n",
    "theta_edges = np.linspace(   0, 180, 40)\n",
    "phi_edges   = np.linspace(-180, 180, 40)\n",
    "\n",
    "cos_edges = np.cos(np.deg2rad(theta_edges))\n",
    "bin_wgts = 1./(cos_edges[:-1] - cos_edges[1:])\n",
    "\n",
    "def plot_hist(theta_x, theta_y, source_type):\n",
    "    source = source_type(theta_x*ureg.degree, theta_y*ureg.degree)\n",
    "    x,y,z = source.generate(1000000)\n",
    "    \n",
    "    theta = np.rad2deg(np.arccos(z))\n",
    "    phi = np.rad2deg(np.arctan2(y, x))\n",
    "    \n",
    "    wgt = bin_wgts[np.digitize(theta, theta_edges)-1]   # account for how solid area depends on theta\n",
    "    \n",
    "    plt.hist2d(theta, phi, bins=[theta_edges,phi_edges], weights=wgt, normed=True)\n",
    "\n",
    "    \n",
    "w_theta_x = FloatSlider(min=1e-3, max=180, value=30, description='$\\\\theta_x$', continuous_update=False)\n",
    "w_theta_y = FloatSlider(min=1e-3, max=180, value=60, description='$\\\\theta_y$', continuous_update=False)\n",
    "w_source = ToggleButtons(options={'Uniform': UniformBeam, 'Gaussian': GaussianBeam}, value=UniformBeam, description='Beam:')\n",
    "    \n",
    "_ = interact(plot_hist, theta_x=w_theta_x, theta_y=w_theta_y, source_type=w_source)"
   ]
  },
  {
   "cell_type": "markdown",
   "metadata": {},
   "source": [
    "# Marsaglia transform\n",
    "Several different methods of uniformly sampling points on the unit sphere are described in this [Wolfram MathWorld page](http://mathworld.wolfram.com/SpherePointPicking.html). For my purposes, the most useful was a method derived by Marsaglia (1972).\n",
    "\n",
    "First, points are generated within a unit circle by uniformly sampling $x_1 \\in [-1, 1]$ and $x_2 \\in [-1, 1]$ and rejecting points with $x_1^2 + x_2^2 \\ge 1$. Then the radial distance of each point is used to determine the polar angle of the direction upon the unit sphere. This is achieved with the following coordinate transformation\n",
    "\n",
    "$$\\begin{align}\n",
    "x &= 2 x_1 \\sqrt{1 - x_1^2 - x_2^2} \\\\\n",
    "y &= 2 x_2 \\sqrt{1 - x_1^2 - x_2^2} \\\\\n",
    "z &= 1 - 2(x_1^2 + x_2^2)\n",
    "\\end{align}$$\n",
    "\n",
    "\n",
    "Here is a helpful visualization of the Marsaglia transformation, courtesy of this [StackOverflow answer](http://math.stackexchange.com/a/838336). The red circle originally has a radius of 1 and is transformed to the south pole. The purple circle originally has a radius of $\\sqrt{0.5} \\approx 0.71$ and is transformed to the equator. A uniform distribution on the unit disc is transformed into a uniform distribution on the unit sphere.\n",
    "![Animation of Marsaglia transformation](http://i.stack.imgur.com/qxPG3.gif)\n",
    "\n",
    "Marsaglia, G. \"Choosing a Point from the Surface of a Sphere.\" *Ann. Math. Stat.* **43**, 645-646, 1972."
   ]
  },
  {
   "cell_type": "markdown",
   "metadata": {},
   "source": [
    "# A uniform beam direction generator"
   ]
  },
  {
   "cell_type": "code",
   "execution_count": 3,
   "metadata": {
    "collapsed": false
   },
   "outputs": [
    {
     "name": "stdout",
     "output_type": "stream",
     "text": [
      "Efficiency = 79.1%\n",
      "Predicted efficiency for UniformBeamSource is 78.5%\n"
     ]
    }
   ],
   "source": [
    "source = UniformBeam(60*ureg.degree, 120*ureg.degree)\n",
    "x,y,z = source.generate(1000)\n",
    "\n",
    "print('Efficiency = {:.1%}'.format(source.efficiency()))\n",
    "print('Predicted efficiency for UniformBeamSource is {:.1%}'.format(np.pi/4))"
   ]
  },
  {
   "cell_type": "code",
   "execution_count": 4,
   "metadata": {
    "collapsed": false
   },
   "outputs": [
    {
     "data": {
      "application/javascript": [
       "/* Put everything inside the global mpl namespace */\n",
       "window.mpl = {};\n",
       "\n",
       "mpl.get_websocket_type = function() {\n",
       "    if (typeof(WebSocket) !== 'undefined') {\n",
       "        return WebSocket;\n",
       "    } else if (typeof(MozWebSocket) !== 'undefined') {\n",
       "        return MozWebSocket;\n",
       "    } else {\n",
       "        alert('Your browser does not have WebSocket support.' +\n",
       "              'Please try Chrome, Safari or Firefox ≥ 6. ' +\n",
       "              'Firefox 4 and 5 are also supported but you ' +\n",
       "              'have to enable WebSockets in about:config.');\n",
       "    };\n",
       "}\n",
       "\n",
       "mpl.figure = function(figure_id, websocket, ondownload, parent_element) {\n",
       "    this.id = figure_id;\n",
       "\n",
       "    this.ws = websocket;\n",
       "\n",
       "    this.supports_binary = (this.ws.binaryType != undefined);\n",
       "\n",
       "    if (!this.supports_binary) {\n",
       "        var warnings = document.getElementById(\"mpl-warnings\");\n",
       "        if (warnings) {\n",
       "            warnings.style.display = 'block';\n",
       "            warnings.textContent = (\n",
       "                \"This browser does not support binary websocket messages. \" +\n",
       "                    \"Performance may be slow.\");\n",
       "        }\n",
       "    }\n",
       "\n",
       "    this.imageObj = new Image();\n",
       "\n",
       "    this.context = undefined;\n",
       "    this.message = undefined;\n",
       "    this.canvas = undefined;\n",
       "    this.rubberband_canvas = undefined;\n",
       "    this.rubberband_context = undefined;\n",
       "    this.format_dropdown = undefined;\n",
       "\n",
       "    this.image_mode = 'full';\n",
       "\n",
       "    this.root = $('<div/>');\n",
       "    this._root_extra_style(this.root)\n",
       "    this.root.attr('style', 'display: inline-block');\n",
       "\n",
       "    $(parent_element).append(this.root);\n",
       "\n",
       "    this._init_header(this);\n",
       "    this._init_canvas(this);\n",
       "    this._init_toolbar(this);\n",
       "\n",
       "    var fig = this;\n",
       "\n",
       "    this.waiting = false;\n",
       "\n",
       "    this.ws.onopen =  function () {\n",
       "            fig.send_message(\"supports_binary\", {value: fig.supports_binary});\n",
       "            fig.send_message(\"send_image_mode\", {});\n",
       "            fig.send_message(\"refresh\", {});\n",
       "        }\n",
       "\n",
       "    this.imageObj.onload = function() {\n",
       "            if (fig.image_mode == 'full') {\n",
       "                // Full images could contain transparency (where diff images\n",
       "                // almost always do), so we need to clear the canvas so that\n",
       "                // there is no ghosting.\n",
       "                fig.context.clearRect(0, 0, fig.canvas.width, fig.canvas.height);\n",
       "            }\n",
       "            fig.context.drawImage(fig.imageObj, 0, 0);\n",
       "        };\n",
       "\n",
       "    this.imageObj.onunload = function() {\n",
       "        this.ws.close();\n",
       "    }\n",
       "\n",
       "    this.ws.onmessage = this._make_on_message_function(this);\n",
       "\n",
       "    this.ondownload = ondownload;\n",
       "}\n",
       "\n",
       "mpl.figure.prototype._init_header = function() {\n",
       "    var titlebar = $(\n",
       "        '<div class=\"ui-dialog-titlebar ui-widget-header ui-corner-all ' +\n",
       "        'ui-helper-clearfix\"/>');\n",
       "    var titletext = $(\n",
       "        '<div class=\"ui-dialog-title\" style=\"width: 100%; ' +\n",
       "        'text-align: center; padding: 3px;\"/>');\n",
       "    titlebar.append(titletext)\n",
       "    this.root.append(titlebar);\n",
       "    this.header = titletext[0];\n",
       "}\n",
       "\n",
       "\n",
       "\n",
       "mpl.figure.prototype._canvas_extra_style = function(canvas_div) {\n",
       "\n",
       "}\n",
       "\n",
       "\n",
       "mpl.figure.prototype._root_extra_style = function(canvas_div) {\n",
       "\n",
       "}\n",
       "\n",
       "mpl.figure.prototype._init_canvas = function() {\n",
       "    var fig = this;\n",
       "\n",
       "    var canvas_div = $('<div/>');\n",
       "\n",
       "    canvas_div.attr('style', 'position: relative; clear: both; outline: 0');\n",
       "\n",
       "    function canvas_keyboard_event(event) {\n",
       "        return fig.key_event(event, event['data']);\n",
       "    }\n",
       "\n",
       "    canvas_div.keydown('key_press', canvas_keyboard_event);\n",
       "    canvas_div.keyup('key_release', canvas_keyboard_event);\n",
       "    this.canvas_div = canvas_div\n",
       "    this._canvas_extra_style(canvas_div)\n",
       "    this.root.append(canvas_div);\n",
       "\n",
       "    var canvas = $('<canvas/>');\n",
       "    canvas.addClass('mpl-canvas');\n",
       "    canvas.attr('style', \"left: 0; top: 0; z-index: 0; outline: 0\")\n",
       "\n",
       "    this.canvas = canvas[0];\n",
       "    this.context = canvas[0].getContext(\"2d\");\n",
       "\n",
       "    var rubberband = $('<canvas/>');\n",
       "    rubberband.attr('style', \"position: absolute; left: 0; top: 0; z-index: 1;\")\n",
       "\n",
       "    var pass_mouse_events = true;\n",
       "\n",
       "    canvas_div.resizable({\n",
       "        start: function(event, ui) {\n",
       "            pass_mouse_events = false;\n",
       "        },\n",
       "        resize: function(event, ui) {\n",
       "            fig.request_resize(ui.size.width, ui.size.height);\n",
       "        },\n",
       "        stop: function(event, ui) {\n",
       "            pass_mouse_events = true;\n",
       "            fig.request_resize(ui.size.width, ui.size.height);\n",
       "        },\n",
       "    });\n",
       "\n",
       "    function mouse_event_fn(event) {\n",
       "        if (pass_mouse_events)\n",
       "            return fig.mouse_event(event, event['data']);\n",
       "    }\n",
       "\n",
       "    rubberband.mousedown('button_press', mouse_event_fn);\n",
       "    rubberband.mouseup('button_release', mouse_event_fn);\n",
       "    // Throttle sequential mouse events to 1 every 20ms.\n",
       "    rubberband.mousemove('motion_notify', mouse_event_fn);\n",
       "\n",
       "    rubberband.mouseenter('figure_enter', mouse_event_fn);\n",
       "    rubberband.mouseleave('figure_leave', mouse_event_fn);\n",
       "\n",
       "    canvas_div.on(\"wheel\", function (event) {\n",
       "        event = event.originalEvent;\n",
       "        event['data'] = 'scroll'\n",
       "        if (event.deltaY < 0) {\n",
       "            event.step = 1;\n",
       "        } else {\n",
       "            event.step = -1;\n",
       "        }\n",
       "        mouse_event_fn(event);\n",
       "    });\n",
       "\n",
       "    canvas_div.append(canvas);\n",
       "    canvas_div.append(rubberband);\n",
       "\n",
       "    this.rubberband = rubberband;\n",
       "    this.rubberband_canvas = rubberband[0];\n",
       "    this.rubberband_context = rubberband[0].getContext(\"2d\");\n",
       "    this.rubberband_context.strokeStyle = \"#000000\";\n",
       "\n",
       "    this._resize_canvas = function(width, height) {\n",
       "        // Keep the size of the canvas, canvas container, and rubber band\n",
       "        // canvas in synch.\n",
       "        canvas_div.css('width', width)\n",
       "        canvas_div.css('height', height)\n",
       "\n",
       "        canvas.attr('width', width);\n",
       "        canvas.attr('height', height);\n",
       "\n",
       "        rubberband.attr('width', width);\n",
       "        rubberband.attr('height', height);\n",
       "    }\n",
       "\n",
       "    // Set the figure to an initial 600x600px, this will subsequently be updated\n",
       "    // upon first draw.\n",
       "    this._resize_canvas(600, 600);\n",
       "\n",
       "    // Disable right mouse context menu.\n",
       "    $(this.rubberband_canvas).bind(\"contextmenu\",function(e){\n",
       "        return false;\n",
       "    });\n",
       "\n",
       "    function set_focus () {\n",
       "        canvas.focus();\n",
       "        canvas_div.focus();\n",
       "    }\n",
       "\n",
       "    window.setTimeout(set_focus, 100);\n",
       "}\n",
       "\n",
       "mpl.figure.prototype._init_toolbar = function() {\n",
       "    var fig = this;\n",
       "\n",
       "    var nav_element = $('<div/>')\n",
       "    nav_element.attr('style', 'width: 100%');\n",
       "    this.root.append(nav_element);\n",
       "\n",
       "    // Define a callback function for later on.\n",
       "    function toolbar_event(event) {\n",
       "        return fig.toolbar_button_onclick(event['data']);\n",
       "    }\n",
       "    function toolbar_mouse_event(event) {\n",
       "        return fig.toolbar_button_onmouseover(event['data']);\n",
       "    }\n",
       "\n",
       "    for(var toolbar_ind in mpl.toolbar_items) {\n",
       "        var name = mpl.toolbar_items[toolbar_ind][0];\n",
       "        var tooltip = mpl.toolbar_items[toolbar_ind][1];\n",
       "        var image = mpl.toolbar_items[toolbar_ind][2];\n",
       "        var method_name = mpl.toolbar_items[toolbar_ind][3];\n",
       "\n",
       "        if (!name) {\n",
       "            // put a spacer in here.\n",
       "            continue;\n",
       "        }\n",
       "        var button = $('<button/>');\n",
       "        button.addClass('ui-button ui-widget ui-state-default ui-corner-all ' +\n",
       "                        'ui-button-icon-only');\n",
       "        button.attr('role', 'button');\n",
       "        button.attr('aria-disabled', 'false');\n",
       "        button.click(method_name, toolbar_event);\n",
       "        button.mouseover(tooltip, toolbar_mouse_event);\n",
       "\n",
       "        var icon_img = $('<span/>');\n",
       "        icon_img.addClass('ui-button-icon-primary ui-icon');\n",
       "        icon_img.addClass(image);\n",
       "        icon_img.addClass('ui-corner-all');\n",
       "\n",
       "        var tooltip_span = $('<span/>');\n",
       "        tooltip_span.addClass('ui-button-text');\n",
       "        tooltip_span.html(tooltip);\n",
       "\n",
       "        button.append(icon_img);\n",
       "        button.append(tooltip_span);\n",
       "\n",
       "        nav_element.append(button);\n",
       "    }\n",
       "\n",
       "    var fmt_picker_span = $('<span/>');\n",
       "\n",
       "    var fmt_picker = $('<select/>');\n",
       "    fmt_picker.addClass('mpl-toolbar-option ui-widget ui-widget-content');\n",
       "    fmt_picker_span.append(fmt_picker);\n",
       "    nav_element.append(fmt_picker_span);\n",
       "    this.format_dropdown = fmt_picker[0];\n",
       "\n",
       "    for (var ind in mpl.extensions) {\n",
       "        var fmt = mpl.extensions[ind];\n",
       "        var option = $(\n",
       "            '<option/>', {selected: fmt === mpl.default_extension}).html(fmt);\n",
       "        fmt_picker.append(option)\n",
       "    }\n",
       "\n",
       "    // Add hover states to the ui-buttons\n",
       "    $( \".ui-button\" ).hover(\n",
       "        function() { $(this).addClass(\"ui-state-hover\");},\n",
       "        function() { $(this).removeClass(\"ui-state-hover\");}\n",
       "    );\n",
       "\n",
       "    var status_bar = $('<span class=\"mpl-message\"/>');\n",
       "    nav_element.append(status_bar);\n",
       "    this.message = status_bar[0];\n",
       "}\n",
       "\n",
       "mpl.figure.prototype.request_resize = function(x_pixels, y_pixels) {\n",
       "    // Request matplotlib to resize the figure. Matplotlib will then trigger a resize in the client,\n",
       "    // which will in turn request a refresh of the image.\n",
       "    this.send_message('resize', {'width': x_pixels, 'height': y_pixels});\n",
       "}\n",
       "\n",
       "mpl.figure.prototype.send_message = function(type, properties) {\n",
       "    properties['type'] = type;\n",
       "    properties['figure_id'] = this.id;\n",
       "    this.ws.send(JSON.stringify(properties));\n",
       "}\n",
       "\n",
       "mpl.figure.prototype.send_draw_message = function() {\n",
       "    if (!this.waiting) {\n",
       "        this.waiting = true;\n",
       "        this.ws.send(JSON.stringify({type: \"draw\", figure_id: this.id}));\n",
       "    }\n",
       "}\n",
       "\n",
       "\n",
       "mpl.figure.prototype.handle_save = function(fig, msg) {\n",
       "    var format_dropdown = fig.format_dropdown;\n",
       "    var format = format_dropdown.options[format_dropdown.selectedIndex].value;\n",
       "    fig.ondownload(fig, format);\n",
       "}\n",
       "\n",
       "\n",
       "mpl.figure.prototype.handle_resize = function(fig, msg) {\n",
       "    var size = msg['size'];\n",
       "    if (size[0] != fig.canvas.width || size[1] != fig.canvas.height) {\n",
       "        fig._resize_canvas(size[0], size[1]);\n",
       "        fig.send_message(\"refresh\", {});\n",
       "    };\n",
       "}\n",
       "\n",
       "mpl.figure.prototype.handle_rubberband = function(fig, msg) {\n",
       "    var x0 = msg['x0'];\n",
       "    var y0 = fig.canvas.height - msg['y0'];\n",
       "    var x1 = msg['x1'];\n",
       "    var y1 = fig.canvas.height - msg['y1'];\n",
       "    x0 = Math.floor(x0) + 0.5;\n",
       "    y0 = Math.floor(y0) + 0.5;\n",
       "    x1 = Math.floor(x1) + 0.5;\n",
       "    y1 = Math.floor(y1) + 0.5;\n",
       "    var min_x = Math.min(x0, x1);\n",
       "    var min_y = Math.min(y0, y1);\n",
       "    var width = Math.abs(x1 - x0);\n",
       "    var height = Math.abs(y1 - y0);\n",
       "\n",
       "    fig.rubberband_context.clearRect(\n",
       "        0, 0, fig.canvas.width, fig.canvas.height);\n",
       "\n",
       "    fig.rubberband_context.strokeRect(min_x, min_y, width, height);\n",
       "}\n",
       "\n",
       "mpl.figure.prototype.handle_figure_label = function(fig, msg) {\n",
       "    // Updates the figure title.\n",
       "    fig.header.textContent = msg['label'];\n",
       "}\n",
       "\n",
       "mpl.figure.prototype.handle_cursor = function(fig, msg) {\n",
       "    var cursor = msg['cursor'];\n",
       "    switch(cursor)\n",
       "    {\n",
       "    case 0:\n",
       "        cursor = 'pointer';\n",
       "        break;\n",
       "    case 1:\n",
       "        cursor = 'default';\n",
       "        break;\n",
       "    case 2:\n",
       "        cursor = 'crosshair';\n",
       "        break;\n",
       "    case 3:\n",
       "        cursor = 'move';\n",
       "        break;\n",
       "    }\n",
       "    fig.rubberband_canvas.style.cursor = cursor;\n",
       "}\n",
       "\n",
       "mpl.figure.prototype.handle_message = function(fig, msg) {\n",
       "    fig.message.textContent = msg['message'];\n",
       "}\n",
       "\n",
       "mpl.figure.prototype.handle_draw = function(fig, msg) {\n",
       "    // Request the server to send over a new figure.\n",
       "    fig.send_draw_message();\n",
       "}\n",
       "\n",
       "mpl.figure.prototype.handle_image_mode = function(fig, msg) {\n",
       "    fig.image_mode = msg['mode'];\n",
       "}\n",
       "\n",
       "mpl.figure.prototype.updated_canvas_event = function() {\n",
       "    // Called whenever the canvas gets updated.\n",
       "    this.send_message(\"ack\", {});\n",
       "}\n",
       "\n",
       "// A function to construct a web socket function for onmessage handling.\n",
       "// Called in the figure constructor.\n",
       "mpl.figure.prototype._make_on_message_function = function(fig) {\n",
       "    return function socket_on_message(evt) {\n",
       "        if (evt.data instanceof Blob) {\n",
       "            /* FIXME: We get \"Resource interpreted as Image but\n",
       "             * transferred with MIME type text/plain:\" errors on\n",
       "             * Chrome.  But how to set the MIME type?  It doesn't seem\n",
       "             * to be part of the websocket stream */\n",
       "            evt.data.type = \"image/png\";\n",
       "\n",
       "            /* Free the memory for the previous frames */\n",
       "            if (fig.imageObj.src) {\n",
       "                (window.URL || window.webkitURL).revokeObjectURL(\n",
       "                    fig.imageObj.src);\n",
       "            }\n",
       "\n",
       "            fig.imageObj.src = (window.URL || window.webkitURL).createObjectURL(\n",
       "                evt.data);\n",
       "            fig.updated_canvas_event();\n",
       "            fig.waiting = false;\n",
       "            return;\n",
       "        }\n",
       "        else if (typeof evt.data === 'string' && evt.data.slice(0, 21) == \"data:image/png;base64\") {\n",
       "            fig.imageObj.src = evt.data;\n",
       "            fig.updated_canvas_event();\n",
       "            fig.waiting = false;\n",
       "            return;\n",
       "        }\n",
       "\n",
       "        var msg = JSON.parse(evt.data);\n",
       "        var msg_type = msg['type'];\n",
       "\n",
       "        // Call the  \"handle_{type}\" callback, which takes\n",
       "        // the figure and JSON message as its only arguments.\n",
       "        try {\n",
       "            var callback = fig[\"handle_\" + msg_type];\n",
       "        } catch (e) {\n",
       "            console.log(\"No handler for the '\" + msg_type + \"' message type: \", msg);\n",
       "            return;\n",
       "        }\n",
       "\n",
       "        if (callback) {\n",
       "            try {\n",
       "                // console.log(\"Handling '\" + msg_type + \"' message: \", msg);\n",
       "                callback(fig, msg);\n",
       "            } catch (e) {\n",
       "                console.log(\"Exception inside the 'handler_\" + msg_type + \"' callback:\", e, e.stack, msg);\n",
       "            }\n",
       "        }\n",
       "    };\n",
       "}\n",
       "\n",
       "// from http://stackoverflow.com/questions/1114465/getting-mouse-location-in-canvas\n",
       "mpl.findpos = function(e) {\n",
       "    //this section is from http://www.quirksmode.org/js/events_properties.html\n",
       "    var targ;\n",
       "    if (!e)\n",
       "        e = window.event;\n",
       "    if (e.target)\n",
       "        targ = e.target;\n",
       "    else if (e.srcElement)\n",
       "        targ = e.srcElement;\n",
       "    if (targ.nodeType == 3) // defeat Safari bug\n",
       "        targ = targ.parentNode;\n",
       "\n",
       "    // jQuery normalizes the pageX and pageY\n",
       "    // pageX,Y are the mouse positions relative to the document\n",
       "    // offset() returns the position of the element relative to the document\n",
       "    var x = e.pageX - $(targ).offset().left;\n",
       "    var y = e.pageY - $(targ).offset().top;\n",
       "\n",
       "    return {\"x\": x, \"y\": y};\n",
       "};\n",
       "\n",
       "/*\n",
       " * return a copy of an object with only non-object keys\n",
       " * we need this to avoid circular references\n",
       " * http://stackoverflow.com/a/24161582/3208463\n",
       " */\n",
       "function simpleKeys (original) {\n",
       "  return Object.keys(original).reduce(function (obj, key) {\n",
       "    if (typeof original[key] !== 'object')\n",
       "        obj[key] = original[key]\n",
       "    return obj;\n",
       "  }, {});\n",
       "}\n",
       "\n",
       "mpl.figure.prototype.mouse_event = function(event, name) {\n",
       "    var canvas_pos = mpl.findpos(event)\n",
       "\n",
       "    if (name === 'button_press')\n",
       "    {\n",
       "        this.canvas.focus();\n",
       "        this.canvas_div.focus();\n",
       "    }\n",
       "\n",
       "    var x = canvas_pos.x;\n",
       "    var y = canvas_pos.y;\n",
       "\n",
       "    this.send_message(name, {x: x, y: y, button: event.button,\n",
       "                             step: event.step,\n",
       "                             guiEvent: simpleKeys(event)});\n",
       "\n",
       "    /* This prevents the web browser from automatically changing to\n",
       "     * the text insertion cursor when the button is pressed.  We want\n",
       "     * to control all of the cursor setting manually through the\n",
       "     * 'cursor' event from matplotlib */\n",
       "    event.preventDefault();\n",
       "    return false;\n",
       "}\n",
       "\n",
       "mpl.figure.prototype._key_event_extra = function(event, name) {\n",
       "    // Handle any extra behaviour associated with a key event\n",
       "}\n",
       "\n",
       "mpl.figure.prototype.key_event = function(event, name) {\n",
       "\n",
       "    // Prevent repeat events\n",
       "    if (name == 'key_press')\n",
       "    {\n",
       "        if (event.which === this._key)\n",
       "            return;\n",
       "        else\n",
       "            this._key = event.which;\n",
       "    }\n",
       "    if (name == 'key_release')\n",
       "        this._key = null;\n",
       "\n",
       "    var value = '';\n",
       "    if (event.ctrlKey && event.which != 17)\n",
       "        value += \"ctrl+\";\n",
       "    if (event.altKey && event.which != 18)\n",
       "        value += \"alt+\";\n",
       "    if (event.shiftKey && event.which != 16)\n",
       "        value += \"shift+\";\n",
       "\n",
       "    value += 'k';\n",
       "    value += event.which.toString();\n",
       "\n",
       "    this._key_event_extra(event, name);\n",
       "\n",
       "    this.send_message(name, {key: value,\n",
       "                             guiEvent: simpleKeys(event)});\n",
       "    return false;\n",
       "}\n",
       "\n",
       "mpl.figure.prototype.toolbar_button_onclick = function(name) {\n",
       "    if (name == 'download') {\n",
       "        this.handle_save(this, null);\n",
       "    } else {\n",
       "        this.send_message(\"toolbar_button\", {name: name});\n",
       "    }\n",
       "};\n",
       "\n",
       "mpl.figure.prototype.toolbar_button_onmouseover = function(tooltip) {\n",
       "    this.message.textContent = tooltip;\n",
       "};\n",
       "mpl.toolbar_items = [[\"Home\", \"Reset original view\", \"fa fa-home icon-home\", \"home\"], [\"Back\", \"Back to  previous view\", \"fa fa-arrow-left icon-arrow-left\", \"back\"], [\"Forward\", \"Forward to next view\", \"fa fa-arrow-right icon-arrow-right\", \"forward\"], [\"\", \"\", \"\", \"\"], [\"Pan\", \"Pan axes with left mouse, zoom with right\", \"fa fa-arrows icon-move\", \"pan\"], [\"Zoom\", \"Zoom to rectangle\", \"fa fa-square-o icon-check-empty\", \"zoom\"], [\"\", \"\", \"\", \"\"], [\"Download\", \"Download plot\", \"fa fa-floppy-o icon-save\", \"download\"]];\n",
       "\n",
       "mpl.extensions = [\"eps\", \"jpeg\", \"pdf\", \"png\", \"ps\", \"raw\", \"svg\", \"tif\"];\n",
       "\n",
       "mpl.default_extension = \"png\";var comm_websocket_adapter = function(comm) {\n",
       "    // Create a \"websocket\"-like object which calls the given IPython comm\n",
       "    // object with the appropriate methods. Currently this is a non binary\n",
       "    // socket, so there is still some room for performance tuning.\n",
       "    var ws = {};\n",
       "\n",
       "    ws.close = function() {\n",
       "        comm.close()\n",
       "    };\n",
       "    ws.send = function(m) {\n",
       "        //console.log('sending', m);\n",
       "        comm.send(m);\n",
       "    };\n",
       "    // Register the callback with on_msg.\n",
       "    comm.on_msg(function(msg) {\n",
       "        //console.log('receiving', msg['content']['data'], msg);\n",
       "        // Pass the mpl event to the overriden (by mpl) onmessage function.\n",
       "        ws.onmessage(msg['content']['data'])\n",
       "    });\n",
       "    return ws;\n",
       "}\n",
       "\n",
       "mpl.mpl_figure_comm = function(comm, msg) {\n",
       "    // This is the function which gets called when the mpl process\n",
       "    // starts-up an IPython Comm through the \"matplotlib\" channel.\n",
       "\n",
       "    var id = msg.content.data.id;\n",
       "    // Get hold of the div created by the display call when the Comm\n",
       "    // socket was opened in Python.\n",
       "    var element = $(\"#\" + id);\n",
       "    var ws_proxy = comm_websocket_adapter(comm)\n",
       "\n",
       "    function ondownload(figure, format) {\n",
       "        window.open(figure.imageObj.src);\n",
       "    }\n",
       "\n",
       "    var fig = new mpl.figure(id, ws_proxy,\n",
       "                           ondownload,\n",
       "                           element.get(0));\n",
       "\n",
       "    // Call onopen now - mpl needs it, as it is assuming we've passed it a real\n",
       "    // web socket which is closed, not our websocket->open comm proxy.\n",
       "    ws_proxy.onopen();\n",
       "\n",
       "    fig.parent_element = element.get(0);\n",
       "    fig.cell_info = mpl.find_output_cell(\"<div id='\" + id + \"'></div>\");\n",
       "    if (!fig.cell_info) {\n",
       "        console.error(\"Failed to find cell for figure\", id, fig);\n",
       "        return;\n",
       "    }\n",
       "\n",
       "    var output_index = fig.cell_info[2]\n",
       "    var cell = fig.cell_info[0];\n",
       "\n",
       "};\n",
       "\n",
       "mpl.figure.prototype.handle_close = function(fig, msg) {\n",
       "    fig.root.unbind('remove')\n",
       "\n",
       "    // Update the output cell to use the data from the current canvas.\n",
       "    fig.push_to_output();\n",
       "    var dataURL = fig.canvas.toDataURL();\n",
       "    // Re-enable the keyboard manager in IPython - without this line, in FF,\n",
       "    // the notebook keyboard shortcuts fail.\n",
       "    IPython.keyboard_manager.enable()\n",
       "    $(fig.parent_element).html('<img src=\"' + dataURL + '\">');\n",
       "    fig.close_ws(fig, msg);\n",
       "}\n",
       "\n",
       "mpl.figure.prototype.close_ws = function(fig, msg){\n",
       "    fig.send_message('closing', msg);\n",
       "    // fig.ws.close()\n",
       "}\n",
       "\n",
       "mpl.figure.prototype.push_to_output = function(remove_interactive) {\n",
       "    // Turn the data on the canvas into data in the output cell.\n",
       "    var dataURL = this.canvas.toDataURL();\n",
       "    this.cell_info[1]['text/html'] = '<img src=\"' + dataURL + '\">';\n",
       "}\n",
       "\n",
       "mpl.figure.prototype.updated_canvas_event = function() {\n",
       "    // Tell IPython that the notebook contents must change.\n",
       "    IPython.notebook.set_dirty(true);\n",
       "    this.send_message(\"ack\", {});\n",
       "    var fig = this;\n",
       "    // Wait a second, then push the new image to the DOM so\n",
       "    // that it is saved nicely (might be nice to debounce this).\n",
       "    setTimeout(function () { fig.push_to_output() }, 1000);\n",
       "}\n",
       "\n",
       "mpl.figure.prototype._init_toolbar = function() {\n",
       "    var fig = this;\n",
       "\n",
       "    var nav_element = $('<div/>')\n",
       "    nav_element.attr('style', 'width: 100%');\n",
       "    this.root.append(nav_element);\n",
       "\n",
       "    // Define a callback function for later on.\n",
       "    function toolbar_event(event) {\n",
       "        return fig.toolbar_button_onclick(event['data']);\n",
       "    }\n",
       "    function toolbar_mouse_event(event) {\n",
       "        return fig.toolbar_button_onmouseover(event['data']);\n",
       "    }\n",
       "\n",
       "    for(var toolbar_ind in mpl.toolbar_items){\n",
       "        var name = mpl.toolbar_items[toolbar_ind][0];\n",
       "        var tooltip = mpl.toolbar_items[toolbar_ind][1];\n",
       "        var image = mpl.toolbar_items[toolbar_ind][2];\n",
       "        var method_name = mpl.toolbar_items[toolbar_ind][3];\n",
       "\n",
       "        if (!name) { continue; };\n",
       "\n",
       "        var button = $('<button class=\"btn btn-default\" href=\"#\" title=\"' + name + '\"><i class=\"fa ' + image + ' fa-lg\"></i></button>');\n",
       "        button.click(method_name, toolbar_event);\n",
       "        button.mouseover(tooltip, toolbar_mouse_event);\n",
       "        nav_element.append(button);\n",
       "    }\n",
       "\n",
       "    // Add the status bar.\n",
       "    var status_bar = $('<span class=\"mpl-message\" style=\"text-align:right; float: right;\"/>');\n",
       "    nav_element.append(status_bar);\n",
       "    this.message = status_bar[0];\n",
       "\n",
       "    // Add the close button to the window.\n",
       "    var buttongrp = $('<div class=\"btn-group inline pull-right\"></div>');\n",
       "    var button = $('<button class=\"btn btn-mini btn-primary\" href=\"#\" title=\"Stop Interaction\"><i class=\"fa fa-power-off icon-remove icon-large\"></i></button>');\n",
       "    button.click(function (evt) { fig.handle_close(fig, {}); } );\n",
       "    button.mouseover('Stop Interaction', toolbar_mouse_event);\n",
       "    buttongrp.append(button);\n",
       "    var titlebar = this.root.find($('.ui-dialog-titlebar'));\n",
       "    titlebar.prepend(buttongrp);\n",
       "}\n",
       "\n",
       "mpl.figure.prototype._root_extra_style = function(el){\n",
       "    var fig = this\n",
       "    el.on(\"remove\", function(){\n",
       "\tfig.close_ws(fig, {});\n",
       "    });\n",
       "}\n",
       "\n",
       "mpl.figure.prototype._canvas_extra_style = function(el){\n",
       "    // this is important to make the div 'focusable\n",
       "    el.attr('tabindex', 0)\n",
       "    // reach out to IPython and tell the keyboard manager to turn it's self\n",
       "    // off when our div gets focus\n",
       "\n",
       "    // location in version 3\n",
       "    if (IPython.notebook.keyboard_manager) {\n",
       "        IPython.notebook.keyboard_manager.register_events(el);\n",
       "    }\n",
       "    else {\n",
       "        // location in version 2\n",
       "        IPython.keyboard_manager.register_events(el);\n",
       "    }\n",
       "\n",
       "}\n",
       "\n",
       "mpl.figure.prototype._key_event_extra = function(event, name) {\n",
       "    var manager = IPython.notebook.keyboard_manager;\n",
       "    if (!manager)\n",
       "        manager = IPython.keyboard_manager;\n",
       "\n",
       "    // Check for shift+enter\n",
       "    if (event.shiftKey && event.which == 13) {\n",
       "        this.canvas_div.blur();\n",
       "        event.shiftKey = false;\n",
       "        // Send a \"J\" for go to next cell\n",
       "        event.which = 74;\n",
       "        event.keyCode = 74;\n",
       "        manager.command_mode();\n",
       "        manager.handle_keydown(event);\n",
       "    }\n",
       "}\n",
       "\n",
       "mpl.figure.prototype.handle_save = function(fig, msg) {\n",
       "    fig.ondownload(fig, null);\n",
       "}\n",
       "\n",
       "\n",
       "mpl.find_output_cell = function(html_output) {\n",
       "    // Return the cell and output element which can be found *uniquely* in the notebook.\n",
       "    // Note - this is a bit hacky, but it is done because the \"notebook_saving.Notebook\"\n",
       "    // IPython event is triggered only after the cells have been serialised, which for\n",
       "    // our purposes (turning an active figure into a static one), is too late.\n",
       "    var cells = IPython.notebook.get_cells();\n",
       "    var ncells = cells.length;\n",
       "    for (var i=0; i<ncells; i++) {\n",
       "        var cell = cells[i];\n",
       "        if (cell.cell_type === 'code'){\n",
       "            for (var j=0; j<cell.output_area.outputs.length; j++) {\n",
       "                var data = cell.output_area.outputs[j];\n",
       "                if (data.data) {\n",
       "                    // IPython >= 3 moved mimebundle to data attribute of output\n",
       "                    data = data.data;\n",
       "                }\n",
       "                if (data['text/html'] == html_output) {\n",
       "                    return [cell, data, j];\n",
       "                }\n",
       "            }\n",
       "        }\n",
       "    }\n",
       "}\n",
       "\n",
       "// Register the function which deals with the matplotlib target/channel.\n",
       "// The kernel may be null if the page has been refreshed.\n",
       "if (IPython.notebook.kernel != null) {\n",
       "    IPython.notebook.kernel.comm_manager.register_target('matplotlib', mpl.mpl_figure_comm);\n",
       "}\n"
      ],
      "text/plain": [
       "<IPython.core.display.Javascript object>"
      ]
     },
     "metadata": {},
     "output_type": "display_data"
    },
    {
     "data": {
      "text/html": [
       "<img src=\"data:image/png;base64,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\">"
      ],
      "text/plain": [
       "<IPython.core.display.HTML object>"
      ]
     },
     "metadata": {},
     "output_type": "display_data"
    },
    {
     "data": {
      "text/plain": [
       "<mpl_toolkits.mplot3d.art3d.Path3DCollection at 0x1154aa358>"
      ]
     },
     "execution_count": 4,
     "metadata": {},
     "output_type": "execute_result"
    }
   ],
   "source": [
    "%matplotlib notebook\n",
    "\n",
    "fig = plt.figure()\n",
    "ax = fig.add_subplot(111, projection='3d')\n",
    "plot_unit_sphere(ax)\n",
    "\n",
    "ax.scatter(x,y,z, c='r', s=20, edgecolors='face')"
   ]
  },
  {
   "cell_type": "markdown",
   "metadata": {},
   "source": [
    "# A bonus direction generator: Gaussian\n",
    "It is simple to extend the previous direction generator to sample a Gaussian distribution instead of a uniform distribution."
   ]
  },
  {
   "cell_type": "code",
   "execution_count": 5,
   "metadata": {
    "collapsed": false
   },
   "outputs": [
    {
     "data": {
      "application/javascript": [
       "/* Put everything inside the global mpl namespace */\n",
       "window.mpl = {};\n",
       "\n",
       "mpl.get_websocket_type = function() {\n",
       "    if (typeof(WebSocket) !== 'undefined') {\n",
       "        return WebSocket;\n",
       "    } else if (typeof(MozWebSocket) !== 'undefined') {\n",
       "        return MozWebSocket;\n",
       "    } else {\n",
       "        alert('Your browser does not have WebSocket support.' +\n",
       "              'Please try Chrome, Safari or Firefox ≥ 6. ' +\n",
       "              'Firefox 4 and 5 are also supported but you ' +\n",
       "              'have to enable WebSockets in about:config.');\n",
       "    };\n",
       "}\n",
       "\n",
       "mpl.figure = function(figure_id, websocket, ondownload, parent_element) {\n",
       "    this.id = figure_id;\n",
       "\n",
       "    this.ws = websocket;\n",
       "\n",
       "    this.supports_binary = (this.ws.binaryType != undefined);\n",
       "\n",
       "    if (!this.supports_binary) {\n",
       "        var warnings = document.getElementById(\"mpl-warnings\");\n",
       "        if (warnings) {\n",
       "            warnings.style.display = 'block';\n",
       "            warnings.textContent = (\n",
       "                \"This browser does not support binary websocket messages. \" +\n",
       "                    \"Performance may be slow.\");\n",
       "        }\n",
       "    }\n",
       "\n",
       "    this.imageObj = new Image();\n",
       "\n",
       "    this.context = undefined;\n",
       "    this.message = undefined;\n",
       "    this.canvas = undefined;\n",
       "    this.rubberband_canvas = undefined;\n",
       "    this.rubberband_context = undefined;\n",
       "    this.format_dropdown = undefined;\n",
       "\n",
       "    this.image_mode = 'full';\n",
       "\n",
       "    this.root = $('<div/>');\n",
       "    this._root_extra_style(this.root)\n",
       "    this.root.attr('style', 'display: inline-block');\n",
       "\n",
       "    $(parent_element).append(this.root);\n",
       "\n",
       "    this._init_header(this);\n",
       "    this._init_canvas(this);\n",
       "    this._init_toolbar(this);\n",
       "\n",
       "    var fig = this;\n",
       "\n",
       "    this.waiting = false;\n",
       "\n",
       "    this.ws.onopen =  function () {\n",
       "            fig.send_message(\"supports_binary\", {value: fig.supports_binary});\n",
       "            fig.send_message(\"send_image_mode\", {});\n",
       "            fig.send_message(\"refresh\", {});\n",
       "        }\n",
       "\n",
       "    this.imageObj.onload = function() {\n",
       "            if (fig.image_mode == 'full') {\n",
       "                // Full images could contain transparency (where diff images\n",
       "                // almost always do), so we need to clear the canvas so that\n",
       "                // there is no ghosting.\n",
       "                fig.context.clearRect(0, 0, fig.canvas.width, fig.canvas.height);\n",
       "            }\n",
       "            fig.context.drawImage(fig.imageObj, 0, 0);\n",
       "        };\n",
       "\n",
       "    this.imageObj.onunload = function() {\n",
       "        this.ws.close();\n",
       "    }\n",
       "\n",
       "    this.ws.onmessage = this._make_on_message_function(this);\n",
       "\n",
       "    this.ondownload = ondownload;\n",
       "}\n",
       "\n",
       "mpl.figure.prototype._init_header = function() {\n",
       "    var titlebar = $(\n",
       "        '<div class=\"ui-dialog-titlebar ui-widget-header ui-corner-all ' +\n",
       "        'ui-helper-clearfix\"/>');\n",
       "    var titletext = $(\n",
       "        '<div class=\"ui-dialog-title\" style=\"width: 100%; ' +\n",
       "        'text-align: center; padding: 3px;\"/>');\n",
       "    titlebar.append(titletext)\n",
       "    this.root.append(titlebar);\n",
       "    this.header = titletext[0];\n",
       "}\n",
       "\n",
       "\n",
       "\n",
       "mpl.figure.prototype._canvas_extra_style = function(canvas_div) {\n",
       "\n",
       "}\n",
       "\n",
       "\n",
       "mpl.figure.prototype._root_extra_style = function(canvas_div) {\n",
       "\n",
       "}\n",
       "\n",
       "mpl.figure.prototype._init_canvas = function() {\n",
       "    var fig = this;\n",
       "\n",
       "    var canvas_div = $('<div/>');\n",
       "\n",
       "    canvas_div.attr('style', 'position: relative; clear: both; outline: 0');\n",
       "\n",
       "    function canvas_keyboard_event(event) {\n",
       "        return fig.key_event(event, event['data']);\n",
       "    }\n",
       "\n",
       "    canvas_div.keydown('key_press', canvas_keyboard_event);\n",
       "    canvas_div.keyup('key_release', canvas_keyboard_event);\n",
       "    this.canvas_div = canvas_div\n",
       "    this._canvas_extra_style(canvas_div)\n",
       "    this.root.append(canvas_div);\n",
       "\n",
       "    var canvas = $('<canvas/>');\n",
       "    canvas.addClass('mpl-canvas');\n",
       "    canvas.attr('style', \"left: 0; top: 0; z-index: 0; outline: 0\")\n",
       "\n",
       "    this.canvas = canvas[0];\n",
       "    this.context = canvas[0].getContext(\"2d\");\n",
       "\n",
       "    var rubberband = $('<canvas/>');\n",
       "    rubberband.attr('style', \"position: absolute; left: 0; top: 0; z-index: 1;\")\n",
       "\n",
       "    var pass_mouse_events = true;\n",
       "\n",
       "    canvas_div.resizable({\n",
       "        start: function(event, ui) {\n",
       "            pass_mouse_events = false;\n",
       "        },\n",
       "        resize: function(event, ui) {\n",
       "            fig.request_resize(ui.size.width, ui.size.height);\n",
       "        },\n",
       "        stop: function(event, ui) {\n",
       "            pass_mouse_events = true;\n",
       "            fig.request_resize(ui.size.width, ui.size.height);\n",
       "        },\n",
       "    });\n",
       "\n",
       "    function mouse_event_fn(event) {\n",
       "        if (pass_mouse_events)\n",
       "            return fig.mouse_event(event, event['data']);\n",
       "    }\n",
       "\n",
       "    rubberband.mousedown('button_press', mouse_event_fn);\n",
       "    rubberband.mouseup('button_release', mouse_event_fn);\n",
       "    // Throttle sequential mouse events to 1 every 20ms.\n",
       "    rubberband.mousemove('motion_notify', mouse_event_fn);\n",
       "\n",
       "    rubberband.mouseenter('figure_enter', mouse_event_fn);\n",
       "    rubberband.mouseleave('figure_leave', mouse_event_fn);\n",
       "\n",
       "    canvas_div.on(\"wheel\", function (event) {\n",
       "        event = event.originalEvent;\n",
       "        event['data'] = 'scroll'\n",
       "        if (event.deltaY < 0) {\n",
       "            event.step = 1;\n",
       "        } else {\n",
       "            event.step = -1;\n",
       "        }\n",
       "        mouse_event_fn(event);\n",
       "    });\n",
       "\n",
       "    canvas_div.append(canvas);\n",
       "    canvas_div.append(rubberband);\n",
       "\n",
       "    this.rubberband = rubberband;\n",
       "    this.rubberband_canvas = rubberband[0];\n",
       "    this.rubberband_context = rubberband[0].getContext(\"2d\");\n",
       "    this.rubberband_context.strokeStyle = \"#000000\";\n",
       "\n",
       "    this._resize_canvas = function(width, height) {\n",
       "        // Keep the size of the canvas, canvas container, and rubber band\n",
       "        // canvas in synch.\n",
       "        canvas_div.css('width', width)\n",
       "        canvas_div.css('height', height)\n",
       "\n",
       "        canvas.attr('width', width);\n",
       "        canvas.attr('height', height);\n",
       "\n",
       "        rubberband.attr('width', width);\n",
       "        rubberband.attr('height', height);\n",
       "    }\n",
       "\n",
       "    // Set the figure to an initial 600x600px, this will subsequently be updated\n",
       "    // upon first draw.\n",
       "    this._resize_canvas(600, 600);\n",
       "\n",
       "    // Disable right mouse context menu.\n",
       "    $(this.rubberband_canvas).bind(\"contextmenu\",function(e){\n",
       "        return false;\n",
       "    });\n",
       "\n",
       "    function set_focus () {\n",
       "        canvas.focus();\n",
       "        canvas_div.focus();\n",
       "    }\n",
       "\n",
       "    window.setTimeout(set_focus, 100);\n",
       "}\n",
       "\n",
       "mpl.figure.prototype._init_toolbar = function() {\n",
       "    var fig = this;\n",
       "\n",
       "    var nav_element = $('<div/>')\n",
       "    nav_element.attr('style', 'width: 100%');\n",
       "    this.root.append(nav_element);\n",
       "\n",
       "    // Define a callback function for later on.\n",
       "    function toolbar_event(event) {\n",
       "        return fig.toolbar_button_onclick(event['data']);\n",
       "    }\n",
       "    function toolbar_mouse_event(event) {\n",
       "        return fig.toolbar_button_onmouseover(event['data']);\n",
       "    }\n",
       "\n",
       "    for(var toolbar_ind in mpl.toolbar_items) {\n",
       "        var name = mpl.toolbar_items[toolbar_ind][0];\n",
       "        var tooltip = mpl.toolbar_items[toolbar_ind][1];\n",
       "        var image = mpl.toolbar_items[toolbar_ind][2];\n",
       "        var method_name = mpl.toolbar_items[toolbar_ind][3];\n",
       "\n",
       "        if (!name) {\n",
       "            // put a spacer in here.\n",
       "            continue;\n",
       "        }\n",
       "        var button = $('<button/>');\n",
       "        button.addClass('ui-button ui-widget ui-state-default ui-corner-all ' +\n",
       "                        'ui-button-icon-only');\n",
       "        button.attr('role', 'button');\n",
       "        button.attr('aria-disabled', 'false');\n",
       "        button.click(method_name, toolbar_event);\n",
       "        button.mouseover(tooltip, toolbar_mouse_event);\n",
       "\n",
       "        var icon_img = $('<span/>');\n",
       "        icon_img.addClass('ui-button-icon-primary ui-icon');\n",
       "        icon_img.addClass(image);\n",
       "        icon_img.addClass('ui-corner-all');\n",
       "\n",
       "        var tooltip_span = $('<span/>');\n",
       "        tooltip_span.addClass('ui-button-text');\n",
       "        tooltip_span.html(tooltip);\n",
       "\n",
       "        button.append(icon_img);\n",
       "        button.append(tooltip_span);\n",
       "\n",
       "        nav_element.append(button);\n",
       "    }\n",
       "\n",
       "    var fmt_picker_span = $('<span/>');\n",
       "\n",
       "    var fmt_picker = $('<select/>');\n",
       "    fmt_picker.addClass('mpl-toolbar-option ui-widget ui-widget-content');\n",
       "    fmt_picker_span.append(fmt_picker);\n",
       "    nav_element.append(fmt_picker_span);\n",
       "    this.format_dropdown = fmt_picker[0];\n",
       "\n",
       "    for (var ind in mpl.extensions) {\n",
       "        var fmt = mpl.extensions[ind];\n",
       "        var option = $(\n",
       "            '<option/>', {selected: fmt === mpl.default_extension}).html(fmt);\n",
       "        fmt_picker.append(option)\n",
       "    }\n",
       "\n",
       "    // Add hover states to the ui-buttons\n",
       "    $( \".ui-button\" ).hover(\n",
       "        function() { $(this).addClass(\"ui-state-hover\");},\n",
       "        function() { $(this).removeClass(\"ui-state-hover\");}\n",
       "    );\n",
       "\n",
       "    var status_bar = $('<span class=\"mpl-message\"/>');\n",
       "    nav_element.append(status_bar);\n",
       "    this.message = status_bar[0];\n",
       "}\n",
       "\n",
       "mpl.figure.prototype.request_resize = function(x_pixels, y_pixels) {\n",
       "    // Request matplotlib to resize the figure. Matplotlib will then trigger a resize in the client,\n",
       "    // which will in turn request a refresh of the image.\n",
       "    this.send_message('resize', {'width': x_pixels, 'height': y_pixels});\n",
       "}\n",
       "\n",
       "mpl.figure.prototype.send_message = function(type, properties) {\n",
       "    properties['type'] = type;\n",
       "    properties['figure_id'] = this.id;\n",
       "    this.ws.send(JSON.stringify(properties));\n",
       "}\n",
       "\n",
       "mpl.figure.prototype.send_draw_message = function() {\n",
       "    if (!this.waiting) {\n",
       "        this.waiting = true;\n",
       "        this.ws.send(JSON.stringify({type: \"draw\", figure_id: this.id}));\n",
       "    }\n",
       "}\n",
       "\n",
       "\n",
       "mpl.figure.prototype.handle_save = function(fig, msg) {\n",
       "    var format_dropdown = fig.format_dropdown;\n",
       "    var format = format_dropdown.options[format_dropdown.selectedIndex].value;\n",
       "    fig.ondownload(fig, format);\n",
       "}\n",
       "\n",
       "\n",
       "mpl.figure.prototype.handle_resize = function(fig, msg) {\n",
       "    var size = msg['size'];\n",
       "    if (size[0] != fig.canvas.width || size[1] != fig.canvas.height) {\n",
       "        fig._resize_canvas(size[0], size[1]);\n",
       "        fig.send_message(\"refresh\", {});\n",
       "    };\n",
       "}\n",
       "\n",
       "mpl.figure.prototype.handle_rubberband = function(fig, msg) {\n",
       "    var x0 = msg['x0'];\n",
       "    var y0 = fig.canvas.height - msg['y0'];\n",
       "    var x1 = msg['x1'];\n",
       "    var y1 = fig.canvas.height - msg['y1'];\n",
       "    x0 = Math.floor(x0) + 0.5;\n",
       "    y0 = Math.floor(y0) + 0.5;\n",
       "    x1 = Math.floor(x1) + 0.5;\n",
       "    y1 = Math.floor(y1) + 0.5;\n",
       "    var min_x = Math.min(x0, x1);\n",
       "    var min_y = Math.min(y0, y1);\n",
       "    var width = Math.abs(x1 - x0);\n",
       "    var height = Math.abs(y1 - y0);\n",
       "\n",
       "    fig.rubberband_context.clearRect(\n",
       "        0, 0, fig.canvas.width, fig.canvas.height);\n",
       "\n",
       "    fig.rubberband_context.strokeRect(min_x, min_y, width, height);\n",
       "}\n",
       "\n",
       "mpl.figure.prototype.handle_figure_label = function(fig, msg) {\n",
       "    // Updates the figure title.\n",
       "    fig.header.textContent = msg['label'];\n",
       "}\n",
       "\n",
       "mpl.figure.prototype.handle_cursor = function(fig, msg) {\n",
       "    var cursor = msg['cursor'];\n",
       "    switch(cursor)\n",
       "    {\n",
       "    case 0:\n",
       "        cursor = 'pointer';\n",
       "        break;\n",
       "    case 1:\n",
       "        cursor = 'default';\n",
       "        break;\n",
       "    case 2:\n",
       "        cursor = 'crosshair';\n",
       "        break;\n",
       "    case 3:\n",
       "        cursor = 'move';\n",
       "        break;\n",
       "    }\n",
       "    fig.rubberband_canvas.style.cursor = cursor;\n",
       "}\n",
       "\n",
       "mpl.figure.prototype.handle_message = function(fig, msg) {\n",
       "    fig.message.textContent = msg['message'];\n",
       "}\n",
       "\n",
       "mpl.figure.prototype.handle_draw = function(fig, msg) {\n",
       "    // Request the server to send over a new figure.\n",
       "    fig.send_draw_message();\n",
       "}\n",
       "\n",
       "mpl.figure.prototype.handle_image_mode = function(fig, msg) {\n",
       "    fig.image_mode = msg['mode'];\n",
       "}\n",
       "\n",
       "mpl.figure.prototype.updated_canvas_event = function() {\n",
       "    // Called whenever the canvas gets updated.\n",
       "    this.send_message(\"ack\", {});\n",
       "}\n",
       "\n",
       "// A function to construct a web socket function for onmessage handling.\n",
       "// Called in the figure constructor.\n",
       "mpl.figure.prototype._make_on_message_function = function(fig) {\n",
       "    return function socket_on_message(evt) {\n",
       "        if (evt.data instanceof Blob) {\n",
       "            /* FIXME: We get \"Resource interpreted as Image but\n",
       "             * transferred with MIME type text/plain:\" errors on\n",
       "             * Chrome.  But how to set the MIME type?  It doesn't seem\n",
       "             * to be part of the websocket stream */\n",
       "            evt.data.type = \"image/png\";\n",
       "\n",
       "            /* Free the memory for the previous frames */\n",
       "            if (fig.imageObj.src) {\n",
       "                (window.URL || window.webkitURL).revokeObjectURL(\n",
       "                    fig.imageObj.src);\n",
       "            }\n",
       "\n",
       "            fig.imageObj.src = (window.URL || window.webkitURL).createObjectURL(\n",
       "                evt.data);\n",
       "            fig.updated_canvas_event();\n",
       "            fig.waiting = false;\n",
       "            return;\n",
       "        }\n",
       "        else if (typeof evt.data === 'string' && evt.data.slice(0, 21) == \"data:image/png;base64\") {\n",
       "            fig.imageObj.src = evt.data;\n",
       "            fig.updated_canvas_event();\n",
       "            fig.waiting = false;\n",
       "            return;\n",
       "        }\n",
       "\n",
       "        var msg = JSON.parse(evt.data);\n",
       "        var msg_type = msg['type'];\n",
       "\n",
       "        // Call the  \"handle_{type}\" callback, which takes\n",
       "        // the figure and JSON message as its only arguments.\n",
       "        try {\n",
       "            var callback = fig[\"handle_\" + msg_type];\n",
       "        } catch (e) {\n",
       "            console.log(\"No handler for the '\" + msg_type + \"' message type: \", msg);\n",
       "            return;\n",
       "        }\n",
       "\n",
       "        if (callback) {\n",
       "            try {\n",
       "                // console.log(\"Handling '\" + msg_type + \"' message: \", msg);\n",
       "                callback(fig, msg);\n",
       "            } catch (e) {\n",
       "                console.log(\"Exception inside the 'handler_\" + msg_type + \"' callback:\", e, e.stack, msg);\n",
       "            }\n",
       "        }\n",
       "    };\n",
       "}\n",
       "\n",
       "// from http://stackoverflow.com/questions/1114465/getting-mouse-location-in-canvas\n",
       "mpl.findpos = function(e) {\n",
       "    //this section is from http://www.quirksmode.org/js/events_properties.html\n",
       "    var targ;\n",
       "    if (!e)\n",
       "        e = window.event;\n",
       "    if (e.target)\n",
       "        targ = e.target;\n",
       "    else if (e.srcElement)\n",
       "        targ = e.srcElement;\n",
       "    if (targ.nodeType == 3) // defeat Safari bug\n",
       "        targ = targ.parentNode;\n",
       "\n",
       "    // jQuery normalizes the pageX and pageY\n",
       "    // pageX,Y are the mouse positions relative to the document\n",
       "    // offset() returns the position of the element relative to the document\n",
       "    var x = e.pageX - $(targ).offset().left;\n",
       "    var y = e.pageY - $(targ).offset().top;\n",
       "\n",
       "    return {\"x\": x, \"y\": y};\n",
       "};\n",
       "\n",
       "/*\n",
       " * return a copy of an object with only non-object keys\n",
       " * we need this to avoid circular references\n",
       " * http://stackoverflow.com/a/24161582/3208463\n",
       " */\n",
       "function simpleKeys (original) {\n",
       "  return Object.keys(original).reduce(function (obj, key) {\n",
       "    if (typeof original[key] !== 'object')\n",
       "        obj[key] = original[key]\n",
       "    return obj;\n",
       "  }, {});\n",
       "}\n",
       "\n",
       "mpl.figure.prototype.mouse_event = function(event, name) {\n",
       "    var canvas_pos = mpl.findpos(event)\n",
       "\n",
       "    if (name === 'button_press')\n",
       "    {\n",
       "        this.canvas.focus();\n",
       "        this.canvas_div.focus();\n",
       "    }\n",
       "\n",
       "    var x = canvas_pos.x;\n",
       "    var y = canvas_pos.y;\n",
       "\n",
       "    this.send_message(name, {x: x, y: y, button: event.button,\n",
       "                             step: event.step,\n",
       "                             guiEvent: simpleKeys(event)});\n",
       "\n",
       "    /* This prevents the web browser from automatically changing to\n",
       "     * the text insertion cursor when the button is pressed.  We want\n",
       "     * to control all of the cursor setting manually through the\n",
       "     * 'cursor' event from matplotlib */\n",
       "    event.preventDefault();\n",
       "    return false;\n",
       "}\n",
       "\n",
       "mpl.figure.prototype._key_event_extra = function(event, name) {\n",
       "    // Handle any extra behaviour associated with a key event\n",
       "}\n",
       "\n",
       "mpl.figure.prototype.key_event = function(event, name) {\n",
       "\n",
       "    // Prevent repeat events\n",
       "    if (name == 'key_press')\n",
       "    {\n",
       "        if (event.which === this._key)\n",
       "            return;\n",
       "        else\n",
       "            this._key = event.which;\n",
       "    }\n",
       "    if (name == 'key_release')\n",
       "        this._key = null;\n",
       "\n",
       "    var value = '';\n",
       "    if (event.ctrlKey && event.which != 17)\n",
       "        value += \"ctrl+\";\n",
       "    if (event.altKey && event.which != 18)\n",
       "        value += \"alt+\";\n",
       "    if (event.shiftKey && event.which != 16)\n",
       "        value += \"shift+\";\n",
       "\n",
       "    value += 'k';\n",
       "    value += event.which.toString();\n",
       "\n",
       "    this._key_event_extra(event, name);\n",
       "\n",
       "    this.send_message(name, {key: value,\n",
       "                             guiEvent: simpleKeys(event)});\n",
       "    return false;\n",
       "}\n",
       "\n",
       "mpl.figure.prototype.toolbar_button_onclick = function(name) {\n",
       "    if (name == 'download') {\n",
       "        this.handle_save(this, null);\n",
       "    } else {\n",
       "        this.send_message(\"toolbar_button\", {name: name});\n",
       "    }\n",
       "};\n",
       "\n",
       "mpl.figure.prototype.toolbar_button_onmouseover = function(tooltip) {\n",
       "    this.message.textContent = tooltip;\n",
       "};\n",
       "mpl.toolbar_items = [[\"Home\", \"Reset original view\", \"fa fa-home icon-home\", \"home\"], [\"Back\", \"Back to  previous view\", \"fa fa-arrow-left icon-arrow-left\", \"back\"], [\"Forward\", \"Forward to next view\", \"fa fa-arrow-right icon-arrow-right\", \"forward\"], [\"\", \"\", \"\", \"\"], [\"Pan\", \"Pan axes with left mouse, zoom with right\", \"fa fa-arrows icon-move\", \"pan\"], [\"Zoom\", \"Zoom to rectangle\", \"fa fa-square-o icon-check-empty\", \"zoom\"], [\"\", \"\", \"\", \"\"], [\"Download\", \"Download plot\", \"fa fa-floppy-o icon-save\", \"download\"]];\n",
       "\n",
       "mpl.extensions = [\"eps\", \"jpeg\", \"pdf\", \"png\", \"ps\", \"raw\", \"svg\", \"tif\"];\n",
       "\n",
       "mpl.default_extension = \"png\";var comm_websocket_adapter = function(comm) {\n",
       "    // Create a \"websocket\"-like object which calls the given IPython comm\n",
       "    // object with the appropriate methods. Currently this is a non binary\n",
       "    // socket, so there is still some room for performance tuning.\n",
       "    var ws = {};\n",
       "\n",
       "    ws.close = function() {\n",
       "        comm.close()\n",
       "    };\n",
       "    ws.send = function(m) {\n",
       "        //console.log('sending', m);\n",
       "        comm.send(m);\n",
       "    };\n",
       "    // Register the callback with on_msg.\n",
       "    comm.on_msg(function(msg) {\n",
       "        //console.log('receiving', msg['content']['data'], msg);\n",
       "        // Pass the mpl event to the overriden (by mpl) onmessage function.\n",
       "        ws.onmessage(msg['content']['data'])\n",
       "    });\n",
       "    return ws;\n",
       "}\n",
       "\n",
       "mpl.mpl_figure_comm = function(comm, msg) {\n",
       "    // This is the function which gets called when the mpl process\n",
       "    // starts-up an IPython Comm through the \"matplotlib\" channel.\n",
       "\n",
       "    var id = msg.content.data.id;\n",
       "    // Get hold of the div created by the display call when the Comm\n",
       "    // socket was opened in Python.\n",
       "    var element = $(\"#\" + id);\n",
       "    var ws_proxy = comm_websocket_adapter(comm)\n",
       "\n",
       "    function ondownload(figure, format) {\n",
       "        window.open(figure.imageObj.src);\n",
       "    }\n",
       "\n",
       "    var fig = new mpl.figure(id, ws_proxy,\n",
       "                           ondownload,\n",
       "                           element.get(0));\n",
       "\n",
       "    // Call onopen now - mpl needs it, as it is assuming we've passed it a real\n",
       "    // web socket which is closed, not our websocket->open comm proxy.\n",
       "    ws_proxy.onopen();\n",
       "\n",
       "    fig.parent_element = element.get(0);\n",
       "    fig.cell_info = mpl.find_output_cell(\"<div id='\" + id + \"'></div>\");\n",
       "    if (!fig.cell_info) {\n",
       "        console.error(\"Failed to find cell for figure\", id, fig);\n",
       "        return;\n",
       "    }\n",
       "\n",
       "    var output_index = fig.cell_info[2]\n",
       "    var cell = fig.cell_info[0];\n",
       "\n",
       "};\n",
       "\n",
       "mpl.figure.prototype.handle_close = function(fig, msg) {\n",
       "    fig.root.unbind('remove')\n",
       "\n",
       "    // Update the output cell to use the data from the current canvas.\n",
       "    fig.push_to_output();\n",
       "    var dataURL = fig.canvas.toDataURL();\n",
       "    // Re-enable the keyboard manager in IPython - without this line, in FF,\n",
       "    // the notebook keyboard shortcuts fail.\n",
       "    IPython.keyboard_manager.enable()\n",
       "    $(fig.parent_element).html('<img src=\"' + dataURL + '\">');\n",
       "    fig.close_ws(fig, msg);\n",
       "}\n",
       "\n",
       "mpl.figure.prototype.close_ws = function(fig, msg){\n",
       "    fig.send_message('closing', msg);\n",
       "    // fig.ws.close()\n",
       "}\n",
       "\n",
       "mpl.figure.prototype.push_to_output = function(remove_interactive) {\n",
       "    // Turn the data on the canvas into data in the output cell.\n",
       "    var dataURL = this.canvas.toDataURL();\n",
       "    this.cell_info[1]['text/html'] = '<img src=\"' + dataURL + '\">';\n",
       "}\n",
       "\n",
       "mpl.figure.prototype.updated_canvas_event = function() {\n",
       "    // Tell IPython that the notebook contents must change.\n",
       "    IPython.notebook.set_dirty(true);\n",
       "    this.send_message(\"ack\", {});\n",
       "    var fig = this;\n",
       "    // Wait a second, then push the new image to the DOM so\n",
       "    // that it is saved nicely (might be nice to debounce this).\n",
       "    setTimeout(function () { fig.push_to_output() }, 1000);\n",
       "}\n",
       "\n",
       "mpl.figure.prototype._init_toolbar = function() {\n",
       "    var fig = this;\n",
       "\n",
       "    var nav_element = $('<div/>')\n",
       "    nav_element.attr('style', 'width: 100%');\n",
       "    this.root.append(nav_element);\n",
       "\n",
       "    // Define a callback function for later on.\n",
       "    function toolbar_event(event) {\n",
       "        return fig.toolbar_button_onclick(event['data']);\n",
       "    }\n",
       "    function toolbar_mouse_event(event) {\n",
       "        return fig.toolbar_button_onmouseover(event['data']);\n",
       "    }\n",
       "\n",
       "    for(var toolbar_ind in mpl.toolbar_items){\n",
       "        var name = mpl.toolbar_items[toolbar_ind][0];\n",
       "        var tooltip = mpl.toolbar_items[toolbar_ind][1];\n",
       "        var image = mpl.toolbar_items[toolbar_ind][2];\n",
       "        var method_name = mpl.toolbar_items[toolbar_ind][3];\n",
       "\n",
       "        if (!name) { continue; };\n",
       "\n",
       "        var button = $('<button class=\"btn btn-default\" href=\"#\" title=\"' + name + '\"><i class=\"fa ' + image + ' fa-lg\"></i></button>');\n",
       "        button.click(method_name, toolbar_event);\n",
       "        button.mouseover(tooltip, toolbar_mouse_event);\n",
       "        nav_element.append(button);\n",
       "    }\n",
       "\n",
       "    // Add the status bar.\n",
       "    var status_bar = $('<span class=\"mpl-message\" style=\"text-align:right; float: right;\"/>');\n",
       "    nav_element.append(status_bar);\n",
       "    this.message = status_bar[0];\n",
       "\n",
       "    // Add the close button to the window.\n",
       "    var buttongrp = $('<div class=\"btn-group inline pull-right\"></div>');\n",
       "    var button = $('<button class=\"btn btn-mini btn-primary\" href=\"#\" title=\"Stop Interaction\"><i class=\"fa fa-power-off icon-remove icon-large\"></i></button>');\n",
       "    button.click(function (evt) { fig.handle_close(fig, {}); } );\n",
       "    button.mouseover('Stop Interaction', toolbar_mouse_event);\n",
       "    buttongrp.append(button);\n",
       "    var titlebar = this.root.find($('.ui-dialog-titlebar'));\n",
       "    titlebar.prepend(buttongrp);\n",
       "}\n",
       "\n",
       "mpl.figure.prototype._root_extra_style = function(el){\n",
       "    var fig = this\n",
       "    el.on(\"remove\", function(){\n",
       "\tfig.close_ws(fig, {});\n",
       "    });\n",
       "}\n",
       "\n",
       "mpl.figure.prototype._canvas_extra_style = function(el){\n",
       "    // this is important to make the div 'focusable\n",
       "    el.attr('tabindex', 0)\n",
       "    // reach out to IPython and tell the keyboard manager to turn it's self\n",
       "    // off when our div gets focus\n",
       "\n",
       "    // location in version 3\n",
       "    if (IPython.notebook.keyboard_manager) {\n",
       "        IPython.notebook.keyboard_manager.register_events(el);\n",
       "    }\n",
       "    else {\n",
       "        // location in version 2\n",
       "        IPython.keyboard_manager.register_events(el);\n",
       "    }\n",
       "\n",
       "}\n",
       "\n",
       "mpl.figure.prototype._key_event_extra = function(event, name) {\n",
       "    var manager = IPython.notebook.keyboard_manager;\n",
       "    if (!manager)\n",
       "        manager = IPython.keyboard_manager;\n",
       "\n",
       "    // Check for shift+enter\n",
       "    if (event.shiftKey && event.which == 13) {\n",
       "        this.canvas_div.blur();\n",
       "        event.shiftKey = false;\n",
       "        // Send a \"J\" for go to next cell\n",
       "        event.which = 74;\n",
       "        event.keyCode = 74;\n",
       "        manager.command_mode();\n",
       "        manager.handle_keydown(event);\n",
       "    }\n",
       "}\n",
       "\n",
       "mpl.figure.prototype.handle_save = function(fig, msg) {\n",
       "    fig.ondownload(fig, null);\n",
       "}\n",
       "\n",
       "\n",
       "mpl.find_output_cell = function(html_output) {\n",
       "    // Return the cell and output element which can be found *uniquely* in the notebook.\n",
       "    // Note - this is a bit hacky, but it is done because the \"notebook_saving.Notebook\"\n",
       "    // IPython event is triggered only after the cells have been serialised, which for\n",
       "    // our purposes (turning an active figure into a static one), is too late.\n",
       "    var cells = IPython.notebook.get_cells();\n",
       "    var ncells = cells.length;\n",
       "    for (var i=0; i<ncells; i++) {\n",
       "        var cell = cells[i];\n",
       "        if (cell.cell_type === 'code'){\n",
       "            for (var j=0; j<cell.output_area.outputs.length; j++) {\n",
       "                var data = cell.output_area.outputs[j];\n",
       "                if (data.data) {\n",
       "                    // IPython >= 3 moved mimebundle to data attribute of output\n",
       "                    data = data.data;\n",
       "                }\n",
       "                if (data['text/html'] == html_output) {\n",
       "                    return [cell, data, j];\n",
       "                }\n",
       "            }\n",
       "        }\n",
       "    }\n",
       "}\n",
       "\n",
       "// Register the function which deals with the matplotlib target/channel.\n",
       "// The kernel may be null if the page has been refreshed.\n",
       "if (IPython.notebook.kernel != null) {\n",
       "    IPython.notebook.kernel.comm_manager.register_target('matplotlib', mpl.mpl_figure_comm);\n",
       "}\n"
      ],
      "text/plain": [
       "<IPython.core.display.Javascript object>"
      ]
     },
     "metadata": {},
     "output_type": "display_data"
    },
    {
     "data": {
      "text/html": [
       "<img src=\"data:image/png;base64,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\">"
      ],
      "text/plain": [
       "<IPython.core.display.HTML object>"
      ]
     },
     "metadata": {},
     "output_type": "display_data"
    },
    {
     "data": {
      "text/plain": [
       "<mpl_toolkits.mplot3d.art3d.Path3DCollection at 0x115518d68>"
      ]
     },
     "execution_count": 5,
     "metadata": {},
     "output_type": "execute_result"
    }
   ],
   "source": [
    "%matplotlib notebook\n",
    "\n",
    "source = GaussianBeam(30*ureg.degree, 30*ureg.degree)\n",
    "x,y,z = source.generate(1000)\n",
    "\n",
    "fig = plt.figure()\n",
    "ax = fig.add_subplot(111, projection='3d')\n",
    "plot_unit_sphere(ax)\n",
    "\n",
    "ax.scatter(x,y,z, c='r', s=20, edgecolors='face')"
   ]
  },
  {
   "cell_type": "code",
   "execution_count": null,
   "metadata": {
    "collapsed": true
   },
   "outputs": [],
   "source": []
  }
 ],
 "metadata": {
  "kernelspec": {
   "display_name": "Python 3",
   "language": "python",
   "name": "python3"
  },
  "language_info": {
   "codemirror_mode": {
    "name": "ipython",
    "version": 3
   },
   "file_extension": ".py",
   "mimetype": "text/x-python",
   "name": "python",
   "nbconvert_exporter": "python",
   "pygments_lexer": "ipython3",
   "version": "3.5.2"
  },
  "widgets": {
   "state": {
    "027c7d01f43c41749e958ce0a9084b94": {
     "views": []
    },
    "02f6eb9c01384081ad29f2fe48486c5f": {
     "views": []
    },
    "034e701fb684405e8359742a09628fa8": {
     "views": []
    },
    "03e7a3f9bc6a4a908c05bbc3d9f371c0": {
     "views": []
    },
    "04a56167d87441fda0f22df1a82938d4": {
     "views": []
    },
    "04e0850b3ee24e209e858ca423719d50": {
     "views": []
    },
    "053f27e76e634616b2eab811addfc562": {
     "views": []
    },
    "061f3cd17af248b48792d0423137a319": {
     "views": []
    },
    "08b7173ed4a54d26baf10016d43b39b3": {
     "views": []
    },
    "091906de937a46d197010430172391c6": {
     "views": []
    },
    "094a797e6390414fb0b9617975d539e7": {
     "views": []
    },
    "09615fdadfc24abc92d9b23ac1657d7e": {
     "views": []
    },
    "0a0c78c0ba2241a9a226cdd658fbe2fa": {
     "views": []
    },
    "0a18f3f82e044606a0f127496efce35f": {
     "views": []
    },
    "0a278dbe6ca54e68a17b004e6284cf1f": {
     "views": []
    },
    "0adf4f2c3da645e4a2307ddeb598f18e": {
     "views": []
    },
    "0b23360ec3f3416499500b406c683f6e": {
     "views": []
    },
    "0baf9064e82b4bbfbf765a20dc032a61": {
     "views": []
    },
    "0c58fb05b94f445eb36a731efa40c397": {
     "views": []
    },
    "0d29f8c6a3064a8f817c9fe5cc69e872": {
     "views": []
    },
    "0d6a1c58953f4a5687acc071d8ee83b8": {
     "views": []
    },
    "0e1a5ce0649b4398840210b1cc794395": {
     "views": []
    },
    "0e22a3fd23af45838f59d385069459cb": {
     "views": []
    },
    "0e2378d5533441538038138002699208": {
     "views": []
    },
    "0e89a17a10364ce78a713dbde35f988a": {
     "views": []
    },
    "0e8a1957707a460c9062ad21011ccc99": {
     "views": []
    },
    "0e985def3c9d489986f560c105c233dd": {
     "views": []
    },
    "0f4329efe13f464eaec74dbf51b19761": {
     "views": []
    },
    "0facf2de599b473aa4b78ced30562980": {
     "views": []
    },
    "0fc54ceeffb14ec8a68a5949fccfb740": {
     "views": []
    },
    "10421c2331f14da3887fa1f84dd06476": {
     "views": []
    },
    "10524fc0494b406ca971ffb9d17f8db2": {
     "views": []
    },
    "10665a312f8b414ea9387b289ef1acdc": {
     "views": []
    },
    "11ea80315b6e4840a06da04a3ddec8c6": {
     "views": []
    },
    "1341d275b7674dd9a9c3d4407735ea1f": {
     "views": []
    },
    "13f22170577942ed9ec552e0f5272825": {
     "views": []
    },
    "1476bb16f88c4a399dabb5aab40aeb13": {
     "views": []
    },
    "1553f507b93d45cd9c78c01e534ebaa6": {
     "views": []
    },
    "156002d3091a45b0a782d11b4ea3aa64": {
     "views": []
    },
    "15f4dbb8f2b1449bb4e69f0a6df0d9f3": {
     "views": []
    },
    "16c9b643e6a044dda17fefce3862cebf": {
     "views": []
    },
    "179a7c1e29994b35bcf90a61ddf14feb": {
     "views": []
    },
    "181238c5f5c24499afb38017d14d9ba9": {
     "views": []
    },
    "18c2f7eb71f54d26bde23c90c2930f09": {
     "views": []
    },
    "19c06f9a5bfd48ab9b474b9b167455b7": {
     "views": []
    },
    "1a37e60164354c6f9f936076469284a6": {
     "views": []
    },
    "1aa5856d63c84742ae0a08df917b73d0": {
     "views": []
    },
    "1aac9afa2ecd45e3a829138ff9c30c7c": {
     "views": []
    },
    "1ab9d90a950a4dc8873e4c7a0d9d17b4": {
     "views": []
    },
    "1ad1142d29ab48c5ac35891b5d154dd6": {
     "views": []
    },
    "1b4d3e9abe294e41a50aed38a1849a93": {
     "views": []
    },
    "1b8bd678e5ac4f9d92943dce3a527dc1": {
     "views": []
    },
    "1bcfab982dd2414994d77c19239c7402": {
     "views": []
    },
    "1bfe1878224b4d618a6bc4b2f9b0f628": {
     "views": []
    },
    "1e0d859a99c345d2ac193bdfefbc8047": {
     "views": []
    },
    "1ef306d416cd47a4bed3f81a3a815d69": {
     "views": []
    },
    "20a25b83759d44e9bf6c817438847e1f": {
     "views": []
    },
    "20bda5a68a984a48bdb7be0a4143ec5c": {
     "views": []
    },
    "21d4cd40ff39406cb436cb2da00b2985": {
     "views": []
    },
    "222a802d560e4e49b6ece6f4a6538eac": {
     "views": []
    },
    "22d0b93348f84012bc4447df91caf2e1": {
     "views": []
    },
    "230a988b29a44dea92fcf02df2b11ae7": {
     "views": []
    },
    "2361a95a76094a69ace8431a79040bb2": {
     "views": []
    },
    "23e152fe8df9457aa0ef6f592fc5c379": {
     "views": []
    },
    "2409595da7b1477da82d1f42d8bfc5ff": {
     "views": []
    },
    "247da21fb08e4ae48fcaba2f9b6b9076": {
     "views": []
    },
    "24af5291cd9348878412b5158fc46855": {
     "views": []
    },
    "24d13a3b12b8446990734365d6d6ae27": {
     "views": []
    },
    "26619e8720614427865193fbd1e84a36": {
     "views": []
    },
    "2666923f37e540e0bc23fcdf68153062": {
     "views": []
    },
    "269736d2bf284734b380da035f98c580": {
     "views": []
    },
    "26ac07fb09b640c3a50706762a0a8326": {
     "views": []
    },
    "26cc4b730f144647aa814bb052d72cbf": {
     "views": []
    },
    "289ac14148084acebd7551e123dba278": {
     "views": []
    },
    "28a091c3045e48ee9dfd1915807a5058": {
     "views": []
    },
    "294a33deba994c9391c8335537106b6d": {
     "views": []
    },
    "296951058e314ebd827eaa1ac5bfcfce": {
     "views": []
    },
    "2a2bc6e029e8440ab6a8bd58b3459dfd": {
     "views": []
    },
    "2a8a7b3e15254e27a1a606df9b7f4ad8": {
     "views": []
    },
    "2e95b41dbb9f48de87ff7e7bd8030372": {
     "views": []
    },
    "2f8efb6a7a8c450d80af0b0cd6fccd37": {
     "views": []
    },
    "2fcd275dab664dada26ee40dd3eac212": {
     "views": []
    },
    "325f9f0bc4d6419d8f1c037dee478b10": {
     "views": []
    },
    "34c8d687ca2142ada12cc446152fe0b8": {
     "views": []
    },
    "351baff05f894769a8bfc0305bd1d1ee": {
     "views": []
    },
    "353087fb03b54d5e972d6bf2287c694c": {
     "views": []
    },
    "356c10d25d544625b81b1c6701363da2": {
     "views": []
    },
    "3635b8f9eb07496aac16f38a4f901c79": {
     "views": []
    },
    "3705c588e50647b9a4642d8272c54153": {
     "views": []
    },
    "37c7c93e55ad4a4893a2a1508ca8d237": {
     "views": []
    },
    "38aa70fea1ac41b48db6b0a4b8cac909": {
     "views": []
    },
    "38d789be9b6740729563eb82c5f0951d": {
     "views": []
    },
    "3b2ff776f12048899decb05e73e37f53": {
     "views": []
    },
    "3c4c72d5ffc24af298ace6184a705080": {
     "views": []
    },
    "3c8c423fed1e43299527ca3c2638c8ad": {
     "views": []
    },
    "3cd14510993e4a91bbc202497be8f66e": {
     "views": []
    },
    "3d42b9b1dd664e19ad11ecd69a22282c": {
     "views": []
    },
    "3d8fa745f3424123874101d48037efab": {
     "views": []
    },
    "3da321a025b64e7eb05d4da3dd97c042": {
     "views": []
    },
    "3db97bca6b804e00a789803f193a26b3": {
     "views": []
    },
    "3e61a677762f4a60a282cc2e0c87dea7": {
     "views": []
    },
    "4029d21af80042b0a3c4c383aa3a3343": {
     "views": []
    },
    "42610f7eb8f0441c88d3cf371aac701a": {
     "views": []
    },
    "42622db23bb74aaea39762bd1bd68552": {
     "views": []
    },
    "4313fd89f0834e90a18e9331d4bdbaab": {
     "views": []
    },
    "44035d417e0d4b0a8582de41773aa72b": {
     "views": []
    },
    "45ce928ceda04cbdb006c8c9529e2aaf": {
     "views": []
    },
    "4624c5279317408f9f36357ba1750422": {
     "views": []
    },
    "478d8b2ce1e64cf386b955ee35a21341": {
     "views": []
    },
    "48197e2de3014c79b80aa856c1fed349": {
     "views": []
    },
    "493aca77049a44778607f11b042b821d": {
     "views": []
    },
    "499cf1869b3c41c884da8dc43b17f9ef": {
     "views": []
    },
    "4acb0362f6444683ab7398215e97d229": {
     "views": []
    },
    "4ba24f23bf9243fdb02a62e93b3368df": {
     "views": []
    },
    "4c8775ca882a47c0a6de777f65b33c89": {
     "views": []
    },
    "4ca81e0bf32849b29a8e37b2cab0f163": {
     "views": []
    },
    "4cfd9373b95743b3a768ec59ec88ba15": {
     "views": []
    },
    "4d61da34871040a4aceed2334465cc0b": {
     "views": []
    },
    "4f7dc4623dbe4ffbbc8f8400b79b759d": {
     "views": []
    },
    "5019340a7ddd49ada9a2ea31fc8887ee": {
     "views": []
    },
    "5024397f929f4568bfeb51c4ae50cf28": {
     "views": [
      {
       "cell_index": 2
      }
     ]
    },
    "521de25c5e92439cb6285e8cd82ef15b": {
     "views": []
    },
    "52f8bf750cf848458776ae97b532eee5": {
     "views": []
    },
    "54045b16fa984e3b8414c411b5f50597": {
     "views": []
    },
    "542bcde441cf4bfc90ab17099e86441e": {
     "views": []
    },
    "5457980558ef48f8bf2c13afcb51c493": {
     "views": []
    },
    "55736f36f43b4dfbba60389ba241dcf6": {
     "views": []
    },
    "55bd8fe8f69047449c4352f3f909adce": {
     "views": []
    },
    "584980f0acd04279a9b950cebe78d727": {
     "views": []
    },
    "5883c60ca8e34c03b56ad00b8102e383": {
     "views": []
    },
    "58b5bd0cfe054597b7c1bcd90c634a56": {
     "views": []
    },
    "598cb7156d1e491da56e9bae0fe3671c": {
     "views": []
    },
    "59b33e37e932468ba13c0119271f44a7": {
     "views": []
    },
    "5a0a2c2b2dc74872a006d6a51562aeb2": {
     "views": []
    },
    "5bd0ee12559c47e7b5482b1e9e8a99bf": {
     "views": []
    },
    "5c56c7b0e6b648cfb90e8cea03001ec1": {
     "views": []
    },
    "5d2c3d63ab574241b3f94c982cc46ac5": {
     "views": []
    },
    "5dcaa203ee304c8986b72aad51261540": {
     "views": []
    },
    "5e15f2d8d25241f0807552d5a048947d": {
     "views": []
    },
    "5e22541d8a984a408932ebeeb408d145": {
     "views": []
    },
    "5e361ccbe24e4898bb1b6b2d5a565572": {
     "views": []
    },
    "5ef6591884464964a9c236c439e14e89": {
     "views": []
    },
    "5f48f47448c44de480cd732c36588d2c": {
     "views": []
    },
    "5f81e0b7512f4f8fa9531baa405e64c7": {
     "views": []
    },
    "60c8a8ac24e74a89b8aee633c47696a8": {
     "views": []
    },
    "6154b414f3b24452aa88a2685e32fced": {
     "views": []
    },
    "61bdd107012b416d9a2e3ade11d7ab63": {
     "views": []
    },
    "625741d8cb4d45bfab591aaa9518f8e1": {
     "views": []
    },
    "63265f97312b41778f8be241c99c39d2": {
     "views": []
    },
    "6475ab8843344d85b25867f43d9cfacd": {
     "views": []
    },
    "648766e67004448eb4ebd90d5e8119af": {
     "views": []
    },
    "6573c7987b95467caaf2809085f845ad": {
     "views": []
    },
    "658310403b4d4cb2b27672fc2a90ba63": {
     "views": []
    },
    "65927cd6d6254f86b95ff819c4592886": {
     "views": []
    },
    "671fcf79b0a5478f878d399c2f6185c8": {
     "views": []
    },
    "678b7fa7f4904b4bbf8deb32df617763": {
     "views": []
    },
    "67c2c0dff4784f5a84de876a9d9bd3bf": {
     "views": []
    },
    "68135197327a4b5580406f1a1d161f18": {
     "views": []
    },
    "685a06ec39574225891018bd7b895b0c": {
     "views": []
    },
    "6b9118632a54401bab4ddb238dc69bf8": {
     "views": []
    },
    "6d105d3b3e0a4694aabb3564418b5811": {
     "views": []
    },
    "6dfad63f78414b798d0874f0ed1af196": {
     "views": []
    },
    "6e0aa63ec28d42d593376dfb651a9b0a": {
     "views": []
    },
    "6ea4e81fe6424408b28b5d6cec5e2803": {
     "views": []
    },
    "6f82418ff35a4c45821b8aa6bc9f940b": {
     "views": []
    },
    "7073d64f033c42ef9815cb6b09fcbb04": {
     "views": []
    },
    "716083b6096e431babe9a3710ed1bb73": {
     "views": []
    },
    "72206c814a62413f946564768abd5dd7": {
     "views": []
    },
    "74644f26996943908325ba54f052b496": {
     "views": []
    },
    "7586f91b8c1242b68a53239e2f488c3b": {
     "views": []
    },
    "75b7bddc3ef642bca527d5064bf903fe": {
     "views": []
    },
    "761cb01a377d48da8928af86cbef291f": {
     "views": []
    },
    "7623dd08e83e45e899f85c5ea4f15496": {
     "views": []
    },
    "765c61b028614b9083ec052bd61489f3": {
     "views": []
    },
    "769a351cadf045a7aac18a91baafa9d9": {
     "views": []
    },
    "7745fae8136f47a78760bb9969d3a82b": {
     "views": []
    },
    "775dc22669ef402782d7528013ad6fbc": {
     "views": []
    },
    "776983ecf8fe469ab57ac85b5f2bd1ae": {
     "views": []
    },
    "77e94cd26f184643ba917b764bc122c2": {
     "views": []
    },
    "7a54cfdb0e854405b4638db90a4a3a2d": {
     "views": []
    },
    "7a67b74075d3414bbff608fe40c06781": {
     "views": []
    },
    "7c1fc52f6adb4976bba55f1488be1879": {
     "views": []
    },
    "7ccfacbfc550452091066c2b317c7887": {
     "views": []
    },
    "7d06c5e9e80849cf9322822d1eb45acd": {
     "views": []
    },
    "7ec033cd01964c5ba10206807bf5735f": {
     "views": []
    },
    "7f437d9d6d184c4d8df73248dde97f67": {
     "views": []
    },
    "7fc10cb43c2d473c97c9967fe0bfca82": {
     "views": []
    },
    "7fece30885d64a51bd5133d0d5764801": {
     "views": []
    },
    "8056c37530f1486f88b52970538e7a22": {
     "views": []
    },
    "80721d2c8a374d54839bfc8ba4457f27": {
     "views": []
    },
    "80bcba2004954493a035e9f0668d1940": {
     "views": []
    },
    "810ffc28e22040edbd508f27471b38ad": {
     "views": []
    },
    "811acb2fd521482dbda6970b01aca7af": {
     "views": []
    },
    "8122c778bed3482fba68c592bebbbe2d": {
     "views": []
    },
    "82b4881c3b7f49569ed951645470858d": {
     "views": []
    },
    "83ffd61884634bdd901dec1cfc5c3e86": {
     "views": []
    },
    "8410081d6e5b40cbab53fab83a3b4760": {
     "views": []
    },
    "8486a1954c9e4374860b5520278dd017": {
     "views": []
    },
    "8502d1631c3b4e46a92ad31c26b8b834": {
     "views": []
    },
    "85109432627447f78e716c4b7c43cc92": {
     "views": []
    },
    "860b62f94ff847c7b34ff65ec17a93ee": {
     "views": []
    },
    "86314d89892c407ba9a207e14dd9671b": {
     "views": []
    },
    "866e1863cb364431b667ddc1e6b91eee": {
     "views": []
    },
    "86a74963aad44cf18ccd7e3f24bd2dfa": {
     "views": []
    },
    "86df149ecb0d473e9d6d07136335a5ef": {
     "views": []
    },
    "87222df8e00449459489e8851886a407": {
     "views": []
    },
    "87610270577944c2b0692df75ad4f1fe": {
     "views": []
    },
    "87fb4b80b3644318ab1f0e7c90f9a23d": {
     "views": []
    },
    "884e33ab7a664bcd944f787145b0b2b7": {
     "views": []
    },
    "8b7521921ca849728679bf7e583081a0": {
     "views": []
    },
    "8d566e53f6954970b1d7bf87b190b4eb": {
     "views": []
    },
    "8d7b010353cb4ade8962eccf519367c5": {
     "views": []
    },
    "8e22b7db6b724242ba3ec9d8e0688c37": {
     "views": []
    },
    "8e4d3761042345cd8cee1437f6de33d3": {
     "views": []
    },
    "8f4dbb1c0a9e4d379a655ea235db276e": {
     "views": []
    },
    "9077caf81c7d4dd5bc09e3442dd61590": {
     "views": []
    },
    "924b2adcd8f448a5bee01d79b9a6e548": {
     "views": []
    },
    "92e199fb43b5485985cdc83fd0dbc855": {
     "views": []
    },
    "931bba6062364f2fab7e3dbf660388bd": {
     "views": []
    },
    "96607afa585346b88e7fe61656f6849f": {
     "views": []
    },
    "96811ed0c84b42b98fa100592fbb1062": {
     "views": []
    },
    "96d87e93b98644f68cd0a32e5a15b5b1": {
     "views": []
    },
    "972905570a564de28b0a6c713beffda1": {
     "views": []
    },
    "9794c827b163497ba67c5fe2d72764ca": {
     "views": []
    },
    "979b07d9634f4821be38336c25739406": {
     "views": []
    },
    "981bc625fb324902bc9b32da20775d39": {
     "views": []
    },
    "98553485af0a46fc8ecfe12c753e441c": {
     "views": []
    },
    "99099c05888c4f67ba5cda0c436a1efe": {
     "views": []
    },
    "990e58d0470b4906a098d6c8540f32a5": {
     "views": []
    },
    "991682c754bf454b938283c08d8123fa": {
     "views": []
    },
    "992f33dfbbc84567b61d4e1b9d68c4bd": {
     "views": []
    },
    "9991a7e4f65d44d7950da65413e0faec": {
     "views": []
    },
    "99944138acb34a5ab74ffedc7ac996d6": {
     "views": []
    },
    "9a25b1746de3484eaa9fd35b866bf1bb": {
     "views": []
    },
    "9a34478617ec4e99a52c54df08268c8b": {
     "views": []
    },
    "9a4281b8e37b40da87c4fe5f11cf80b4": {
     "views": []
    },
    "9c0eb5eadeda46c68d10b65f86561e21": {
     "views": []
    },
    "9c0fd3d4f26e451c9ed2173dbfbf686b": {
     "views": []
    },
    "9c811c5b97bb4f269346098f8f8de8f3": {
     "views": []
    },
    "9c8f5a70ac24489080687b4cf8d8aad2": {
     "views": []
    },
    "9d77d90b35f449c9b8799dcb10d4e524": {
     "views": []
    },
    "9e451ecda6d94d478a1803dfb7116c42": {
     "views": []
    },
    "9e531d382b1846deaafd9174fb7a08c6": {
     "views": []
    },
    "a0243209ae274a19b433f1ff6b185239": {
     "views": []
    },
    "a06d09a18ff440fea3a6fc7d88952a68": {
     "views": []
    },
    "a1bd1b922c324907837d4ccd2cf4d482": {
     "views": []
    },
    "a26ad8a063bd4094af471833a5f81986": {
     "views": []
    },
    "a3ce16131cba4d419244f12649e5eca2": {
     "views": []
    },
    "a7a86ff770cd47bc8dc2c79c7e742793": {
     "views": []
    },
    "a7aadb48887d45419fee1ae854878501": {
     "views": []
    },
    "a8180fc55033446ba56f1b70c3da4c37": {
     "views": []
    },
    "a81e89685b8d44148a1ed77828ede847": {
     "views": []
    },
    "a83872a75f6e44f99616a1bb78c01e3e": {
     "views": []
    },
    "a842f5138e304fbd942829a99d5e07dd": {
     "views": []
    },
    "a87d1dc43df14cd48c29ae647ed4b2fd": {
     "views": []
    },
    "a8a7881972d743e6abdd6db0fe25db82": {
     "views": []
    },
    "a8e562897b144d7fb8501215e8827871": {
     "views": []
    },
    "a98fea1ef788436d98d1a1a7af2fd6d5": {
     "views": []
    },
    "a9a6f61803aa48e48e330ea1d72281cb": {
     "views": []
    },
    "a9eedd28270a4a1a8b8f9be7b90ecc7c": {
     "views": []
    },
    "ab06fe7f59b04d8e807d5ca2e48b6a99": {
     "views": []
    },
    "aba4549efe5b48a5bae1df96d3d82212": {
     "views": []
    },
    "ac9cd8139d304499a24728541dc5d92f": {
     "views": []
    },
    "ad3813a26c9243a7b779a716d8186665": {
     "views": []
    },
    "ae5ee813d2dd4f31b8878771faf4fa89": {
     "views": []
    },
    "aef58f20b64b49dba62f88a9a21055e9": {
     "views": []
    },
    "af4f8ced6df442c1a2ce04b8c5198f39": {
     "views": []
    },
    "afac19f2d1f34aad9a590b47a0a5f1a3": {
     "views": []
    },
    "afd8b5196b1641cf9f796bab5e5cb0b0": {
     "views": []
    },
    "b032f87d855e4198afbb12beabd6ac2a": {
     "views": []
    },
    "b06601f2eebd4b9bb5f4dfb26e643838": {
     "views": []
    },
    "b07b9d786d92479fb1d9ab649e9d3de1": {
     "views": []
    },
    "b0fcbb37212c479c977410276c10be1e": {
     "views": []
    },
    "b127ee11781c47639a932d4c21364a83": {
     "views": []
    },
    "b1f76151ff4d4fed8cde735d64758d3a": {
     "views": []
    },
    "b23f9851027a46d1aaded2a08a49b9fd": {
     "views": []
    },
    "b2f974e7643f4f4ea7764ff92087d38a": {
     "views": []
    },
    "b370a1227bd04fba8a5af22ffd4d7f66": {
     "views": []
    },
    "b39e8bb5bb2541738e07ec06c1e43f18": {
     "views": []
    },
    "b4c5ab460c5649519156e1e24ee0307b": {
     "views": []
    },
    "b561369d1ad841cdbb9c07e2c44be5f2": {
     "views": []
    },
    "b5dcaecd7fb9450194298d85b335b193": {
     "views": []
    },
    "b6dffc974fac432faccdb6786a33f4ad": {
     "views": []
    },
    "b7065d142ecc4cb5bf33947fe83a6e3f": {
     "views": []
    },
    "b799254f9220493995b6bce2b1a5e60c": {
     "views": []
    },
    "b7a4d91c3dae45a8831d26458cff8e86": {
     "views": []
    },
    "b7f1758bf63d41d0a3aa1a6c86d9dc4c": {
     "views": []
    },
    "b88046e0a963407296cbf57f99cdf989": {
     "views": []
    },
    "b9112bf1e2e548fe94a5d94812000dca": {
     "views": []
    },
    "b951f0b211b247438d8d59beb02b24d1": {
     "views": []
    },
    "b9545d28f67f43bead03123962d28e05": {
     "views": []
    },
    "b9ed9e81940543a2bdcbb426540db88a": {
     "views": []
    },
    "bc6704a3cc3d464dbf5711b1eb782afd": {
     "views": []
    },
    "bd096220a1cd4d6982cea234697b2975": {
     "views": []
    },
    "bd0d785088394cbaab6e12a2490fe603": {
     "views": []
    },
    "bd92a9237b4249ac9551852d017b6b35": {
     "views": []
    },
    "be588263d0d542338620f1633e8d0c94": {
     "views": []
    },
    "bf88f12fc6384bd8bf33eaba66e212d8": {
     "views": []
    },
    "bff39a6914ac43c49eafed658b480709": {
     "views": []
    },
    "c007b62a33df40f387b6b0e236c1ceb4": {
     "views": []
    },
    "c00a20e7195f4b1eb4020e84e9df43d7": {
     "views": []
    },
    "c0c17b1c489c4e1cb3e3434412d8d806": {
     "views": []
    },
    "c0e30c4649d2443eaf0b497e7589c3e3": {
     "views": []
    },
    "c12e3432f17e4ebf850e091cb5a13953": {
     "views": []
    },
    "c1663d0c1eab442fb4d90ca06cffb3df": {
     "views": []
    },
    "c1c332e13aed44e698ccdc4735674f0f": {
     "views": []
    },
    "c216e3c736a24b0098f5bfbdd665241f": {
     "views": []
    },
    "c22b6668396b4f1880b0d72bc3a69569": {
     "views": []
    },
    "c2abfab47d4949e6b1587b97ac6e2e2c": {
     "views": []
    },
    "c3180745998a470f8654a88e4bac2609": {
     "views": []
    },
    "c3356d2c3af74fbe81cf56c7c1235fee": {
     "views": []
    },
    "c35520784b07476cb6af83b527d5a38a": {
     "views": []
    },
    "c3723813fd42413ebeaa50fa5a50b2c0": {
     "views": []
    },
    "c3e2d416f43f40f9a7f322980a05abf6": {
     "views": []
    },
    "c52f262f509e4a898c494667fb6f0312": {
     "views": []
    },
    "c572c31e8fcd4dccafb74eace45d6898": {
     "views": []
    },
    "c632008c824a4304a3daa68632d7f84c": {
     "views": []
    },
    "c66bc21b93e94dd3a88c9682f328048d": {
     "views": []
    },
    "c6d7726220dc44e3a286b437e1d3c66f": {
     "views": []
    },
    "c78924d5f2cd4a038a75eb6e8d6df230": {
     "views": []
    },
    "c8132e61f23d418b8d1f3bcadfab4ae2": {
     "views": []
    },
    "c90a62780b5d4a15b50daf26f2d859fd": {
     "views": []
    },
    "c98f5875f780459ab40cc39a31033a3f": {
     "views": []
    },
    "c9ba16d92df44b2fb4ce81b8b768d36b": {
     "views": []
    },
    "ca32e6086b144b0db6682f581b3c5a96": {
     "views": []
    },
    "ca6d73f25358435da314425d58234906": {
     "views": []
    },
    "ca995f8d97c243feb3ad99cb18296502": {
     "views": []
    },
    "cb2009ac959d4fb985b5a3e1cab330ce": {
     "views": []
    },
    "cba82b0d3d8f483389a87784f9aa62a1": {
     "views": []
    },
    "cbe339a89e444380895ad26befed1312": {
     "views": []
    },
    "cc3769cc61524443b2242c49ae6fc822": {
     "views": []
    },
    "cc88656eca7f48729fecfe41f1591463": {
     "views": []
    },
    "cc8a35040c754d0f9f236eb66ac7fbcd": {
     "views": []
    },
    "cd650874666d4392b7560594f058568b": {
     "views": []
    },
    "cd9c3ebfa7f44cb9a9ee0046140869a7": {
     "views": []
    },
    "ceceb107b87749509c8afbaf1ddb40ce": {
     "views": []
    },
    "ceebd5bd93af41adb04bd137bd762a33": {
     "views": []
    },
    "cef8059ff0714d86b993229fe25f9d14": {
     "views": []
    },
    "cf2a18aa889d4944a087b38092aa5262": {
     "views": []
    },
    "cf2f19898dec4302a807d5a322758263": {
     "views": []
    },
    "d0514366c4f1425d8a9f3265477647cd": {
     "views": []
    },
    "d11363b3d8e64636840544f9f0d0efcb": {
     "views": []
    },
    "d1e0d560ea504e0582ae5dd81e86cf76": {
     "views": []
    },
    "d28ccbdb657945179443bf2e75a4197f": {
     "views": []
    },
    "d3786570da524929ab61ec0425d4e32c": {
     "views": []
    },
    "d3ece62c6a834d01a3e5c264b883ce01": {
     "views": []
    },
    "d4833963790c4b25b4b54b1668d78fcf": {
     "views": []
    },
    "d517dbe53702441180c2fd39c24408cf": {
     "views": []
    },
    "d76ff567b4794992ada8a7bb6b6ef324": {
     "views": []
    },
    "d81110b4b7d2433f979678478563c103": {
     "views": []
    },
    "d922e317c8704d968685f65e0e1c0629": {
     "views": []
    },
    "d9699b51bc6c4cd2b5fa20c1ac11b56a": {
     "views": []
    },
    "d98e1aef93994b74af8396fa081d310f": {
     "views": []
    },
    "da192583c623452291b822d4c958dedf": {
     "views": []
    },
    "db05c10208eb4521a7996458e0b8c6dd": {
     "views": []
    },
    "dbc4d1791f1544b49f399bf9d555d7fa": {
     "views": []
    },
    "dbfcf6499e514c30ae7ab0f9ada74a43": {
     "views": []
    },
    "dcb5e97a64ad4e07b1b1f7aca775f0a3": {
     "views": []
    },
    "df9246b512884c0bb62c1e51c2313f05": {
     "views": []
    },
    "e0783e5a33d84fc7b2e283cedd7d1e88": {
     "views": []
    },
    "e0a2582e285f41d297dfa55c7a6c3cb4": {
     "views": []
    },
    "e0bcf26b231249e5be1f49781d2fbde1": {
     "views": []
    },
    "e1467ba1761741888bcf1dd62fa401c2": {
     "views": []
    },
    "e1ccafbdd9ee4a82ae5da92ef209b566": {
     "views": []
    },
    "e44737bf12d44ff68d0bc1942c3d22f6": {
     "views": []
    },
    "e458b5b4dbd14508b3450de06ad74b84": {
     "views": []
    },
    "e48fcb6a11ef4aceb50e5d09c4082814": {
     "views": []
    },
    "e53478cbc74943fb9e12298f9d266b4b": {
     "views": []
    },
    "e535cd7141bf4fc5ab91098a7ecd4291": {
     "views": []
    },
    "e553b74841844d08a2a0e7e45533cd7f": {
     "views": []
    },
    "e55adf991b0d4075a51dab64e5387a48": {
     "views": []
    },
    "e564277dab4f464d9c2148742af1f3da": {
     "views": []
    },
    "e5f438e81b58414eb6811ea7edb99d46": {
     "views": []
    },
    "e625e64fcf8f4e51b48f9cbcfc1b97f0": {
     "views": []
    },
    "e6592ad41fc0457a855a053bde13fe4f": {
     "views": []
    },
    "e73e9f674c0b480ca623d5b6e4adc380": {
     "views": []
    },
    "e76fd279061b4b7eaa55646fbdd04977": {
     "views": []
    },
    "e7a161548d014816aaac41e6fba3c429": {
     "views": []
    },
    "e88170bbb1bd4b838971b2670b069c64": {
     "views": []
    },
    "e889e74c60dc42eab47a3c7889440740": {
     "views": []
    },
    "e8a45a2e84c9474db4ade28c8f018b44": {
     "views": []
    },
    "e8c183bbbd364142b34fbaa834b7a4a6": {
     "views": []
    },
    "eb040980ef1745f3952691ea95085c9e": {
     "views": []
    },
    "ebf8417f6c6345b09a956afc74a4066c": {
     "views": []
    },
    "ec44ce94dc884cf8a9fbd71027acab33": {
     "views": []
    },
    "ec5ff6a53a5548f0bd42e798a7655f85": {
     "views": []
    },
    "edd1b198b091447bb9258075f8ad116c": {
     "views": []
    },
    "ee992ee049344f0da37585f538417c2d": {
     "views": []
    },
    "f07315ec805843af8d27c253eb76dd14": {
     "views": []
    },
    "f0972f4565474a418d343c90908cd8b3": {
     "views": []
    },
    "f0e0a02430334a8cad3fda29d0e745c4": {
     "views": []
    },
    "f0ecd0cd65f14171a518405af1b12573": {
     "views": []
    },
    "f10992bb7b2d467da5cd612bdf202b38": {
     "views": []
    },
    "f390a11a1cb848aa929c970a67e74f7a": {
     "views": []
    },
    "f41adcabd486461581cf13b31d95a1d1": {
     "views": []
    },
    "f4591f4d0e27446cac8e31dcdccd6c96": {
     "views": []
    },
    "f49f4b4a65a548c5a67bba1dafa53af3": {
     "views": []
    },
    "f4b17caf64d245ed8c5c053098c0d28d": {
     "views": []
    },
    "f502e05629534672a2b19045c281f827": {
     "views": []
    },
    "f66a11399bde4d02b919fed2558179c9": {
     "views": []
    },
    "f74ec6a80d4649b8a0121d76c8695135": {
     "views": []
    },
    "f7c9f54e1a7346969c8fe52105a2ae8c": {
     "views": []
    },
    "f94e986c0f004145be73a165e1e274dc": {
     "views": []
    },
    "f965f6809b954bd7a1bcd11b52eecce0": {
     "views": []
    },
    "fa4c6e33efc248858b6ebf6d936aff95": {
     "views": []
    },
    "fa7e1ada4b174d139ca2cd5cf5c5bf7e": {
     "views": []
    },
    "fce42d0a16d84090b8f8b48bdd9de2bd": {
     "views": []
    },
    "fd43cc3369a24375b939a26530354484": {
     "views": []
    },
    "fd4810c3d3074cc78684131e44282711": {
     "views": []
    },
    "fe9751e4fb294fc39a09e98916793f64": {
     "views": []
    },
    "ff0b82c5162442fd8c2e866cbd2e7a74": {
     "views": []
    },
    "ff16c91cb50d47cabab6f23fb3576075": {
     "views": []
    },
    "ff27ab725e3345389e78399ff96cb205": {
     "views": []
    },
    "ff7c59d2fe974ad9ae45a6bd19a9c3ce": {
     "views": []
    },
    "ffb7ac226ea44e4490b59b2b754c9e1f": {
     "views": []
    },
    "ffdac1d42acd4d8286c1285f94fce662": {
     "views": []
    }
   },
   "version": "1.1.2"
  }
 },
 "nbformat": 4,
 "nbformat_minor": 0
}
